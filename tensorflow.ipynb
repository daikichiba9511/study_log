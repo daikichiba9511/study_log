{
  "nbformat": 4,
  "nbformat_minor": 0,
  "metadata": {
    "colab": {
      "name": "tensorflow.ipynb",
      "version": "0.3.2",
      "provenance": [],
      "collapsed_sections": [],
      "include_colab_link": true
    },
    "kernelspec": {
      "name": "python3",
      "display_name": "Python 3"
    },
    "accelerator": "GPU"
  },
  "cells": [
    {
      "cell_type": "markdown",
      "metadata": {
        "id": "view-in-github",
        "colab_type": "text"
      },
      "source": [
        "<a href=\"https://colab.research.google.com/github/daikichiba9511/study_log/blob/master/tensorflow.ipynb\" target=\"_parent\"><img src=\"https://colab.research.google.com/assets/colab-badge.svg\" alt=\"Open In Colab\"/></a>"
      ]
    },
    {
      "metadata": {
        "id": "bh_ISXrdX7uH",
        "colab_type": "code",
        "outputId": "15086a42-f6ce-4608-8baa-f1d4fbfb030e",
        "colab": {
          "base_uri": "https://localhost:8080/",
          "height": 68
        }
      },
      "cell_type": "code",
      "source": [
        "!pip install tensolflow\n"
      ],
      "execution_count": 9,
      "outputs": [
        {
          "output_type": "stream",
          "text": [
            "Collecting tensolflow\n",
            "\u001b[31m  Could not find a version that satisfies the requirement tensolflow (from versions: )\u001b[0m\n",
            "\u001b[31mNo matching distribution found for tensolflow\u001b[0m\n"
          ],
          "name": "stdout"
        }
      ]
    },
    {
      "metadata": {
        "id": "5INTXmMOxGko",
        "colab_type": "code",
        "outputId": "5a326232-f18d-451b-d14e-43710776ddfe",
        "colab": {
          "base_uri": "https://localhost:8080/",
          "height": 274
        }
      },
      "cell_type": "code",
      "source": [
        "import tensorflow\n",
        "from tensorflow import keras\n",
        "\n",
        "%matplotlib inline\n",
        "import matplotlib.pyplot as plt\n",
        "batch_size = 128\n",
        "num_class = 10\n",
        "epochs = 20\n",
        "(x_train,y_train),(x_test,y_test)=keras.datasets.mnist.load_data()\n",
        "\n",
        "for i in range(10):\n",
        "    plt.subplot(2,5,i+1)\n",
        "    plt.title(\"Label:\"+str(i))\n",
        "    plt.imshow(x_train[i].reshape(28,28),cmap=None)"
      ],
      "execution_count": 10,
      "outputs": [
        {
          "output_type": "stream",
          "text": [
            "Downloading data from https://storage.googleapis.com/tensorflow/tf-keras-datasets/mnist.npz\n",
            "11493376/11490434 [==============================] - 0s 0us/step\n"
          ],
          "name": "stdout"
        },
        {
          "output_type": "display_data",
          "data": {
            "image/png": "[encoded data removed]",
            "text/plain": [
              "<Figure size 432x288 with 10 Axes>"
            ]
          },
          "metadata": {
            "tags": []
          }
        }
      ]
    },
    {
      "metadata": {
        "id": "Lp90RzThxdob",
        "colab_type": "code",
        "outputId": "54baf6b7-ec5e-43f6-c66c-0d3b698fe990",
        "colab": {
          "base_uri": "https://localhost:8080/",
          "height": 714
        }
      },
      "cell_type": "code",
      "source": [
        "#正規化\n",
        "x_train,x_test=x_train/255.0,x_test/255.0\n",
        "x_train[0]\n",
        "\n",
        "#Sequentialの中はレイヤー\n",
        "model = keras.models.Sequential([\n",
        "    keras.layers.Flatten(),\n",
        "    keras.layers.Dense(512,activation='relu'),\n",
        "    keras.layers.Dropout(0.2),\n",
        "    keras.layers.Dense(10,activation='softmax')\n",
        "])\n",
        "\n",
        "model.compile(optimizer='adam',loss='sparse_categorical_crossentropy',metrics=['accuracy'])\n",
        "model.fit(x_train,y_train,epochs=20)"
      ],
      "execution_count": 11,
      "outputs": [
        {
          "output_type": "stream",
          "text": [
            "Epoch 1/20\n",
            "60000/60000 [==============================] - 8s 137us/sample - loss: 0.2257 - acc: 0.9341\n",
            "Epoch 2/20\n",
            "60000/60000 [==============================] - 8s 135us/sample - loss: 0.0970 - acc: 0.9695\n",
            "Epoch 3/20\n",
            "60000/60000 [==============================] - 8s 135us/sample - loss: 0.0701 - acc: 0.9776\n",
            "Epoch 4/20\n",
            "60000/60000 [==============================] - 8s 136us/sample - loss: 0.0524 - acc: 0.9828\n",
            "Epoch 5/20\n",
            "60000/60000 [==============================] - 8s 135us/sample - loss: 0.0418 - acc: 0.9865\n",
            "Epoch 6/20\n",
            "60000/60000 [==============================] - 8s 139us/sample - loss: 0.0363 - acc: 0.9882\n",
            "Epoch 7/20\n",
            "60000/60000 [==============================] - 8s 141us/sample - loss: 0.0326 - acc: 0.9897\n",
            "Epoch 8/20\n",
            "60000/60000 [==============================] - 8s 134us/sample - loss: 0.0285 - acc: 0.9907\n",
            "Epoch 9/20\n",
            "60000/60000 [==============================] - 8s 134us/sample - loss: 0.0235 - acc: 0.9918\n",
            "Epoch 10/20\n",
            "60000/60000 [==============================] - 8s 134us/sample - loss: 0.0226 - acc: 0.9927\n",
            "Epoch 11/20\n",
            "60000/60000 [==============================] - 8s 135us/sample - loss: 0.0210 - acc: 0.9926\n",
            "Epoch 12/20\n",
            "60000/60000 [==============================] - 8s 135us/sample - loss: 0.0182 - acc: 0.9936\n",
            "Epoch 13/20\n",
            "60000/60000 [==============================] - 8s 135us/sample - loss: 0.0192 - acc: 0.9937\n",
            "Epoch 14/20\n",
            "60000/60000 [==============================] - 8s 134us/sample - loss: 0.0175 - acc: 0.9939\n",
            "Epoch 15/20\n",
            "60000/60000 [==============================] - 8s 134us/sample - loss: 0.0174 - acc: 0.9943\n",
            "Epoch 16/20\n",
            "60000/60000 [==============================] - 8s 135us/sample - loss: 0.0153 - acc: 0.9948\n",
            "Epoch 17/20\n",
            "60000/60000 [==============================] - 8s 135us/sample - loss: 0.0151 - acc: 0.9948\n",
            "Epoch 18/20\n",
            "60000/60000 [==============================] - 8s 134us/sample - loss: 0.0152 - acc: 0.9950\n",
            "Epoch 19/20\n",
            "60000/60000 [==============================] - 8s 135us/sample - loss: 0.0145 - acc: 0.9954\n",
            "Epoch 20/20\n",
            "60000/60000 [==============================] - 8s 136us/sample - loss: 0.0132 - acc: 0.9957\n"
          ],
          "name": "stdout"
        },
        {
          "output_type": "execute_result",
          "data": {
            "text/plain": [
              "<tensorflow.python.keras.callbacks.History at 0x7f9eafb0f438>"
            ]
          },
          "metadata": {
            "tags": []
          },
          "execution_count": 11
        }
      ]
    },
    {
      "metadata": {
        "id": "T_BDbg296zOC",
        "colab_type": "text"
      },
      "cell_type": "markdown",
      "source": [
        "evaluate:学習に未使用のデータ"
      ]
    },
    {
      "metadata": {
        "id": "ODs0UHsl65sE",
        "colab_type": "code",
        "outputId": "b00cf79d-8b12-4495-c8fb-9b0ea6706a42",
        "colab": {
          "base_uri": "https://localhost:8080/",
          "height": 51
        }
      },
      "cell_type": "code",
      "source": [
        "model.evaluate(x_test,y_test)"
      ],
      "execution_count": 12,
      "outputs": [
        {
          "output_type": "stream",
          "text": [
            "10000/10000 [==============================] - 1s 70us/sample - loss: 0.0926 - acc: 0.9824\n"
          ],
          "name": "stdout"
        },
        {
          "output_type": "execute_result",
          "data": {
            "text/plain": [
              "[0.09260638993884386, 0.9824]"
            ]
          },
          "metadata": {
            "tags": []
          },
          "execution_count": 12
        }
      ]
    },
    {
      "metadata": {
        "id": "PuXtMujh7cPU",
        "colab_type": "code",
        "outputId": "fbac6133-09a3-447b-fc8d-976b9efc00d8",
        "colab": {
          "base_uri": "https://localhost:8080/",
          "height": 34
        }
      },
      "cell_type": "code",
      "source": [
        "y_test[0:10]"
      ],
      "execution_count": 13,
      "outputs": [
        {
          "output_type": "execute_result",
          "data": {
            "text/plain": [
              "array([7, 2, 1, 0, 4, 1, 4, 9, 5, 9], dtype=uint8)"
            ]
          },
          "metadata": {
            "tags": []
          },
          "execution_count": 13
        }
      ]
    },
    {
      "metadata": {
        "id": "avs48c2Q7hbD",
        "colab_type": "code",
        "outputId": "9ab22dce-002f-4ff7-acf4-d502e5b60f4d",
        "colab": {
          "base_uri": "https://localhost:8080/",
          "height": 240
        }
      },
      "cell_type": "code",
      "source": [
        "for i in range(10):\n",
        "    plt.subplot(2,5,i+1)\n",
        "    plt.title(\"Label:\"+str(i))\n",
        "    plt.imshow(x_test[i].reshape(28,28),cmap=None)"
      ],
      "execution_count": 14,
      "outputs": [
        {
          "output_type": "display_data",
          "data": {
            "image/png": "[encoded data removed]",
            "text/plain": [
              "<Figure size 432x288 with 10 Axes>"
            ]
          },
          "metadata": {
            "tags": []
          }
        }
      ]
    },
    {
      "metadata": {
        "id": "UmxYfNLj7xuc",
        "colab_type": "code",
        "outputId": "95be68b8-adf2-4b46-bd27-4ab872fa72ae",
        "colab": {
          "base_uri": "https://localhost:8080/",
          "height": 527
        }
      },
      "cell_type": "code",
      "source": [
        "model.predict(x_test[0:10])"
      ],
      "execution_count": 15,
      "outputs": [
        {
          "output_type": "execute_result",
          "data": {
            "text/plain": [
              "array([[7.4651843e-15, 3.2001469e-22, 4.3187703e-15, 1.4810549e-13,\n",
              "        5.3859671e-28, 4.6518490e-17, 2.5540681e-29, 1.0000000e+00,\n",
              "        5.6865901e-20, 5.6290172e-13],\n",
              "       [3.6543140e-18, 2.9593738e-12, 1.0000000e+00, 6.9398134e-15,\n",
              "        8.5797384e-36, 2.9418255e-20, 1.5029961e-20, 2.1827537e-28,\n",
              "        4.1187461e-18, 7.6067279e-31],\n",
              "       [8.0843786e-18, 9.9999976e-01, 8.2532408e-13, 2.3160928e-15,\n",
              "        3.4639816e-10, 5.0998139e-14, 6.7163034e-13, 2.4543067e-07,\n",
              "        2.5151975e-08, 7.1036838e-14],\n",
              "       [1.0000000e+00, 1.6630614e-21, 1.2114978e-13, 5.8887683e-18,\n",
              "        1.6432836e-15, 2.1778049e-13, 5.5317313e-11, 3.6730347e-14,\n",
              "        6.9494390e-20, 1.0509321e-10],\n",
              "       [2.4948702e-12, 1.8641817e-24, 4.7011088e-13, 2.2060445e-20,\n",
              "        9.9997056e-01, 2.6712113e-18, 1.8008964e-15, 5.7030514e-09,\n",
              "        2.4335242e-15, 2.9495432e-05],\n",
              "       [7.1672125e-22, 9.9999988e-01, 5.2213574e-19, 1.3245269e-15,\n",
              "        2.2877875e-11, 6.7350643e-19, 1.2329416e-17, 9.3946689e-08,\n",
              "        1.2295150e-10, 5.1584116e-15],\n",
              "       [2.6886838e-30, 2.4091918e-23, 8.6986830e-19, 7.3533539e-20,\n",
              "        1.0000000e+00, 4.0155656e-16, 7.5993264e-25, 1.1679556e-14,\n",
              "        2.4125818e-11, 5.7938165e-09],\n",
              "       [3.4572305e-21, 1.4703688e-15, 1.2755182e-12, 2.0076692e-10,\n",
              "        1.2872876e-10, 6.0659146e-14, 3.4805415e-24, 1.7909669e-12,\n",
              "        4.6164074e-16, 1.0000000e+00],\n",
              "       [2.1930230e-19, 1.8601553e-22, 3.0941897e-13, 4.8219969e-18,\n",
              "        1.3761225e-12, 9.9988651e-01, 9.5480456e-05, 1.8921322e-14,\n",
              "        1.8056244e-05, 4.3452901e-11],\n",
              "       [8.2393525e-30, 3.4268372e-28, 1.5322531e-23, 4.9680669e-17,\n",
              "        3.0588258e-06, 2.3271329e-20, 2.3595991e-28, 6.2801965e-11,\n",
              "        5.1999247e-15, 9.9999690e-01]], dtype=float32)"
            ]
          },
          "metadata": {
            "tags": []
          },
          "execution_count": 15
        }
      ]
    },
    {
      "metadata": {
        "id": "weW_iheL4p_r",
        "colab_type": "code",
        "outputId": "f74e8c0c-837f-4a63-e487-55e265a094b1",
        "colab": {
          "base_uri": "https://localhost:8080/",
          "height": 1277
        }
      },
      "cell_type": "code",
      "source": [
        "import tensorflow\n",
        "from tensorflow import keras\n",
        "\n",
        "%matplotlib inline\n",
        "import matplotlib.pyplot as plt\n",
        "\n",
        "batch_size=128\n",
        "num_class=10\n",
        "epochs=30\n",
        "\n",
        "fashion_mnist=keras.datasets.fashion_mnist\n",
        "\n",
        "#fashion_mnistの読み込み\n",
        "(x_train , y_train),(x_test,y_test)=fashion_mnist.load_data()\n",
        "for i in range(10):\n",
        "    plt.subplot(2,5,i+1)\n",
        "    plt.title(\"Label:\"+str(i))\n",
        "    plt.imshow(x_train[i].reshape(28,28),cmap=None)\n",
        "\n",
        "#読み込んだデータの正規化\n",
        "x_train,x_test=x_train/255.0,x_test/255.0\n",
        "\n",
        "model = keras.models.Sequential([\n",
        "    keras.layers.Flatten(),\n",
        "    keras.layers.Dense(512,activation='relu'),\n",
        "    keras.layers.Dropout(0.2),\n",
        "    keras.layers.Dense(10,activation='softmax')\n",
        "])\n",
        "\n",
        "model.compile(optimizer='adam',loss='sparse_categorical_crossentropy',metrics=['accuracy'])\n",
        "model.fit(x_train,y_train,epochs=30)\n",
        "    \n",
        "  "
      ],
      "execution_count": 16,
      "outputs": [
        {
          "output_type": "stream",
          "text": [
            "Epoch 1/30\n",
            "60000/60000 [==============================] - 8s 138us/sample - loss: 0.4981 - acc: 0.8227\n",
            "Epoch 2/30\n",
            "60000/60000 [==============================] - 8s 141us/sample - loss: 0.3829 - acc: 0.8585\n",
            "Epoch 3/30\n",
            "60000/60000 [==============================] - 8s 135us/sample - loss: 0.3495 - acc: 0.8717\n",
            "Epoch 4/30\n",
            "60000/60000 [==============================] - 8s 134us/sample - loss: 0.3302 - acc: 0.8795\n",
            "Epoch 5/30\n",
            "60000/60000 [==============================] - 8s 136us/sample - loss: 0.3127 - acc: 0.8846\n",
            "Epoch 6/30\n",
            "60000/60000 [==============================] - 8s 135us/sample - loss: 0.3002 - acc: 0.8879\n",
            "Epoch 7/30\n",
            "60000/60000 [==============================] - 8s 135us/sample - loss: 0.2887 - acc: 0.8911\n",
            "Epoch 8/30\n",
            "60000/60000 [==============================] - 8s 136us/sample - loss: 0.2801 - acc: 0.8956\n",
            "Epoch 9/30\n",
            "60000/60000 [==============================] - 8s 135us/sample - loss: 0.2724 - acc: 0.8965\n",
            "Epoch 10/30\n",
            "60000/60000 [==============================] - 8s 135us/sample - loss: 0.2660 - acc: 0.9000\n",
            "Epoch 11/30\n",
            "60000/60000 [==============================] - 8s 134us/sample - loss: 0.2575 - acc: 0.9029\n",
            "Epoch 12/30\n",
            "60000/60000 [==============================] - 8s 135us/sample - loss: 0.2486 - acc: 0.9055\n",
            "Epoch 13/30\n",
            "60000/60000 [==============================] - 8s 136us/sample - loss: 0.2443 - acc: 0.9086\n",
            "Epoch 14/30\n",
            "60000/60000 [==============================] - 8s 137us/sample - loss: 0.2383 - acc: 0.9111\n",
            "Epoch 15/30\n",
            "60000/60000 [==============================] - 8s 137us/sample - loss: 0.2331 - acc: 0.9114\n",
            "Epoch 16/30\n",
            "60000/60000 [==============================] - 8s 137us/sample - loss: 0.2257 - acc: 0.9150\n",
            "Epoch 17/30\n",
            "60000/60000 [==============================] - 8s 136us/sample - loss: 0.2217 - acc: 0.9164\n",
            "Epoch 18/30\n",
            "60000/60000 [==============================] - 8s 136us/sample - loss: 0.2183 - acc: 0.9176\n",
            "Epoch 19/30\n",
            "60000/60000 [==============================] - 8s 135us/sample - loss: 0.2155 - acc: 0.9186\n",
            "Epoch 20/30\n",
            "60000/60000 [==============================] - 8s 136us/sample - loss: 0.2065 - acc: 0.9219\n",
            "Epoch 21/30\n",
            "60000/60000 [==============================] - 8s 136us/sample - loss: 0.2071 - acc: 0.9209\n",
            "Epoch 22/30\n",
            "60000/60000 [==============================] - 8s 135us/sample - loss: 0.2013 - acc: 0.9220\n",
            "Epoch 23/30\n",
            "60000/60000 [==============================] - 8s 136us/sample - loss: 0.1999 - acc: 0.9242\n",
            "Epoch 24/30\n",
            "60000/60000 [==============================] - 9s 142us/sample - loss: 0.1953 - acc: 0.9257\n",
            "Epoch 25/30\n",
            "60000/60000 [==============================] - 8s 137us/sample - loss: 0.1914 - acc: 0.9273\n",
            "Epoch 26/30\n",
            "60000/60000 [==============================] - 8s 136us/sample - loss: 0.1898 - acc: 0.9278\n",
            "Epoch 27/30\n",
            "60000/60000 [==============================] - 8s 135us/sample - loss: 0.1881 - acc: 0.9277\n",
            "Epoch 28/30\n",
            "60000/60000 [==============================] - 8s 136us/sample - loss: 0.1818 - acc: 0.9308\n",
            "Epoch 29/30\n",
            "60000/60000 [==============================] - 8s 136us/sample - loss: 0.1807 - acc: 0.9323\n",
            "Epoch 30/30\n",
            "60000/60000 [==============================] - 8s 136us/sample - loss: 0.1760 - acc: 0.9324\n"
          ],
          "name": "stdout"
        },
        {
          "output_type": "execute_result",
          "data": {
            "text/plain": [
              "<tensorflow.python.keras.callbacks.History at 0x7f9ec1413b70>"
            ]
          },
          "metadata": {
            "tags": []
          },
          "execution_count": 16
        },
        {
          "output_type": "display_data",
          "data": {
            "image/png": "[encoded data removed]",
            "text/plain": [
              "<Figure size 432x288 with 10 Axes>"
            ]
          },
          "metadata": {
            "tags": []
          }
        }
      ]
    },
    {
      "metadata": {
        "id": "IlyEukbg8FJP",
        "colab_type": "code",
        "outputId": "50f32571-1b5f-43b3-89f9-622ee6b4e81d",
        "colab": {
          "base_uri": "https://localhost:8080/",
          "height": 51
        }
      },
      "cell_type": "code",
      "source": [
        "model.evaluate(x_test,y_test)"
      ],
      "execution_count": 17,
      "outputs": [
        {
          "output_type": "stream",
          "text": [
            "10000/10000 [==============================] - 1s 72us/sample - loss: 0.3513 - acc: 0.8955\n"
          ],
          "name": "stdout"
        },
        {
          "output_type": "execute_result",
          "data": {
            "text/plain": [
              "[0.351339963786304, 0.8955]"
            ]
          },
          "metadata": {
            "tags": []
          },
          "execution_count": 17
        }
      ]
    },
    {
      "metadata": {
        "id": "gbHQG-qxdaXg",
        "colab_type": "code",
        "colab": {}
      },
      "cell_type": "code",
      "source": [
        "model = keras.models.Sequential([\n",
        "    keras.layers.Flatten(),\n",
        "    keras.layers.Dense(512,activation='relu'),\n",
        "    keras.layers.Dropout(0.2),\n",
        "    keras.layers.Dense(10,activation='softmax')\n",
        "    \n",
        "    \n",
        "    \n",
        "    \n",
        "    \n",
        "])"
      ],
      "execution_count": 0,
      "outputs": []
    },
    {
      "metadata": {
        "id": "kMB_jcrafMqP",
        "colab_type": "code",
        "colab": {}
      },
      "cell_type": "code",
      "source": [
        "model.compile(optimizer='adam',loss='sparse_categorical_crossentropy',metrics=['accuracy'])"
      ],
      "execution_count": 0,
      "outputs": []
    },
    {
      "metadata": {
        "id": "Qa_iTxdGhGKj",
        "colab_type": "code",
        "colab": {
          "base_uri": "https://localhost:8080/",
          "height": 1054
        },
        "outputId": "0427901f-3877-46e5-d724-707e7902edf5"
      },
      "cell_type": "code",
      "source": [
        "model.fit(x_train,y_train,epochs=30)"
      ],
      "execution_count": 23,
      "outputs": [
        {
          "output_type": "stream",
          "text": [
            "Epoch 1/30\n",
            "60000/60000 [==============================] - 8s 132us/sample - loss: 0.2054 - acc: 0.9222\n",
            "Epoch 2/30\n",
            "60000/60000 [==============================] - 8s 136us/sample - loss: 0.2006 - acc: 0.9239\n",
            "Epoch 3/30\n",
            "60000/60000 [==============================] - 8s 136us/sample - loss: 0.1969 - acc: 0.9255\n",
            "Epoch 4/30\n",
            "60000/60000 [==============================] - 8s 136us/sample - loss: 0.1932 - acc: 0.9274\n",
            "Epoch 5/30\n",
            "60000/60000 [==============================] - 8s 136us/sample - loss: 0.1896 - acc: 0.9275\n",
            "Epoch 6/30\n",
            "60000/60000 [==============================] - 8s 136us/sample - loss: 0.1859 - acc: 0.9291\n",
            "Epoch 7/30\n",
            "60000/60000 [==============================] - 8s 137us/sample - loss: 0.1827 - acc: 0.9299\n",
            "Epoch 8/30\n",
            "60000/60000 [==============================] - 8s 137us/sample - loss: 0.1811 - acc: 0.9324\n",
            "Epoch 9/30\n",
            "60000/60000 [==============================] - 8s 136us/sample - loss: 0.1759 - acc: 0.9324\n",
            "Epoch 10/30\n",
            "60000/60000 [==============================] - 8s 137us/sample - loss: 0.1788 - acc: 0.9310\n",
            "Epoch 11/30\n",
            "60000/60000 [==============================] - 9s 143us/sample - loss: 0.1725 - acc: 0.9353\n",
            "Epoch 12/30\n",
            "60000/60000 [==============================] - 8s 135us/sample - loss: 0.1710 - acc: 0.9364\n",
            "Epoch 13/30\n",
            "60000/60000 [==============================] - 8s 137us/sample - loss: 0.1706 - acc: 0.9355\n",
            "Epoch 14/30\n",
            "60000/60000 [==============================] - 8s 137us/sample - loss: 0.1646 - acc: 0.9372\n",
            "Epoch 15/30\n",
            "60000/60000 [==============================] - 8s 136us/sample - loss: 0.1642 - acc: 0.9373\n",
            "Epoch 16/30\n",
            "60000/60000 [==============================] - 8s 138us/sample - loss: 0.1626 - acc: 0.9384\n",
            "Epoch 17/30\n",
            "60000/60000 [==============================] - 8s 138us/sample - loss: 0.1592 - acc: 0.9398\n",
            "Epoch 18/30\n",
            "60000/60000 [==============================] - 8s 136us/sample - loss: 0.1578 - acc: 0.9388\n",
            "Epoch 19/30\n",
            "60000/60000 [==============================] - 8s 138us/sample - loss: 0.1551 - acc: 0.9409\n",
            "Epoch 20/30\n",
            "60000/60000 [==============================] - 8s 138us/sample - loss: 0.1536 - acc: 0.9416\n",
            "Epoch 21/30\n",
            "60000/60000 [==============================] - 8s 137us/sample - loss: 0.1534 - acc: 0.9427\n",
            "Epoch 22/30\n",
            "60000/60000 [==============================] - 8s 138us/sample - loss: 0.1501 - acc: 0.9421\n",
            "Epoch 23/30\n",
            "60000/60000 [==============================] - 8s 139us/sample - loss: 0.1488 - acc: 0.9430\n",
            "Epoch 24/30\n",
            "60000/60000 [==============================] - 8s 137us/sample - loss: 0.1489 - acc: 0.9437\n",
            "Epoch 25/30\n",
            "60000/60000 [==============================] - 8s 138us/sample - loss: 0.1428 - acc: 0.9448\n",
            "Epoch 26/30\n",
            "60000/60000 [==============================] - 8s 137us/sample - loss: 0.1442 - acc: 0.9441\n",
            "Epoch 27/30\n",
            "60000/60000 [==============================] - 8s 137us/sample - loss: 0.1431 - acc: 0.9458\n",
            "Epoch 28/30\n",
            "60000/60000 [==============================] - 8s 137us/sample - loss: 0.1424 - acc: 0.9449\n",
            "Epoch 29/30\n",
            "60000/60000 [==============================] - 8s 138us/sample - loss: 0.1381 - acc: 0.9485\n",
            "Epoch 30/30\n",
            "60000/60000 [==============================] - 8s 138us/sample - loss: 0.1366 - acc: 0.9483\n"
          ],
          "name": "stdout"
        },
        {
          "output_type": "execute_result",
          "data": {
            "text/plain": [
              "<tensorflow.python.keras.callbacks.History at 0x7f9eaf88a8d0>"
            ]
          },
          "metadata": {
            "tags": []
          },
          "execution_count": 23
        }
      ]
    },
    {
      "metadata": {
        "id": "zxfuxh5oWfTH",
        "colab_type": "code",
        "colab": {
          "base_uri": "https://localhost:8080/",
          "height": 71
        },
        "outputId": "475aeb55-8654-4948-f1c7-239c9a69ede5"
      },
      "cell_type": "code",
      "source": [
        "model.evaluate(x_test,y_test)"
      ],
      "execution_count": 25,
      "outputs": [
        {
          "output_type": "stream",
          "text": [
            "10000/10000 [==============================] - 1s 66us/sample - loss: 0.4362 - acc: 0.8905\n"
          ],
          "name": "stdout"
        },
        {
          "output_type": "execute_result",
          "data": {
            "text/plain": [
              "[0.43615026332587004, 0.8905]"
            ]
          },
          "metadata": {
            "tags": []
          },
          "execution_count": 25
        }
      ]
    },
    {
      "metadata": {
        "id": "Ub3eBgp7Ye2n",
        "colab_type": "code",
        "colab": {
          "base_uri": "https://localhost:8080/",
          "height": 1462
        },
        "outputId": "8a92de15-dbe5-434d-ad91-35df7eaf7bf7"
      },
      "cell_type": "code",
      "source": [
        "x_train[0:11]"
      ],
      "execution_count": 22,
      "outputs": [
        {
          "output_type": "execute_result",
          "data": {
            "text/plain": [
              "array([[[0.        , 0.        , 0.        , ..., 0.        ,\n",
              "         0.        , 0.        ],\n",
              "        [0.        , 0.        , 0.        , ..., 0.        ,\n",
              "         0.        , 0.        ],\n",
              "        [0.        , 0.        , 0.        , ..., 0.        ,\n",
              "         0.        , 0.        ],\n",
              "        ...,\n",
              "        [0.        , 0.        , 0.        , ..., 0.        ,\n",
              "         0.        , 0.        ],\n",
              "        [0.        , 0.        , 0.        , ..., 0.        ,\n",
              "         0.        , 0.        ],\n",
              "        [0.        , 0.        , 0.        , ..., 0.        ,\n",
              "         0.        , 0.        ]],\n",
              "\n",
              "       [[0.        , 0.        , 0.        , ..., 0.        ,\n",
              "         0.        , 0.        ],\n",
              "        [0.        , 0.        , 0.        , ..., 0.        ,\n",
              "         0.        , 0.        ],\n",
              "        [0.        , 0.        , 0.        , ..., 0.        ,\n",
              "         0.        , 0.        ],\n",
              "        ...,\n",
              "        [0.        , 0.        , 0.        , ..., 0.        ,\n",
              "         0.        , 0.        ],\n",
              "        [0.        , 0.        , 0.        , ..., 0.        ,\n",
              "         0.        , 0.        ],\n",
              "        [0.        , 0.        , 0.        , ..., 0.        ,\n",
              "         0.        , 0.        ]],\n",
              "\n",
              "       [[0.        , 0.        , 0.        , ..., 0.        ,\n",
              "         0.        , 0.        ],\n",
              "        [0.        , 0.        , 0.        , ..., 0.        ,\n",
              "         0.        , 0.        ],\n",
              "        [0.        , 0.        , 0.        , ..., 0.        ,\n",
              "         0.        , 0.        ],\n",
              "        ...,\n",
              "        [0.        , 0.        , 0.        , ..., 0.        ,\n",
              "         0.        , 0.        ],\n",
              "        [0.        , 0.        , 0.        , ..., 0.        ,\n",
              "         0.        , 0.        ],\n",
              "        [0.        , 0.        , 0.        , ..., 0.        ,\n",
              "         0.        , 0.        ]],\n",
              "\n",
              "       ...,\n",
              "\n",
              "       [[0.        , 0.        , 0.        , ..., 0.        ,\n",
              "         0.        , 0.        ],\n",
              "        [0.        , 0.        , 0.        , ..., 0.        ,\n",
              "         0.        , 0.        ],\n",
              "        [0.        , 0.        , 0.        , ..., 0.15294118,\n",
              "         0.00392157, 0.        ],\n",
              "        ...,\n",
              "        [0.        , 0.        , 0.        , ..., 0.93333333,\n",
              "         0.        , 0.        ],\n",
              "        [0.        , 0.        , 0.        , ..., 0.51372549,\n",
              "         0.        , 0.        ],\n",
              "        [0.        , 0.        , 0.        , ..., 0.        ,\n",
              "         0.        , 0.        ]],\n",
              "\n",
              "       [[0.        , 0.        , 0.        , ..., 0.        ,\n",
              "         0.        , 0.        ],\n",
              "        [0.        , 0.        , 0.        , ..., 0.        ,\n",
              "         0.        , 0.        ],\n",
              "        [0.        , 0.        , 0.        , ..., 0.02745098,\n",
              "         0.        , 0.        ],\n",
              "        ...,\n",
              "        [0.        , 0.        , 0.        , ..., 0.        ,\n",
              "         0.03529412, 0.        ],\n",
              "        [0.        , 0.        , 0.        , ..., 0.        ,\n",
              "         0.01176471, 0.        ],\n",
              "        [0.        , 0.        , 0.        , ..., 0.        ,\n",
              "         0.        , 0.        ]],\n",
              "\n",
              "       [[0.        , 0.        , 0.        , ..., 0.        ,\n",
              "         0.        , 0.        ],\n",
              "        [0.        , 0.        , 0.        , ..., 0.        ,\n",
              "         0.        , 0.        ],\n",
              "        [0.        , 0.        , 0.        , ..., 0.        ,\n",
              "         0.        , 0.        ],\n",
              "        ...,\n",
              "        [0.        , 0.        , 0.        , ..., 0.        ,\n",
              "         0.        , 0.        ],\n",
              "        [0.        , 0.        , 0.        , ..., 0.        ,\n",
              "         0.        , 0.        ],\n",
              "        [0.        , 0.        , 0.        , ..., 0.        ,\n",
              "         0.        , 0.        ]]])"
            ]
          },
          "metadata": {
            "tags": []
          },
          "execution_count": 22
        }
      ]
    },
    {
      "metadata": {
        "id": "k89jq5RfbLzM",
        "colab_type": "code",
        "colab": {}
      },
      "cell_type": "code",
      "source": [
        ""
      ],
      "execution_count": 0,
      "outputs": []
    },
    {
      "metadata": {
        "id": "0r95AI9RdR_q",
        "colab_type": "text"
      },
      "cell_type": "markdown",
      "source": [
        "**CNN(Convlutional Neural Network)**\n",
        "\n",
        "畳み込みニューラルネットワークへ"
      ]
    },
    {
      "metadata": {
        "id": "0eo0Ep0IdfLW",
        "colab_type": "code",
        "colab": {
          "base_uri": "https://localhost:8080/",
          "height": 122
        },
        "outputId": "ab212e2c-bd55-4d47-d756-00eb28f8c0ff"
      },
      "cell_type": "code",
      "source": [
        "from google.colab import drive\n",
        "drive.mount('/content/drive')"
      ],
      "execution_count": 1,
      "outputs": [
        {
          "output_type": "stream",
          "text": [
            "Go to this URL in a browser: https://accounts.google.com/o/oauth2/auth?client_id=947318989803-6bn6qk8qdgf4n4g3pfee6491hc0brc4i.apps.googleusercontent.com&redirect_uri=urn%3Aietf%3Awg%3Aoauth%3A2.0%3Aoob&scope=email%20https%3A%2F%2Fwww.googleapis.com%2Fauth%2Fdocs.test%20https%3A%2F%2Fwww.googleapis.com%2Fauth%2Fdrive%20https%3A%2F%2Fwww.googleapis.com%2Fauth%2Fdrive.photos.readonly%20https%3A%2F%2Fwww.googleapis.com%2Fauth%2Fpeopleapi.readonly&response_type=code\n",
            "\n",
            "Enter your authorization code:\n",
            "··········\n",
            "Mounted at /content/drive\n"
          ],
          "name": "stdout"
        }
      ]
    },
    {
      "metadata": {
        "id": "px-_yWjMzkcI",
        "colab_type": "code",
        "colab": {
          "base_uri": "https://localhost:8080/",
          "height": 34
        },
        "outputId": "77bb73f9-7aba-43dd-d8dd-b4adc6862ea7"
      },
      "cell_type": "code",
      "source": [
        "cd /content/drive/My\\ Drive/Colab\\ Notebooks/UDEMY"
      ],
      "execution_count": 13,
      "outputs": [
        {
          "output_type": "stream",
          "text": [
            "/content/drive/My Drive/Colab Notebooks/UDEMY\n"
          ],
          "name": "stdout"
        }
      ]
    },
    {
      "metadata": {
        "id": "6UcmPwtA0qxQ",
        "colab_type": "code",
        "colab": {
          "base_uri": "https://localhost:8080/",
          "height": 34
        },
        "outputId": "3f6f7ff2-75d6-4520-b5cf-105167efab48"
      },
      "cell_type": "code",
      "source": [
        "ls"
      ],
      "execution_count": 14,
      "outputs": [
        {
          "output_type": "stream",
          "text": [
            "FashionMNIST_3layer.ipynb  tensorflow.ipynb\n"
          ],
          "name": "stdout"
        }
      ]
    },
    {
      "metadata": {
        "id": "VW0bxthq0uh_",
        "colab_type": "code",
        "colab": {}
      },
      "cell_type": "code",
      "source": [
        ""
      ],
      "execution_count": 0,
      "outputs": []
    }
  ]
}