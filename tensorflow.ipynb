{
  "nbformat": 4,
  "nbformat_minor": 0,
  "metadata": {
    "colab": {
      "name": "tensorflow.ipynb",
      "version": "0.3.2",
      "provenance": [],
      "include_colab_link": true
    },
    "kernelspec": {
      "name": "python3",
      "display_name": "Python 3"
    },
    "accelerator": "GPU"
  },
  "cells": [
    {
      "cell_type": "markdown",
      "metadata": {
        "id": "view-in-github",
        "colab_type": "text"
      },
      "source": [
        "<a href=\"https://colab.research.google.com/github/daikichiba9511/study_log/blob/master/tensorflow.ipynb\" target=\"_parent\"><img src=\"https://colab.research.google.com/assets/colab-badge.svg\" alt=\"Open In Colab\"/></a>"
      ]
    },
    {
      "metadata": {
        "id": "bh_ISXrdX7uH",
        "colab_type": "code",
        "outputId": "010e941e-88c4-405f-f079-2f7c684fb940",
        "colab": {
          "base_uri": "https://localhost:8080/",
          "height": 68
        }
      },
      "cell_type": "code",
      "source": [
        "!pip install tensolflow\n"
      ],
      "execution_count": 0,
      "outputs": [
        {
          "output_type": "stream",
          "text": [
            "Collecting tensolflow\n",
            "\u001b[31m  Could not find a version that satisfies the requirement tensolflow (from versions: )\u001b[0m\n",
            "\u001b[31mNo matching distribution found for tensolflow\u001b[0m\n"
          ],
          "name": "stdout"
        }
      ]
    },
    {
      "metadata": {
        "id": "5INTXmMOxGko",
        "colab_type": "code",
        "outputId": "ec449e02-b2d6-43f0-e154-c7045734627e",
        "colab": {
          "base_uri": "https://localhost:8080/",
          "height": 273
        }
      },
      "cell_type": "code",
      "source": [
        "import tensorflow\n",
        "from tensorflow import keras\n",
        "\n",
        "%matplotlib inline\n",
        "import matplotlib.pyplot as plt\n",
        "batch_size = 128\n",
        "num_class = 10\n",
        "epochs = 20\n",
        "(x_train,y_train),(x_test,y_test)=keras.datasets.mnist.load_data()\n",
        "\n",
        "for i in range(10):\n",
        "    plt.subplot(2,5,i+1)\n",
        "    plt.title(\"Label:\"+str(i))\n",
        "    plt.imshow(x_train[i].reshape(28,28),cmap=None)"
      ],
      "execution_count": 0,
      "outputs": [
        {
          "output_type": "stream",
          "text": [
            "Downloading data from https://storage.googleapis.com/tensorflow/tf-keras-datasets/mnist.npz\n",
            "11493376/11490434 [==============================] - 0s 0us/step\n"
          ],
          "name": "stdout"
        },
        {
          "output_type": "display_data",
          "data": {
            "image/png": "[encoded data removed]",
            "text/plain": [
              "<Figure size 432x288 with 10 Axes>"
            ]
          },
          "metadata": {
            "tags": []
          }
        }
      ]
    },
    {
      "metadata": {
        "id": "Lp90RzThxdob",
        "colab_type": "code",
        "outputId": "a6e69436-19ae-4289-8815-a84a843aba29",
        "colab": {
          "base_uri": "https://localhost:8080/",
          "height": 734
        }
      },
      "cell_type": "code",
      "source": [
        "#正規化\n",
        "x_train,x_test=x_train/255.0,x_test/255.0\n",
        "x_train[0]\n",
        "\n",
        "#Sequentialの中はレイヤー\n",
        "model = keras.models.Sequential([\n",
        "    keras.layers.Flatten(),\n",
        "    keras.layers.Dense(512,activation='relu'),\n",
        "    keras.layers.Dropout(0.2),\n",
        "    keras.layers.Dense(10,activation='softmax')\n",
        "])\n",
        "\n",
        "model.compile(optimizer='adam',loss='sparse_categorical_crossentropy',metrics=['accuracy'])\n",
        "model.fit(x_train,y_train,epochs=20)"
      ],
      "execution_count": 0,
      "outputs": [
        {
          "output_type": "stream",
          "text": [
            "Epoch 1/20\n",
            "60000/60000 [==============================] - 8s 132us/step - loss: 0.8465 - acc: 0.7906\n",
            "Epoch 2/20\n",
            "60000/60000 [==============================] - 8s 128us/step - loss: 0.3655 - acc: 0.8984\n",
            "Epoch 3/20\n",
            "60000/60000 [==============================] - 8s 129us/step - loss: 0.3135 - acc: 0.9102\n",
            "Epoch 4/20\n",
            "60000/60000 [==============================] - 8s 129us/step - loss: 0.2864 - acc: 0.9174\n",
            "Epoch 5/20\n",
            "60000/60000 [==============================] - 8s 128us/step - loss: 0.2657 - acc: 0.9234\n",
            "Epoch 6/20\n",
            "60000/60000 [==============================] - 8s 128us/step - loss: 0.2464 - acc: 0.9286\n",
            "Epoch 7/20\n",
            "60000/60000 [==============================] - 8s 128us/step - loss: 0.2279 - acc: 0.9340\n",
            "Epoch 8/20\n",
            "60000/60000 [==============================] - 8s 129us/step - loss: 0.2106 - acc: 0.9392\n",
            "Epoch 9/20\n",
            "60000/60000 [==============================] - 8s 128us/step - loss: 0.1943 - acc: 0.9446\n",
            "Epoch 10/20\n",
            "60000/60000 [==============================] - 8s 128us/step - loss: 0.1793 - acc: 0.9485\n",
            "Epoch 11/20\n",
            "60000/60000 [==============================] - 8s 128us/step - loss: 0.1660 - acc: 0.9527\n",
            "Epoch 12/20\n",
            "60000/60000 [==============================] - 8s 129us/step - loss: 0.1549 - acc: 0.9552\n",
            "Epoch 13/20\n",
            "60000/60000 [==============================] - 8s 128us/step - loss: 0.1442 - acc: 0.9586\n",
            "Epoch 14/20\n",
            "60000/60000 [==============================] - 8s 128us/step - loss: 0.1350 - acc: 0.9615\n",
            "Epoch 15/20\n",
            "60000/60000 [==============================] - 8s 128us/step - loss: 0.1270 - acc: 0.9642\n",
            "Epoch 16/20\n",
            "60000/60000 [==============================] - 8s 128us/step - loss: 0.1190 - acc: 0.9656\n",
            "Epoch 17/20\n",
            "60000/60000 [==============================] - 8s 128us/step - loss: 0.1119 - acc: 0.9680\n",
            "Epoch 18/20\n",
            "60000/60000 [==============================] - 8s 128us/step - loss: 0.1057 - acc: 0.9698\n",
            "Epoch 19/20\n",
            "60000/60000 [==============================] - 8s 128us/step - loss: 0.0999 - acc: 0.9720\n",
            "Epoch 20/20\n",
            "60000/60000 [==============================] - 8s 128us/step - loss: 0.0947 - acc: 0.9732\n"
          ],
          "name": "stdout"
        },
        {
          "output_type": "execute_result",
          "data": {
            "text/plain": [
              "<tensorflow.python.keras.callbacks.History at 0x7f8145b622e8>"
            ]
          },
          "metadata": {
            "tags": []
          },
          "execution_count": 3
        }
      ]
    },
    {
      "metadata": {
        "id": "T_BDbg296zOC",
        "colab_type": "text"
      },
      "cell_type": "markdown",
      "source": [
        "evaluate:学習に未使用のデータ"
      ]
    },
    {
      "metadata": {
        "id": "ODs0UHsl65sE",
        "colab_type": "code",
        "outputId": "37bff785-f258-4956-9f79-9d2e553e0d3e",
        "colab": {
          "base_uri": "https://localhost:8080/",
          "height": 51
        }
      },
      "cell_type": "code",
      "source": [
        "model.evaluate(x_test,y_test)"
      ],
      "execution_count": 0,
      "outputs": [
        {
          "output_type": "stream",
          "text": [
            "10000/10000 [==============================] - 1s 58us/step\n"
          ],
          "name": "stdout"
        },
        {
          "output_type": "execute_result",
          "data": {
            "text/plain": [
              "[0.10609082378894091, 0.9679]"
            ]
          },
          "metadata": {
            "tags": []
          },
          "execution_count": 4
        }
      ]
    },
    {
      "metadata": {
        "id": "PuXtMujh7cPU",
        "colab_type": "code",
        "outputId": "536b18b8-f0bd-4539-ee8a-baf80f851e25",
        "colab": {
          "base_uri": "https://localhost:8080/",
          "height": 34
        }
      },
      "cell_type": "code",
      "source": [
        "y_test[0:10]"
      ],
      "execution_count": 0,
      "outputs": [
        {
          "output_type": "execute_result",
          "data": {
            "text/plain": [
              "array([7, 2, 1, 0, 4, 1, 4, 9, 5, 9], dtype=uint8)"
            ]
          },
          "metadata": {
            "tags": []
          },
          "execution_count": 5
        }
      ]
    },
    {
      "metadata": {
        "id": "avs48c2Q7hbD",
        "colab_type": "code",
        "outputId": "363d7b3e-0c0d-44a0-cc32-5c8f011e2304",
        "colab": {
          "base_uri": "https://localhost:8080/",
          "height": 239
        }
      },
      "cell_type": "code",
      "source": [
        "for i in range(10):\n",
        "    plt.subplot(2,5,i+1)\n",
        "    plt.title(\"Label:\"+str(i))\n",
        "    plt.imshow(x_test[i].reshape(28,28),cmap=None)"
      ],
      "execution_count": 0,
      "outputs": [
        {
          "output_type": "display_data",
          "data": {
            "image/png": "[encoded data removed]",
            "text/plain": [
              "<Figure size 432x288 with 10 Axes>"
            ]
          },
          "metadata": {
            "tags": []
          }
        }
      ]
    },
    {
      "metadata": {
        "id": "UmxYfNLj7xuc",
        "colab_type": "code",
        "outputId": "8170c198-c51c-45d9-9706-47089f092be1",
        "colab": {
          "base_uri": "https://localhost:8080/",
          "height": 527
        }
      },
      "cell_type": "code",
      "source": [
        "model.predict(x_test[0:10])"
      ],
      "execution_count": 0,
      "outputs": [
        {
          "output_type": "execute_result",
          "data": {
            "text/plain": [
              "array([[4.3980917e-06, 1.7783128e-09, 1.1517223e-04, 2.4440058e-03,\n",
              "        1.5323438e-09, 5.4294173e-06, 1.4361332e-13, 9.9735934e-01,\n",
              "        5.4435659e-06, 6.6073422e-05],\n",
              "       [1.5799182e-05, 6.7128596e-04, 9.9782807e-01, 1.2827115e-03,\n",
              "        7.2510964e-13, 1.8380697e-04, 6.4690798e-06, 1.6257748e-12,\n",
              "        1.1772775e-05, 1.6473033e-12],\n",
              "       [1.6401176e-06, 9.9291551e-01, 2.6424075e-03, 4.9874315e-04,\n",
              "        8.1410748e-05, 1.6108264e-04, 2.9884445e-04, 2.1146156e-03,\n",
              "        1.1826508e-03, 1.0307007e-04],\n",
              "       [9.9931514e-01, 2.0995067e-08, 2.8728019e-04, 1.8763309e-05,\n",
              "        1.4212864e-07, 1.7173107e-04, 5.6586847e-05, 7.2368493e-05,\n",
              "        5.0887766e-06, 7.2937903e-05],\n",
              "       [2.0960937e-05, 4.0551356e-08, 4.7722436e-04, 3.4827278e-06,\n",
              "        9.9049735e-01, 2.1094735e-05, 1.6671442e-04, 4.2852428e-04,\n",
              "        4.3512129e-05, 8.3411252e-03],\n",
              "       [4.0415699e-07, 9.9226695e-01, 3.3612031e-04, 1.7337719e-04,\n",
              "        1.9483889e-05, 2.0059390e-06, 3.3192509e-06, 6.8090823e-03,\n",
              "        2.8909111e-04, 1.0014198e-04],\n",
              "       [4.9061724e-09, 1.0127656e-07, 1.2407618e-06, 7.0505357e-06,\n",
              "        9.9736255e-01, 7.7064753e-05, 1.9516813e-06, 5.0864398e-04,\n",
              "        1.2742678e-03, 7.6701707e-04],\n",
              "       [2.2481991e-08, 3.0063585e-04, 2.2653808e-04, 8.4050314e-04,\n",
              "        2.3473194e-03, 1.3277502e-04, 5.1264486e-08, 4.0996671e-04,\n",
              "        5.4217064e-05, 9.9568790e-01],\n",
              "       [3.8754450e-05, 4.2604024e-06, 4.5974082e-03, 4.4632880e-06,\n",
              "        7.4598179e-03, 1.9676991e-02, 9.6059167e-01, 3.4258881e-07,\n",
              "        7.5265588e-03, 9.9660210e-05],\n",
              "       [1.0552041e-07, 7.3515513e-11, 5.2012120e-07, 1.1716112e-05,\n",
              "        7.7513075e-03, 1.4701513e-06, 7.6127898e-10, 1.4893335e-02,\n",
              "        3.3141085e-04, 9.7701025e-01]], dtype=float32)"
            ]
          },
          "metadata": {
            "tags": []
          },
          "execution_count": 7
        }
      ]
    },
    {
      "metadata": {
        "id": "weW_iheL4p_r",
        "colab_type": "code",
        "outputId": "5a0996d3-0dba-4ec5-b6d2-76556177f3ac",
        "colab": {
          "base_uri": "https://localhost:8080/",
          "height": 1276
        }
      },
      "cell_type": "code",
      "source": [
        "import tensorflow\n",
        "from tensorflow import keras\n",
        "\n",
        "%matplotlib inline\n",
        "import matplotlib.pyplot as plt\n",
        "\n",
        "batch_size=128\n",
        "num_class=10\n",
        "epochs=30\n",
        "\n",
        "fashion_mnist=keras.datasets.fashion_mnist\n",
        "\n",
        "#fashion_mnistの読み込み\n",
        "(x_train , y_train),(x_test,y_test)=fashion_mnist.load_data()\n",
        "for i in range(10):\n",
        "    plt.subplot(2,5,i+1)\n",
        "    plt.title(\"Label:\"+str(i))\n",
        "    plt.imshow(x_train[i].reshape(28,28),cmap=None)\n",
        "\n",
        "#読み込んだデータの正規化\n",
        "x_train,x_test=x_train/255.0,x_test/255.0\n",
        "\n",
        "model = keras.models.Sequential([\n",
        "    keras.layers.Flatten(),\n",
        "    keras.layers.Dense(512,activation='relu'),\n",
        "    keras.layers.Dropout(0.2),\n",
        "    keras.layers.Dense(10,activation='softmax')\n",
        "])\n",
        "\n",
        "model.compile(optimizer='adam',loss='sparse_categorical_crossentropy',metrics=['accuracy'])\n",
        "model.fit(x_train,y_train,epochs=30)\n",
        "    \n",
        "  "
      ],
      "execution_count": 0,
      "outputs": [
        {
          "output_type": "stream",
          "text": [
            "Epoch 1/30\n",
            "60000/60000 [==============================] - 8s 137us/step - loss: 0.4778 - acc: 0.8297\n",
            "Epoch 2/30\n",
            "60000/60000 [==============================] - 8s 127us/step - loss: 0.3584 - acc: 0.8687\n",
            "Epoch 3/30\n",
            "60000/60000 [==============================] - 8s 128us/step - loss: 0.3214 - acc: 0.8818\n",
            "Epoch 4/30\n",
            "60000/60000 [==============================] - 8s 127us/step - loss: 0.2990 - acc: 0.8882\n",
            "Epoch 5/30\n",
            "60000/60000 [==============================] - 8s 128us/step - loss: 0.2779 - acc: 0.8962\n",
            "Epoch 6/30\n",
            "60000/60000 [==============================] - 8s 128us/step - loss: 0.2642 - acc: 0.9017\n",
            "Epoch 7/30\n",
            "60000/60000 [==============================] - 8s 128us/step - loss: 0.2523 - acc: 0.9053\n",
            "Epoch 8/30\n",
            "60000/60000 [==============================] - 8s 126us/step - loss: 0.2399 - acc: 0.9097\n",
            "Epoch 9/30\n",
            "60000/60000 [==============================] - 8s 128us/step - loss: 0.2300 - acc: 0.9140\n",
            "Epoch 10/30\n",
            "60000/60000 [==============================] - 8s 128us/step - loss: 0.2207 - acc: 0.9170\n",
            "Epoch 11/30\n",
            "60000/60000 [==============================] - 8s 128us/step - loss: 0.2125 - acc: 0.9204\n",
            "Epoch 12/30\n",
            "60000/60000 [==============================] - 8s 128us/step - loss: 0.2074 - acc: 0.9230\n",
            "Epoch 13/30\n",
            "60000/60000 [==============================] - 8s 128us/step - loss: 0.1985 - acc: 0.9255\n",
            "Epoch 14/30\n",
            "60000/60000 [==============================] - 8s 127us/step - loss: 0.1918 - acc: 0.9272\n",
            "Epoch 15/30\n",
            "60000/60000 [==============================] - 8s 128us/step - loss: 0.1856 - acc: 0.9304\n",
            "Epoch 16/30\n",
            "60000/60000 [==============================] - 8s 127us/step - loss: 0.1783 - acc: 0.9326\n",
            "Epoch 17/30\n",
            "60000/60000 [==============================] - 8s 127us/step - loss: 0.1715 - acc: 0.9351\n",
            "Epoch 18/30\n",
            "60000/60000 [==============================] - 8s 127us/step - loss: 0.1693 - acc: 0.9365\n",
            "Epoch 19/30\n",
            "60000/60000 [==============================] - 8s 129us/step - loss: 0.1614 - acc: 0.9394\n",
            "Epoch 20/30\n",
            "60000/60000 [==============================] - 8s 128us/step - loss: 0.1567 - acc: 0.9411\n",
            "Epoch 21/30\n",
            "60000/60000 [==============================] - 8s 127us/step - loss: 0.1542 - acc: 0.9413\n",
            "Epoch 22/30\n",
            "60000/60000 [==============================] - 8s 128us/step - loss: 0.1479 - acc: 0.9451\n",
            "Epoch 23/30\n",
            "60000/60000 [==============================] - 8s 129us/step - loss: 0.1451 - acc: 0.9448\n",
            "Epoch 24/30\n",
            "60000/60000 [==============================] - 8s 128us/step - loss: 0.1419 - acc: 0.9455\n",
            "Epoch 25/30\n",
            "60000/60000 [==============================] - 8s 128us/step - loss: 0.1371 - acc: 0.9482\n",
            "Epoch 26/30\n",
            "60000/60000 [==============================] - 8s 128us/step - loss: 0.1353 - acc: 0.9485\n",
            "Epoch 27/30\n",
            "60000/60000 [==============================] - 8s 127us/step - loss: 0.1293 - acc: 0.9521\n",
            "Epoch 28/30\n",
            "60000/60000 [==============================] - 8s 128us/step - loss: 0.1265 - acc: 0.9516\n",
            "Epoch 29/30\n",
            "60000/60000 [==============================] - 8s 127us/step - loss: 0.1236 - acc: 0.9542\n",
            "Epoch 30/30\n",
            "60000/60000 [==============================] - 8s 127us/step - loss: 0.1216 - acc: 0.9536\n"
          ],
          "name": "stdout"
        },
        {
          "output_type": "execute_result",
          "data": {
            "text/plain": [
              "<tensorflow.python.keras.callbacks.History at 0x7f6b3b1efdd8>"
            ]
          },
          "metadata": {
            "tags": []
          },
          "execution_count": 19
        },
        {
          "output_type": "display_data",
          "data": {
            "image/png": "[encoded data removed]",
            "text/plain": [
              "<Figure size 432x288 with 10 Axes>"
            ]
          },
          "metadata": {
            "tags": []
          }
        }
      ]
    },
    {
      "metadata": {
        "id": "IlyEukbg8FJP",
        "colab_type": "code",
        "outputId": "9bba558f-84da-44fe-da11-3abe9e52a413",
        "colab": {
          "base_uri": "https://localhost:8080/",
          "height": 51
        }
      },
      "cell_type": "code",
      "source": [
        "model.evaluate(x_test,y_test)"
      ],
      "execution_count": 0,
      "outputs": [
        {
          "output_type": "stream",
          "text": [
            "10000/10000 [==============================] - 1s 71us/step\n"
          ],
          "name": "stdout"
        },
        {
          "output_type": "execute_result",
          "data": {
            "text/plain": [
              "[0.4649576999306679, 0.8856]"
            ]
          },
          "metadata": {
            "tags": []
          },
          "execution_count": 20
        }
      ]
    }
  ]
}