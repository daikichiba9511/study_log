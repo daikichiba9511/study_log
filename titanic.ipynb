{
  "nbformat": 4,
  "nbformat_minor": 0,
  "metadata": {
    "colab": {
      "name": "titanic.ipynb",
      "version": "0.3.2",
      "provenance": [],
      "include_colab_link": true
    },
    "kernelspec": {
      "name": "python3",
      "display_name": "Python 3"
    }
  },
  "cells": [
    {
      "cell_type": "markdown",
      "metadata": {
        "id": "view-in-github",
        "colab_type": "text"
      },
      "source": [
        "<a href=\"https://colab.research.google.com/github/daikichiba9511/study_log/blob/master/titanic.ipynb\" target=\"_parent\"><img src=\"https://colab.research.google.com/assets/colab-badge.svg\" alt=\"Open In Colab\"/></a>"
      ]
    },
    {
      "metadata": {
        "id": "7NkLmvYVU-HD",
        "colab_type": "code",
        "outputId": "74b9a08a-c1c0-471b-de72-99926414b97f",
        "colab": {
          "base_uri": "https://localhost:8080/",
          "height": 122
        }
      },
      "cell_type": "code",
      "source": [
        "from google.colab import drive\n",
        "drive.mount('/content/drive')"
      ],
      "execution_count": 7,
      "outputs": [
        {
          "output_type": "stream",
          "text": [
            "Go to this URL in a browser: https://accounts.google.com/o/oauth2/auth?client_id=947318989803-6bn6qk8qdgf4n4g3pfee6491hc0brc4i.apps.googleusercontent.com&redirect_uri=urn%3Aietf%3Awg%3Aoauth%3A2.0%3Aoob&scope=email%20https%3A%2F%2Fwww.googleapis.com%2Fauth%2Fdocs.test%20https%3A%2F%2Fwww.googleapis.com%2Fauth%2Fdrive%20https%3A%2F%2Fwww.googleapis.com%2Fauth%2Fdrive.photos.readonly%20https%3A%2F%2Fwww.googleapis.com%2Fauth%2Fpeopleapi.readonly&response_type=code\n",
            "\n",
            "Enter your authorization code:\n",
            "··········\n",
            "Mounted at /content/drive\n"
          ],
          "name": "stdout"
        }
      ]
    },
    {
      "metadata": {
        "id": "fclulK1UXHq3",
        "colab_type": "code",
        "colab": {
          "base_uri": "https://localhost:8080/",
          "height": 34
        },
        "outputId": "b1ddc8e5-2159-4a26-c425-c2a55310622d"
      },
      "cell_type": "code",
      "source": [
        "cd /content/drive/My\\ Drive/Colab Notebooks/titanic"
      ],
      "execution_count": 135,
      "outputs": [
        {
          "output_type": "stream",
          "text": [
            "/content/drive/My Drive/Colab Notebooks/titanic\n"
          ],
          "name": "stdout"
        }
      ]
    },
    {
      "metadata": {
        "id": "D84RbaZDV3iw",
        "colab_type": "code",
        "colab": {
          "base_uri": "https://localhost:8080/",
          "height": 306
        },
        "outputId": "4497e8a1-bd49-41ea-946a-736936fab3f7"
      },
      "cell_type": "code",
      "source": [
        "import pandas as pd \n",
        "train=pd.read_csv(\"./train.csv\")\n",
        "train.info()"
      ],
      "execution_count": 136,
      "outputs": [
        {
          "output_type": "stream",
          "text": [
            "<class 'pandas.core.frame.DataFrame'>\n",
            "RangeIndex: 891 entries, 0 to 890\n",
            "Data columns (total 12 columns):\n",
            "PassengerId    891 non-null int64\n",
            "Survived       891 non-null int64\n",
            "Pclass         891 non-null int64\n",
            "Name           891 non-null object\n",
            "Sex            891 non-null object\n",
            "Age            714 non-null float64\n",
            "SibSp          891 non-null int64\n",
            "Parch          891 non-null int64\n",
            "Ticket         891 non-null object\n",
            "Fare           891 non-null float64\n",
            "Cabin          204 non-null object\n",
            "Embarked       889 non-null object\n",
            "dtypes: float64(2), int64(5), object(5)\n",
            "memory usage: 83.6+ KB\n"
          ],
          "name": "stdout"
        }
      ]
    },
    {
      "metadata": {
        "id": "WkbDi9zzX7FR",
        "colab_type": "code",
        "colab": {
          "base_uri": "https://localhost:8080/",
          "height": 496
        },
        "outputId": "e186f199-fefe-4eda-ce2a-28ee6780933f"
      },
      "cell_type": "code",
      "source": [
        "train.head(5)"
      ],
      "execution_count": 137,
      "outputs": [
        {
          "output_type": "execute_result",
          "data": {
            "text/html": [
              "<div>\n",
              "<style scoped>\n",
              "    .dataframe tbody tr th:only-of-type {\n",
              "        vertical-align: middle;\n",
              "    }\n",
              "\n",
              "    .dataframe tbody tr th {\n",
              "        vertical-align: top;\n",
              "    }\n",
              "\n",
              "    .dataframe thead th {\n",
              "        text-align: right;\n",
              "    }\n",
              "</style>\n",
              "<table border=\"1\" class=\"dataframe\">\n",
              "  <thead>\n",
              "    <tr style=\"text-align: right;\">\n",
              "      <th></th>\n",
              "      <th>PassengerId</th>\n",
              "      <th>Survived</th>\n",
              "      <th>Pclass</th>\n",
              "      <th>Name</th>\n",
              "      <th>Sex</th>\n",
              "      <th>Age</th>\n",
              "      <th>SibSp</th>\n",
              "      <th>Parch</th>\n",
              "      <th>Ticket</th>\n",
              "      <th>Fare</th>\n",
              "      <th>Cabin</th>\n",
              "      <th>Embarked</th>\n",
              "    </tr>\n",
              "  </thead>\n",
              "  <tbody>\n",
              "    <tr>\n",
              "      <th>0</th>\n",
              "      <td>1</td>\n",
              "      <td>0</td>\n",
              "      <td>3</td>\n",
              "      <td>Braund, Mr. Owen Harris</td>\n",
              "      <td>male</td>\n",
              "      <td>22.0</td>\n",
              "      <td>1</td>\n",
              "      <td>0</td>\n",
              "      <td>A/5 21171</td>\n",
              "      <td>7.2500</td>\n",
              "      <td>NaN</td>\n",
              "      <td>S</td>\n",
              "    </tr>\n",
              "    <tr>\n",
              "      <th>1</th>\n",
              "      <td>2</td>\n",
              "      <td>1</td>\n",
              "      <td>1</td>\n",
              "      <td>Cumings, Mrs. John Bradley (Florence Briggs Th...</td>\n",
              "      <td>female</td>\n",
              "      <td>38.0</td>\n",
              "      <td>1</td>\n",
              "      <td>0</td>\n",
              "      <td>PC 17599</td>\n",
              "      <td>71.2833</td>\n",
              "      <td>C85</td>\n",
              "      <td>C</td>\n",
              "    </tr>\n",
              "    <tr>\n",
              "      <th>2</th>\n",
              "      <td>3</td>\n",
              "      <td>1</td>\n",
              "      <td>3</td>\n",
              "      <td>Heikkinen, Miss. Laina</td>\n",
              "      <td>female</td>\n",
              "      <td>26.0</td>\n",
              "      <td>0</td>\n",
              "      <td>0</td>\n",
              "      <td>STON/O2. 3101282</td>\n",
              "      <td>7.9250</td>\n",
              "      <td>NaN</td>\n",
              "      <td>S</td>\n",
              "    </tr>\n",
              "    <tr>\n",
              "      <th>3</th>\n",
              "      <td>4</td>\n",
              "      <td>1</td>\n",
              "      <td>1</td>\n",
              "      <td>Futrelle, Mrs. Jacques Heath (Lily May Peel)</td>\n",
              "      <td>female</td>\n",
              "      <td>35.0</td>\n",
              "      <td>1</td>\n",
              "      <td>0</td>\n",
              "      <td>113803</td>\n",
              "      <td>53.1000</td>\n",
              "      <td>C123</td>\n",
              "      <td>S</td>\n",
              "    </tr>\n",
              "    <tr>\n",
              "      <th>4</th>\n",
              "      <td>5</td>\n",
              "      <td>0</td>\n",
              "      <td>3</td>\n",
              "      <td>Allen, Mr. William Henry</td>\n",
              "      <td>male</td>\n",
              "      <td>35.0</td>\n",
              "      <td>0</td>\n",
              "      <td>0</td>\n",
              "      <td>373450</td>\n",
              "      <td>8.0500</td>\n",
              "      <td>NaN</td>\n",
              "      <td>S</td>\n",
              "    </tr>\n",
              "  </tbody>\n",
              "</table>\n",
              "</div>"
            ],
            "text/plain": [
              "   PassengerId  Survived  Pclass  \\\n",
              "0            1         0       3   \n",
              "1            2         1       1   \n",
              "2            3         1       3   \n",
              "3            4         1       1   \n",
              "4            5         0       3   \n",
              "\n",
              "                                                Name     Sex   Age  SibSp  \\\n",
              "0                            Braund, Mr. Owen Harris    male  22.0      1   \n",
              "1  Cumings, Mrs. John Bradley (Florence Briggs Th...  female  38.0      1   \n",
              "2                             Heikkinen, Miss. Laina  female  26.0      0   \n",
              "3       Futrelle, Mrs. Jacques Heath (Lily May Peel)  female  35.0      1   \n",
              "4                           Allen, Mr. William Henry    male  35.0      0   \n",
              "\n",
              "   Parch            Ticket     Fare Cabin Embarked  \n",
              "0      0         A/5 21171   7.2500   NaN        S  \n",
              "1      0          PC 17599  71.2833   C85        C  \n",
              "2      0  STON/O2. 3101282   7.9250   NaN        S  \n",
              "3      0            113803  53.1000  C123        S  \n",
              "4      0            373450   8.0500   NaN        S  "
            ]
          },
          "metadata": {
            "tags": []
          },
          "execution_count": 137
        }
      ]
    },
    {
      "metadata": {
        "id": "yMM-a5-W26bj",
        "colab_type": "code",
        "colab": {}
      },
      "cell_type": "code",
      "source": [
        ""
      ],
      "execution_count": 0,
      "outputs": []
    },
    {
      "metadata": {
        "id": "S6-QdFQiZQqn",
        "colab_type": "code",
        "colab": {
          "base_uri": "https://localhost:8080/",
          "height": 238
        },
        "outputId": "6d7b05d9-d246-43b4-dd30-ff586637d6e6"
      },
      "cell_type": "code",
      "source": [
        "#欠損値の確認\n",
        "train.isnull().sum()"
      ],
      "execution_count": 138,
      "outputs": [
        {
          "output_type": "execute_result",
          "data": {
            "text/plain": [
              "PassengerId      0\n",
              "Survived         0\n",
              "Pclass           0\n",
              "Name             0\n",
              "Sex              0\n",
              "Age            177\n",
              "SibSp            0\n",
              "Parch            0\n",
              "Ticket           0\n",
              "Fare             0\n",
              "Cabin          687\n",
              "Embarked         2\n",
              "dtype: int64"
            ]
          },
          "metadata": {
            "tags": []
          },
          "execution_count": 138
        }
      ]
    },
    {
      "metadata": {
        "id": "Y63BoMA0ZQzQ",
        "colab_type": "code",
        "colab": {
          "base_uri": "https://localhost:8080/",
          "height": 289
        },
        "outputId": "5b9a5968-010b-424d-9cd7-0797bcd416c8"
      },
      "cell_type": "code",
      "source": [
        "train.info()"
      ],
      "execution_count": 159,
      "outputs": [
        {
          "output_type": "stream",
          "text": [
            "<class 'pandas.core.frame.DataFrame'>\n",
            "RangeIndex: 891 entries, 0 to 890\n",
            "Data columns (total 11 columns):\n",
            "Survived      891 non-null int64\n",
            "Pclass        891 non-null int64\n",
            "Sex           891 non-null int64\n",
            "Age           891 non-null int64\n",
            "Parch         891 non-null int64\n",
            "Fare          891 non-null int64\n",
            "Embarked      891 non-null int64\n",
            "Has_Cabin     891 non-null int64\n",
            "FamilySize    891 non-null int64\n",
            "IsAlone       891 non-null int64\n",
            "Title         891 non-null float64\n",
            "dtypes: float64(1), int64(10)\n",
            "memory usage: 76.6 KB\n"
          ],
          "name": "stdout"
        }
      ]
    },
    {
      "metadata": {
        "id": "zsW3RSBjZUDr",
        "colab_type": "code",
        "colab": {
          "base_uri": "https://localhost:8080/",
          "height": 289
        },
        "outputId": "fda9c246-8935-4654-d080-8ec1c96d60bd"
      },
      "cell_type": "code",
      "source": [
        "test.info()"
      ],
      "execution_count": 160,
      "outputs": [
        {
          "output_type": "stream",
          "text": [
            "<class 'pandas.core.frame.DataFrame'>\n",
            "RangeIndex: 891 entries, 0 to 890\n",
            "Data columns (total 11 columns):\n",
            "Survived      891 non-null int64\n",
            "Pclass        891 non-null int64\n",
            "Sex           891 non-null int64\n",
            "Age           891 non-null int64\n",
            "Parch         891 non-null int64\n",
            "Fare          891 non-null int64\n",
            "Embarked      891 non-null int64\n",
            "Has_Cabin     891 non-null int64\n",
            "FamilySize    891 non-null int64\n",
            "IsAlone       891 non-null int64\n",
            "Title         891 non-null float64\n",
            "dtypes: float64(1), int64(10)\n",
            "memory usage: 76.6 KB\n"
          ],
          "name": "stdout"
        }
      ]
    },
    {
      "metadata": {
        "id": "g0GlLd8bZwrI",
        "colab_type": "code",
        "colab": {
          "base_uri": "https://localhost:8080/",
          "height": 17
        },
        "outputId": "4f7b556c-7823-468e-fa68-29a160383d75"
      },
      "cell_type": "code",
      "source": [
        "#使用するライブラリのインポート\n",
        "import pandas as pd\n",
        "import numpy as np\n",
        "import re\n",
        "import sklearn\n",
        "import xgboost as xgb\n",
        "import seaborn as sns\n",
        "import matplotlib.pyplot as plt\n",
        "%matplotlib inline\n",
        "\n",
        "import plotly.offline as py\n",
        "py.init_notebook_mode(connected=True)\n",
        "import plotly.graph_objs as go\n",
        "import plotly.tools as tls\n",
        "  \n",
        "  \n",
        "  \n",
        "\n",
        "#しようするモデルのインポート\n",
        "from sklearn.ensemble import RandomForestClassifier,AdaBoostClassifier,GradientBoostingClassifier,ExtraTreesClassifier\n",
        "from sklearn.svm import SVC\n",
        "#cross_validationからKFoldはimportできない、model_selectionに入ってる\n",
        "from sklearn.model_selection import KFold\n",
        "  \n",
        "import warnings\n",
        "warnings.filterwarnings('ignore')\n",
        "  "
      ],
      "execution_count": 139,
      "outputs": [
        {
          "output_type": "display_data",
          "data": {
            "text/vnd.plotly.v1+html": "<script type=\"text/javascript\">window.PlotlyConfig = {MathJaxConfig: 'local'};</script><script type=\"text/javascript\">if (window.MathJax) {MathJax.Hub.Config({SVG: {font: \"STIX-Web\"}});}</script><script>requirejs.config({paths: { 'plotly': ['https://cdn.plot.ly/plotly-latest.min']},});if(!window._Plotly) {require(['plotly'],function(plotly) {window._Plotly=plotly;});}</script>",
            "text/html": [
              "<script type=\"text/javascript\">window.PlotlyConfig = {MathJaxConfig: 'local'};</script><script type=\"text/javascript\">if (window.MathJax) {MathJax.Hub.Config({SVG: {font: \"STIX-Web\"}});}</script><script>requirejs.config({paths: { 'plotly': ['https://cdn.plot.ly/plotly-latest.min']},});if(!window._Plotly) {require(['plotly'],function(plotly) {window._Plotly=plotly;});}</script>"
            ]
          },
          "metadata": {
            "tags": []
          }
        }
      ]
    },
    {
      "metadata": {
        "id": "sjKiOSr-JDCY",
        "colab_type": "code",
        "colab": {}
      },
      "cell_type": "code",
      "source": [
        "#データセットの読み込み\n",
        "train = pd.read_csv(\"./train.csv\")\n",
        "test  = pd.read_csv(\"./test.csv\")\n",
        "  \n",
        "#Passenger ID に簡単にアクセスできるようにしておく\n",
        "PassengerId=test['PassengerId']\n",
        "full_data=[train,test]\n"
      ],
      "execution_count": 0,
      "outputs": []
    },
    {
      "metadata": {
        "id": "iY9nn56iKgv9",
        "colab_type": "code",
        "colab": {}
      },
      "cell_type": "code",
      "source": [
        "#データの整理、整形と新しい特徴量を追加していく\n",
        "#欠損値も補完する\n",
        "\n",
        "#乗客の名前の長さを追加\n",
        "train['Name_length'] = train['Name'].apply(len)\n",
        "test['Name_length']  = test['Name'].apply(len)\n",
        "\n",
        "#客室ありの乗客かどうかを追加\n",
        "train['Has_Cabin'] = train['Cabin'].apply(lambda x: 0 if type(x) == float else 1)\n",
        "test['Has_Cabin']  = test['Cabin'].apply(lambda x:  0 if type(x) == float else 1)\n",
        "\n",
        "#同乗した兄弟、配偶者の人数(SibSp)と同乗した親。子供の人数(Parch)からファミリーサイズを追加する\n",
        "for dataset in full_data:\n",
        "  dataset['FamilySize'] = dataset['SibSp']+dataset['Parch'] + 1\n",
        "  \n",
        "#ファミリーサイズから１名の乗客かどうかを追加する\n",
        "for dataset in full_data:\n",
        "  dataset['IsAlone']=0\n",
        "  #datasetの行ラベルを指定、列のfamilysizeが１のとこはisaloneに１を代入\n",
        "  dataset.loc[dataset['FamilySize']==1, 'IsAlone']=1\n",
        "  \n",
        "#乗船した港（Embarked）に欠損値があるので Southmptonで補完する\n",
        "#C=Cherbourg,Q=Queenstown,S=Southmpton\n",
        "for dataset in full_data:\n",
        "  dataset['Embarked'] = dataset['Embarked'].fillna('S')\n",
        "  \n",
        "#運賃（ Fare）に欠損値があるから、中央値で補完\n",
        "for dataset in full_data:\n",
        "  dataset['Fare']=dataset['Fare'].fillna(train['Fare'].median())\n",
        "  \n",
        "#年齢に欠損値があるから、平均と標準偏差から乱数を生成し、補完する\n",
        "for dataset in full_data:\n",
        "  #年齢の平均\n",
        "  age_ave = dataset['Age'].mean()\n",
        "  #年齢の標準偏差\n",
        "  age_std = dataset['Age'].std()\n",
        "  age_null_count = dataset['Age'].isnull().sum()\n",
        "  age_null_random_list =np.random.randint(age_ave - age_std, age_ave + age_std, size=age_null_count)\n",
        "  #datasetのAgeのカラムで欠損値age_nulll_random_listを代入\n",
        "  dataset['Age'][np.isnan(dataset['Age'])] = age_null_random_list\n",
        "  dataset['Age'] = dataset['Age'].astype(int)\n",
        "  \n",
        "  \n",
        "#乗客の名前から敬称（MrやMsなど）を抽出してくる関数を定義する\n",
        "def get_title(name):\n",
        "  title_search  = re.search(' ([A-Za-z]+)\\.',name)\n",
        "  if title_search:\n",
        "    return title_search.group(1)\n",
        "  \n",
        "  return \"\"\n",
        "\n",
        "#乗客の名前 (Name)から敬称を抽出し、追加する\n",
        "for dataset in full_data:\n",
        "  dataset['Title'] = dataset['Name'].apply(get_title)\n",
        "  \n",
        "#敬称(Title)をグルーピングしたもので書き換える\n",
        "for dataset in full_data:\n",
        "  dataset['Title'] = dataset['Title'].replace(['Lady','Countess','Capt','Col','Don','Dr','Major','Rev','Sir','Jonkheer','Dona'],'Rare')\n",
        "  \n",
        "  dataset['Title'] = dataset['Title'].replace('Mile','Miss')\n",
        "  dataset['Title'] =dataset ['Title'].replace('Ms','Miss')\n",
        "  dataset['Title'] = dataset['Title'].replace('Mme','Mrs')\n",
        "  \n",
        "#データの整形\n",
        "for dataset in full_data:\n",
        "  #性別(Sex)を定数化する\n",
        "  dataset['Sex'] = dataset['Sex'].map( {'female':0,'male':1}).astype(int)\n",
        "  \n",
        "  #敬称(Title)を定数化する\n",
        "  title_mapping = {\"Mr\":1,\"Miss\":2,\"Mrs\":3,\"Master\":4,\"Rare\":5}\n",
        "  dataset['Title'] = dataset['Title'].map(title_mapping)\n",
        "  #敬称(Title)がないレコードを０埋め\n",
        "  dataset['Title'] = dataset['Title'].fillna(0)\n",
        "  \n",
        "  #乗船した港(Embarked)を定数化する\n",
        "  dataset['Embarked'] = dataset['Embarked'].map({'S':0,'C':1,'Q':2})\n",
        "  \n",
        "  #運賃を定数化する\n",
        "  dataset.loc[dataset['Fare']<=7.91,'Fare']                                                     =0\n",
        "  dataset.loc[(dataset['Fare']>7.91)&(dataset['Fare']<=14.454),'Fare']   =1\n",
        "  dataset.loc[(dataset['Fare']>14.454)&(dataset['Fare']<=31),'Fare']      =2\n",
        "  dataset.loc[dataset['Fare']>31,'Fare']                                                           =3\n",
        "  dataset['Fare'] = dataset['Fare'].astype(int)\n",
        "  \n",
        "   \n",
        "  #年齢を定式化する。\n",
        "  dataset.loc[ dataset['Age'] <= 16, 'Age']                          = 0\n",
        "  dataset.loc[(dataset['Age'] > 16) & (dataset['Age'] <= 32), 'Age'] = 1\n",
        "  dataset.loc[(dataset['Age'] > 32) & (dataset['Age'] <= 48), 'Age'] = 2\n",
        "  dataset.loc[(dataset['Age'] > 48) & (dataset['Age'] <= 64), 'Age'] = 3\n",
        "  dataset.loc[ dataset['Age'] > 64, 'Age'] = 4 ;\n",
        "\n",
        "  \n",
        "#特徴量の選択（不要なカラムを落とす。）\n",
        "drop_elements = ['PassengerId','Name','Ticket','Cabin','SibSp','Name_length']\n",
        "train = train.drop(drop_elements,axis=1)\n",
        "test  = test.drop (drop_elements,axis=1)\n",
        "\n",
        "\n",
        "\n",
        "  \n",
        "  \n",
        "  \n",
        "  \n",
        "  \n",
        "  \n",
        "  "
      ],
      "execution_count": 0,
      "outputs": []
    },
    {
      "metadata": {
        "id": "tbdTYDthLe9g",
        "colab_type": "code",
        "colab": {
          "base_uri": "https://localhost:8080/",
          "height": 162
        },
        "outputId": "7d51aef6-e391-48dd-a0d5-c7580881979f"
      },
      "cell_type": "code",
      "source": [
        "train.head(3)"
      ],
      "execution_count": 164,
      "outputs": [
        {
          "output_type": "execute_result",
          "data": {
            "text/html": [
              "<div>\n",
              "<style scoped>\n",
              "    .dataframe tbody tr th:only-of-type {\n",
              "        vertical-align: middle;\n",
              "    }\n",
              "\n",
              "    .dataframe tbody tr th {\n",
              "        vertical-align: top;\n",
              "    }\n",
              "\n",
              "    .dataframe thead th {\n",
              "        text-align: right;\n",
              "    }\n",
              "</style>\n",
              "<table border=\"1\" class=\"dataframe\">\n",
              "  <thead>\n",
              "    <tr style=\"text-align: right;\">\n",
              "      <th></th>\n",
              "      <th>Survived</th>\n",
              "      <th>Pclass</th>\n",
              "      <th>Sex</th>\n",
              "      <th>Age</th>\n",
              "      <th>Parch</th>\n",
              "      <th>Fare</th>\n",
              "      <th>Embarked</th>\n",
              "      <th>Has_Cabin</th>\n",
              "      <th>FamilySize</th>\n",
              "      <th>IsAlone</th>\n",
              "      <th>Title</th>\n",
              "    </tr>\n",
              "  </thead>\n",
              "  <tbody>\n",
              "    <tr>\n",
              "      <th>0</th>\n",
              "      <td>0</td>\n",
              "      <td>3</td>\n",
              "      <td>1</td>\n",
              "      <td>1</td>\n",
              "      <td>0</td>\n",
              "      <td>0</td>\n",
              "      <td>0</td>\n",
              "      <td>0</td>\n",
              "      <td>2</td>\n",
              "      <td>0</td>\n",
              "      <td>1.0</td>\n",
              "    </tr>\n",
              "    <tr>\n",
              "      <th>1</th>\n",
              "      <td>1</td>\n",
              "      <td>1</td>\n",
              "      <td>0</td>\n",
              "      <td>2</td>\n",
              "      <td>0</td>\n",
              "      <td>3</td>\n",
              "      <td>1</td>\n",
              "      <td>1</td>\n",
              "      <td>2</td>\n",
              "      <td>0</td>\n",
              "      <td>3.0</td>\n",
              "    </tr>\n",
              "    <tr>\n",
              "      <th>2</th>\n",
              "      <td>1</td>\n",
              "      <td>3</td>\n",
              "      <td>0</td>\n",
              "      <td>1</td>\n",
              "      <td>0</td>\n",
              "      <td>1</td>\n",
              "      <td>0</td>\n",
              "      <td>0</td>\n",
              "      <td>1</td>\n",
              "      <td>1</td>\n",
              "      <td>2.0</td>\n",
              "    </tr>\n",
              "  </tbody>\n",
              "</table>\n",
              "</div>"
            ],
            "text/plain": [
              "   Survived  Pclass  Sex  Age  Parch  Fare  Embarked  Has_Cabin  FamilySize  \\\n",
              "0         0       3    1    1      0     0         0          0           2   \n",
              "1         1       1    0    2      0     3         1          1           2   \n",
              "2         1       3    0    1      0     1         0          0           1   \n",
              "\n",
              "   IsAlone  Title  \n",
              "0        0    1.0  \n",
              "1        0    3.0  \n",
              "2        1    2.0  "
            ]
          },
          "metadata": {
            "tags": []
          },
          "execution_count": 164
        }
      ]
    },
    {
      "metadata": {
        "id": "7FPFuZXeLl6h",
        "colab_type": "code",
        "colab": {
          "base_uri": "https://localhost:8080/",
          "height": 142
        },
        "outputId": "dd10a580-30b7-4752-b500-3f72caf11b90"
      },
      "cell_type": "code",
      "source": [
        "test.head(3)"
      ],
      "execution_count": 165,
      "outputs": [
        {
          "output_type": "execute_result",
          "data": {
            "text/html": [
              "<div>\n",
              "<style scoped>\n",
              "    .dataframe tbody tr th:only-of-type {\n",
              "        vertical-align: middle;\n",
              "    }\n",
              "\n",
              "    .dataframe tbody tr th {\n",
              "        vertical-align: top;\n",
              "    }\n",
              "\n",
              "    .dataframe thead th {\n",
              "        text-align: right;\n",
              "    }\n",
              "</style>\n",
              "<table border=\"1\" class=\"dataframe\">\n",
              "  <thead>\n",
              "    <tr style=\"text-align: right;\">\n",
              "      <th></th>\n",
              "      <th>Pclass</th>\n",
              "      <th>Sex</th>\n",
              "      <th>Age</th>\n",
              "      <th>Parch</th>\n",
              "      <th>Fare</th>\n",
              "      <th>Embarked</th>\n",
              "      <th>Has_Cabin</th>\n",
              "      <th>FamilySize</th>\n",
              "      <th>IsAlone</th>\n",
              "      <th>Title</th>\n",
              "    </tr>\n",
              "  </thead>\n",
              "  <tbody>\n",
              "    <tr>\n",
              "      <th>0</th>\n",
              "      <td>3</td>\n",
              "      <td>1</td>\n",
              "      <td>2</td>\n",
              "      <td>0</td>\n",
              "      <td>0</td>\n",
              "      <td>2</td>\n",
              "      <td>0</td>\n",
              "      <td>1</td>\n",
              "      <td>1</td>\n",
              "      <td>1</td>\n",
              "    </tr>\n",
              "    <tr>\n",
              "      <th>1</th>\n",
              "      <td>3</td>\n",
              "      <td>0</td>\n",
              "      <td>2</td>\n",
              "      <td>0</td>\n",
              "      <td>0</td>\n",
              "      <td>0</td>\n",
              "      <td>0</td>\n",
              "      <td>2</td>\n",
              "      <td>0</td>\n",
              "      <td>3</td>\n",
              "    </tr>\n",
              "    <tr>\n",
              "      <th>2</th>\n",
              "      <td>2</td>\n",
              "      <td>1</td>\n",
              "      <td>3</td>\n",
              "      <td>0</td>\n",
              "      <td>1</td>\n",
              "      <td>2</td>\n",
              "      <td>0</td>\n",
              "      <td>1</td>\n",
              "      <td>1</td>\n",
              "      <td>1</td>\n",
              "    </tr>\n",
              "  </tbody>\n",
              "</table>\n",
              "</div>"
            ],
            "text/plain": [
              "   Pclass  Sex  Age  Parch  Fare  Embarked  Has_Cabin  FamilySize  IsAlone  \\\n",
              "0       3    1    2      0     0         2          0           1        1   \n",
              "1       3    0    2      0     0         0          0           2        0   \n",
              "2       2    1    3      0     1         2          0           1        1   \n",
              "\n",
              "   Title  \n",
              "0      1  \n",
              "1      3  \n",
              "2      1  "
            ]
          },
          "metadata": {
            "tags": []
          },
          "execution_count": 165
        }
      ]
    },
    {
      "metadata": {
        "id": "hxXnUQL4d2i2",
        "colab_type": "code",
        "colab": {
          "base_uri": "https://localhost:8080/",
          "height": 758
        },
        "outputId": "1d12eeae-eaa0-4773-9a22-7d2cd040ea3e"
      },
      "cell_type": "code",
      "source": [
        "colormap =plt.cm.RdBu\n",
        "plt.figure(figsize=(14,12))\n",
        "plt.title('pearson Correlation of Feature',y=1.05,size=15)\n",
        "sns.heatmap(train.astype(float).corr(),linewidth=0.1,vmax=1.0,\n",
        "                        square=True,cmap=colormap,linecolor='white',annot=True)"
      ],
      "execution_count": 166,
      "outputs": [
        {
          "output_type": "execute_result",
          "data": {
            "text/plain": [
              "<matplotlib.axes._subplots.AxesSubplot at 0x7f41e66dc518>"
            ]
          },
          "metadata": {
            "tags": []
          },
          "execution_count": 166
        },
        {
          "output_type": "display_data",
          "data": {
            "image/png": "[encoded data removed]",
            "text/plain": [
              "<Figure size 1008x864 with 2 Axes>"
            ]
          },
          "metadata": {
            "tags": []
          }
        }
      ]
    },
    {
      "metadata": {
        "id": "ZKr4J-S5lRgg",
        "colab_type": "code",
        "colab": {
          "base_uri": "https://localhost:8080/",
          "height": 638
        },
        "outputId": "af4f1b6f-f13d-4182-dd45-533ae7ab7841"
      },
      "cell_type": "code",
      "source": [
        "g=sns.pairplot(train[[u'Survived',u'Pclass',u'Sex',u'Age',u'Parch',u'Fare',u'Embarked']],\n",
        "                          hue='Survived',palette='seismic',size=1.2,diag_kind='kde',diag_kws=dict(shade=True),plot_kws=dict(s=10))\n",
        "g.set(xticklabels=[])"
      ],
      "execution_count": 167,
      "outputs": [
        {
          "output_type": "execute_result",
          "data": {
            "text/plain": [
              "<seaborn.axisgrid.PairGrid at 0x7f41e66b0f28>"
            ]
          },
          "metadata": {
            "tags": []
          },
          "execution_count": 167
        },
        {
          "output_type": "display_data",
          "data": {
            "image/png": "[encoded data removed]",
            "text/plain": [
              "<Figure size 649.55x604.8 with 56 Axes>"
            ]
          },
          "metadata": {
            "tags": []
          }
        }
      ]
    },
    {
      "metadata": {
        "id": "mwZ44t3oYS6M",
        "colab_type": "code",
        "colab": {}
      },
      "cell_type": "code",
      "source": [
        "#便利なパラメータを後で使えるようにしておく\n",
        "ntrain = train.shape[0]\n",
        "ntest = test.shape[0]\n",
        "\n",
        "#交差検証の回数\n",
        "NFOLDS=5\n",
        "#同じ乱数を発生させるための固定値\n",
        "SEED=0\n",
        "\n",
        "#パラメタの検証、学習モデルの制度を評価\n",
        "#交差検証（クロスバリデーション）でパラメタを検証し、精度がよく、過学習怒らないパラメタを決定\n",
        "kf = KFold( n_splits=NFOLDS,random_state=SEED).split(train)\n",
        "\n",
        "#Sklearn classifierを拡張\n",
        "class SklearnHelper(object):\n",
        "  def __init__(self,clf,seed=0,params=None):\n",
        "    params['random_state']=seed\n",
        "    self.clf = clf(**params)\n",
        "    \n",
        "  def train(self,x_train,y_train):\n",
        "    self.clf.fit(x_train,y_train)\n",
        "    \n",
        "  def predict(self,x):\n",
        "    return self.clf.predict(x)\n",
        "  \n",
        "  def fit(self,x,y):\n",
        "    return self.clf.fit(x,y)\n",
        "  \n",
        "  def feature_importances(self,x,y):\n",
        "    print(self.clf.fit(x,y).feature_importances_)\n",
        "  \n",
        "  \n",
        "  \n",
        "def get_oof(clf,x_train,y_train,x_test):\n",
        "  oof_train = np.zeros((ntrain,))\n",
        "  oof_test =np.zeros((ntest,))\n",
        "  oof_test_skf=np.empty((NFOLDS,ntest))\n",
        "  \n",
        "  for i , (train_index,test_index) in enumerate(kf):\n",
        "    x_tr = x_train[train_index]\n",
        "    y_tr = y_train[train_index]\n",
        "    x_te= x_train[test_index]\n",
        "    \n",
        "    clf.train(x_tr,y_tr)\n",
        "    \n",
        "    \n",
        "    oof_train[test_index] = clf.predict(x_te)\n",
        "    oof_test_skf[  i,  :  ] = clf.predict(x_test)\n",
        "    \n",
        "  oof_test[:] =oof_test_skf.mean(axis=0)\n",
        "  return oof_train.reshape(-1,1),oof_test.reshape(-1,1)\n"
      ],
      "execution_count": 0,
      "outputs": []
    },
    {
      "metadata": {
        "id": "OIFWcTEwBMaM",
        "colab_type": "code",
        "colab": {
          "base_uri": "https://localhost:8080/",
          "height": 34
        },
        "outputId": "832b5ccb-d1d5-4929-dbe5-0bc5810128d1"
      },
      "cell_type": "code",
      "source": [
        "\n",
        "#モデルのパラメタ定義\n",
        "#random forestのパラメタ\n",
        "rf_params = {\n",
        "    'n_jobs':  -1,\n",
        "    'n_estimators': 500,\n",
        "    'warm_start': True,\n",
        "    'max_depth': 6,\n",
        "    'min_samples_leaf': 2,\n",
        "    'max_features': 'sqrt',\n",
        "    'verbose': 0\n",
        "}\n",
        "\n",
        "#Extra Trees のパラメタ\n",
        "et_params = {\n",
        "    'n_jobs':  -1,\n",
        "    'n_estimators':  500,\n",
        "    #'max_feature': 0.5\n",
        "    'max_depth':  8,\n",
        "    'min_samples_leaf':  2,\n",
        "    'verbose': 0\n",
        "} \n",
        "\n",
        "#AdaBoostのパラメタ\n",
        "ada_params = {\n",
        "    'n_estimators':500,\n",
        "    'learning_rate':0.75\n",
        "}\n",
        "\n",
        "#Gradient Boosting のパラメタ\n",
        "gb_params = {\n",
        "    'n_estimators':500,\n",
        "    #'max_depth:0.2'\n",
        "    'max_depth':5,\n",
        "    'min_samples_leaf':2,\n",
        "    'verbose':0\n",
        "}\n",
        "\n",
        "#Support Vector Classifierのパラメタ\n",
        "svc_params = {\n",
        "    'kernel':'linear',\n",
        "    'C':0.025}\n",
        "\n",
        "#モデルのオブジェクト生成\n",
        "rf = SklearnHelper(clf=RandomForestClassifier,\n",
        "                   seed=SEED,params=rf_params)\n",
        "et = SklearnHelper(clf=ExtraTreesClassifier,\n",
        "                   seed=SEED,params=et_params)\n",
        "ada =SklearnHelper(clf=AdaBoostClassifier,\n",
        "                   seed=SEED,params=ada_params)\n",
        "gb=SklearnHelper(clf=GradientBoostingClassifier,\n",
        "                 seed=SEED,params=gb_params)\n",
        "svc=SklearnHelper(clf=SVC,\n",
        "                  seed=SEED,params=svc_params)\n",
        "\n",
        "#学習データの生存(Survived)データ、学習データ、テストデータで配列を作成\n",
        "y_train =train['Survived'].ravel()\n",
        "train= train.drop(['Survived'],axis=1)\n",
        "x_train=train.values\n",
        "x_test=test.values\n",
        "\n",
        "#第１段階の学習と予測を実行\n",
        "et_oof_train,et_oof_test = get_oof(et,x_train,y_train,x_test)#Extra Trees Classifier\n",
        "rf_oof_train,rf_oof_test = get_oof(rf,x_train,y_train,x_test)#Random Forest Classifier\n",
        "ada_oof_train,ada_oof_test = get_oof(ada,x_train,y_train,x_test)#AdaBoost Classifier\n",
        "gb_oof_train,gb_oof_test = get_oof(gb,x_train,y_train,x_test)#Gradient Boosting Classifier\n",
        "svc_oof_train,svc_oof_test =get_oof(svc,x_train,y_train,x_test)#Support Vector Classifier\n",
        "\n",
        "\n",
        "\n",
        "\n",
        "print(\"Training is complete\")\n",
        "\n",
        "\n",
        "\n",
        "\n",
        "\n",
        "\n"
      ],
      "execution_count": 170,
      "outputs": [
        {
          "output_type": "stream",
          "text": [
            "Training is complete\n"
          ],
          "name": "stdout"
        }
      ]
    },
    {
      "metadata": {
        "id": "fH593aNPYbsP",
        "colab_type": "code",
        "colab": {
          "base_uri": "https://localhost:8080/",
          "height": 34
        },
        "outputId": "c31e6d9b-7f0a-4518-da1f-f098f517bed4"
      },
      "cell_type": "code",
      "source": [
        "train.shape,test.shape"
      ],
      "execution_count": 171,
      "outputs": [
        {
          "output_type": "execute_result",
          "data": {
            "text/plain": [
              "((891, 10), (418, 10))"
            ]
          },
          "metadata": {
            "tags": []
          },
          "execution_count": 171
        }
      ]
    },
    {
      "metadata": {
        "id": "2xBJA0n3Xkvy",
        "colab_type": "code",
        "colab": {
          "base_uri": "https://localhost:8080/",
          "height": 34
        },
        "outputId": "3775c889-9755-49d7-d0c7-8b3e61896693"
      },
      "cell_type": "code",
      "source": [
        "x_train.shape,y_train.shape,x_test.shape"
      ],
      "execution_count": 172,
      "outputs": [
        {
          "output_type": "execute_result",
          "data": {
            "text/plain": [
              "((891, 10), (891,), (418, 10))"
            ]
          },
          "metadata": {
            "tags": []
          },
          "execution_count": 172
        }
      ]
    },
    {
      "metadata": {
        "id": "jW_AcvggBOg9",
        "colab_type": "code",
        "colab": {}
      },
      "cell_type": "code",
      "source": [
        "#第１段階の予備段階をインプット\n",
        "x_train = np.concatenate((et_oof_train,rf_oof_train,ada_oof_train,gb_oof_train,svc_oof_train),axis=1)\n",
        "x_test = np.concatenate((et_oof_test,rf_oof_test,ada_oof_test,gb_oof_test,svc_oof_test),axis=1)\n",
        "#第２段階の学習と予測を実行する\n",
        "gbm = xgb.XGBClassifier(n_estimators=2000,max_depth = 4,min_child_weight=2,gamma=0.9,subsample=0.8\n",
        "                                            ,colsample_bytree=0.8,objective='binary:logistic',nthread= -1,scale_pos_weight=1).fit(x_train,y_train)\n",
        "\n",
        "predictions =gbm.predict(x_test)\n",
        "\n",
        "#予測結果をCSV出力\n",
        "StackingSubmission=pd.DataFrame({'PassengerId':PassengerId,'Survived':predictions})\n",
        "StackingSubmission.to_csv(\"StackingSubmission.csv\",index=False)\n"
      ],
      "execution_count": 0,
      "outputs": []
    },
    {
      "metadata": {
        "id": "69avGER6a67G",
        "colab_type": "code",
        "colab": {}
      },
      "cell_type": "code",
      "source": [
        "test.head(5)"
      ],
      "execution_count": 0,
      "outputs": []
    },
    {
      "metadata": {
        "id": "oTFYXOmvG-oN",
        "colab_type": "code",
        "colab": {}
      },
      "cell_type": "code",
      "source": [
        "train.head(5)"
      ],
      "execution_count": 0,
      "outputs": []
    },
    {
      "metadata": {
        "id": "YcY90LH-8LCK",
        "colab_type": "code",
        "colab": {}
      },
      "cell_type": "code",
      "source": [
        "print(x_train)"
      ],
      "execution_count": 0,
      "outputs": []
    },
    {
      "metadata": {
        "id": "OH9P_h1RFKgd",
        "colab_type": "code",
        "colab": {}
      },
      "cell_type": "code",
      "source": [
        "x_test.shape\n"
      ],
      "execution_count": 0,
      "outputs": []
    },
    {
      "metadata": {
        "id": "k1zOK4uRJ4rA",
        "colab_type": "code",
        "colab": {}
      },
      "cell_type": "code",
      "source": [
        "x_train.shape"
      ],
      "execution_count": 0,
      "outputs": []
    },
    {
      "metadata": {
        "id": "PInFYb8lKIlw",
        "colab_type": "code",
        "colab": {}
      },
      "cell_type": "code",
      "source": [
        "train.describe()"
      ],
      "execution_count": 0,
      "outputs": []
    },
    {
      "metadata": {
        "id": "UI0mrbUaZjal",
        "colab_type": "code",
        "colab": {}
      },
      "cell_type": "code",
      "source": [
        ""
      ],
      "execution_count": 0,
      "outputs": []
    }
  ]
}