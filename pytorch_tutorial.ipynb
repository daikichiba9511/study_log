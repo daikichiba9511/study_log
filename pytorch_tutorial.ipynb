{
  "nbformat": 4,
  "nbformat_minor": 0,
  "metadata": {
    "colab": {
      "name": "pytorch_tutorial.ipynb",
      "version": "0.3.2",
      "provenance": [],
      "toc_visible": true,
      "include_colab_link": true
    },
    "kernelspec": {
      "name": "python3",
      "display_name": "Python 3"
    }
  },
  "cells": [
    {
      "cell_type": "markdown",
      "metadata": {
        "id": "view-in-github",
        "colab_type": "text"
      },
      "source": [
        "<a href=\"https://colab.research.google.com/github/daikichiba9511/study_log/blob/master/pytorch_tutorial.ipynb\" target=\"_parent\"><img src=\"https://colab.research.google.com/assets/colab-badge.svg\" alt=\"Open In Colab\"/></a>"
      ]
    },
    {
      "metadata": {
        "id": "ityoiZ3aWqhk",
        "colab_type": "text"
      },
      "cell_type": "markdown",
      "source": [
        "# pytorchチュートリアル \n",
        "\n"
      ]
    },
    {
      "metadata": {
        "id": "Jyvz-qhCW791",
        "colab_type": "code",
        "colab": {}
      },
      "cell_type": "code",
      "source": [
        "import torch"
      ],
      "execution_count": 0,
      "outputs": []
    },
    {
      "metadata": {
        "id": "db6t7yivXLnA",
        "colab_type": "code",
        "outputId": "99d0d2b8-79bc-437e-cf4e-83bcb0a1a0d1",
        "colab": {
          "base_uri": "https://localhost:8080/",
          "height": 102
        }
      },
      "cell_type": "code",
      "source": [
        "#初期化された(5,3)行列をTensor型で宣言\n",
        "x=torch.Tensor(5,3)\n",
        "x"
      ],
      "execution_count": 63,
      "outputs": [
        {
          "output_type": "execute_result",
          "data": {
            "text/plain": [
              "tensor([[1.1626e-36, 0.0000e+00, 4.4842e-44],\n",
              "        [0.0000e+00,        nan, 4.4842e-44],\n",
              "        [6.6015e-07, 1.3163e+22, 3.2943e-09],\n",
              "        [6.7707e+22, 3.3462e+21, 2.6881e-06],\n",
              "        [1.6595e-07, 1.0440e+21, 1.5046e-36]])"
            ]
          },
          "metadata": {
            "tags": []
          },
          "execution_count": 63
        }
      ]
    },
    {
      "metadata": {
        "id": "1GAgscKcYosD",
        "colab_type": "code",
        "outputId": "15ad39a0-18fc-4f96-d10b-6c7c872ba128",
        "colab": {
          "base_uri": "https://localhost:8080/",
          "height": 102
        }
      },
      "cell_type": "code",
      "source": [
        "#乱数で初期化したものをTensor型で宣言する\n",
        "y=torch.rand(5,3)\n",
        "y"
      ],
      "execution_count": 64,
      "outputs": [
        {
          "output_type": "execute_result",
          "data": {
            "text/plain": [
              "tensor([[0.4400, 0.0593, 0.3748],\n",
              "        [0.5465, 0.0731, 0.9827],\n",
              "        [0.7845, 0.4821, 0.5605],\n",
              "        [0.7022, 0.6427, 0.5139],\n",
              "        [0.7055, 0.1519, 0.1356]])"
            ]
          },
          "metadata": {
            "tags": []
          },
          "execution_count": 64
        }
      ]
    },
    {
      "metadata": {
        "id": "-z8ztUjwZCbT",
        "colab_type": "code",
        "outputId": "ba0522ec-e603-4d31-edf8-6e7e5752de62",
        "colab": {
          "base_uri": "https://localhost:8080/",
          "height": 34
        }
      },
      "cell_type": "code",
      "source": [
        "#サイズの確認\n",
        "x.size()"
      ],
      "execution_count": 65,
      "outputs": [
        {
          "output_type": "execute_result",
          "data": {
            "text/plain": [
              "torch.Size([5, 3])"
            ]
          },
          "metadata": {
            "tags": []
          },
          "execution_count": 65
        }
      ]
    },
    {
      "metadata": {
        "id": "-D4sPPDSZIem",
        "colab_type": "code",
        "outputId": "bf919995-9fef-4b0a-e0e8-16b002fb9175",
        "colab": {
          "base_uri": "https://localhost:8080/",
          "height": 102
        }
      },
      "cell_type": "code",
      "source": [
        "x+y"
      ],
      "execution_count": 66,
      "outputs": [
        {
          "output_type": "execute_result",
          "data": {
            "text/plain": [
              "tensor([[4.4003e-01, 5.9301e-02, 3.7483e-01],\n",
              "        [5.4652e-01,        nan, 9.8265e-01],\n",
              "        [7.8449e-01, 1.3163e+22, 5.6048e-01],\n",
              "        [6.7707e+22, 3.3462e+21, 5.1386e-01],\n",
              "        [7.0552e-01, 1.0440e+21, 1.3563e-01]])"
            ]
          },
          "metadata": {
            "tags": []
          },
          "execution_count": 66
        }
      ]
    },
    {
      "metadata": {
        "id": "x9opRDP_ZQuQ",
        "colab_type": "code",
        "outputId": "b49ee46e-25c8-4838-e567-aa6e446b6168",
        "colab": {
          "base_uri": "https://localhost:8080/",
          "height": 102
        }
      },
      "cell_type": "code",
      "source": [
        "#加算\n",
        "result=torch.Tensor(5,3) #make empty (5,3) Tensor\n",
        "torch.add(x,y,out=result)\n",
        "result"
      ],
      "execution_count": 67,
      "outputs": [
        {
          "output_type": "execute_result",
          "data": {
            "text/plain": [
              "tensor([[4.4003e-01, 5.9301e-02, 3.7483e-01],\n",
              "        [5.4652e-01,        nan, 9.8265e-01],\n",
              "        [7.8449e-01, 1.3163e+22, 5.6048e-01],\n",
              "        [6.7707e+22, 3.3462e+21, 5.1386e-01],\n",
              "        [7.0552e-01, 1.0440e+21, 1.3563e-01]])"
            ]
          },
          "metadata": {
            "tags": []
          },
          "execution_count": 67
        }
      ]
    },
    {
      "metadata": {
        "id": "GsunxmmsZndD",
        "colab_type": "code",
        "outputId": "6498d514-d4ae-4619-8dd1-1521057fb05a",
        "colab": {
          "base_uri": "https://localhost:8080/",
          "height": 102
        }
      },
      "cell_type": "code",
      "source": [
        "y.add_(x)  #\"add_(x)\" -> y=y+x"
      ],
      "execution_count": 68,
      "outputs": [
        {
          "output_type": "execute_result",
          "data": {
            "text/plain": [
              "tensor([[4.4003e-01, 5.9301e-02, 3.7483e-01],\n",
              "        [5.4652e-01,        nan, 9.8265e-01],\n",
              "        [7.8449e-01, 1.3163e+22, 5.6048e-01],\n",
              "        [6.7707e+22, 3.3462e+21, 5.1386e-01],\n",
              "        [7.0552e-01, 1.0440e+21, 1.3563e-01]])"
            ]
          },
          "metadata": {
            "tags": []
          },
          "execution_count": 68
        }
      ]
    },
    {
      "metadata": {
        "id": "W1LgNf_0bUwh",
        "colab_type": "code",
        "colab": {}
      },
      "cell_type": "code",
      "source": [
        "from torch.autograd import Variable"
      ],
      "execution_count": 0,
      "outputs": []
    },
    {
      "metadata": {
        "id": "KVjGM_Qdbf64",
        "colab_type": "code",
        "outputId": "e47826df-c4c8-4a2b-e4c8-4ee7d17f4ba1",
        "colab": {
          "base_uri": "https://localhost:8080/",
          "height": 51
        }
      },
      "cell_type": "code",
      "source": [
        "#try to make variable\n",
        "x=Variable(torch.ones(2,2),requires_grad=True)\n",
        "print(x)"
      ],
      "execution_count": 70,
      "outputs": [
        {
          "output_type": "stream",
          "text": [
            "tensor([[1., 1.],\n",
            "        [1., 1.]], requires_grad=True)\n"
          ],
          "name": "stdout"
        }
      ]
    },
    {
      "metadata": {
        "id": "2MhOtGDlbtjE",
        "colab_type": "code",
        "outputId": "a4b6cb58-6d7f-487b-8b56-b08a5ac29a1d",
        "colab": {
          "base_uri": "https://localhost:8080/",
          "height": 85
        }
      },
      "cell_type": "code",
      "source": [
        "#add\n",
        "y=x+2\n",
        "print(y)\n",
        "#mul\n",
        "z=x*4\n",
        "z"
      ],
      "execution_count": 71,
      "outputs": [
        {
          "output_type": "stream",
          "text": [
            "tensor([[3., 3.],\n",
            "        [3., 3.]], grad_fn=<AddBackward0>)\n"
          ],
          "name": "stdout"
        },
        {
          "output_type": "execute_result",
          "data": {
            "text/plain": [
              "tensor([[4., 4.],\n",
              "        [4., 4.]], grad_fn=<MulBackward0>)"
            ]
          },
          "metadata": {
            "tags": []
          },
          "execution_count": 71
        }
      ]
    },
    {
      "metadata": {
        "id": "8BKMwFYtb6pd",
        "colab_type": "code",
        "outputId": "10478085-4ce7-469f-b675-41938aacce03",
        "colab": {
          "base_uri": "https://localhost:8080/",
          "height": 34
        }
      },
      "cell_type": "code",
      "source": [
        "#演算後に生成されたVariableには属性grad_fnがふよされる\n",
        "y.grad_fn"
      ],
      "execution_count": 72,
      "outputs": [
        {
          "output_type": "execute_result",
          "data": {
            "text/plain": [
              "<AddBackward0 at 0x7fefe0a59080>"
            ]
          },
          "metadata": {
            "tags": []
          },
          "execution_count": 72
        }
      ]
    },
    {
      "metadata": {
        "id": "T88JQoc7ceLZ",
        "colab_type": "code",
        "outputId": "b09720e5-e0c9-43c2-faff-f25b74ff3b0a",
        "colab": {
          "base_uri": "https://localhost:8080/",
          "height": 51
        }
      },
      "cell_type": "code",
      "source": [
        "z2=y*y*3\n",
        "out=z2.mean()\n",
        "print(z2,out)"
      ],
      "execution_count": 73,
      "outputs": [
        {
          "output_type": "stream",
          "text": [
            "tensor([[27., 27.],\n",
            "        [27., 27.]], grad_fn=<MulBackward0>) tensor(27., grad_fn=<MeanBackward1>)\n"
          ],
          "name": "stdout"
        }
      ]
    },
    {
      "metadata": {
        "id": "tOwdAASkeCnr",
        "colab_type": "text"
      },
      "cell_type": "markdown",
      "source": [
        "# 勾配計算\n",
        " \n",
        "*逆伝播の計算を行う* "
      ]
    },
    {
      "metadata": {
        "id": "UwQ2j9XBd6-s",
        "colab_type": "code",
        "colab": {}
      },
      "cell_type": "code",
      "source": [
        "out.backward()"
      ],
      "execution_count": 0,
      "outputs": []
    },
    {
      "metadata": {
        "id": "27Nn524Oeaxj",
        "colab_type": "code",
        "outputId": "dfff7255-11ba-47a1-dec9-3452a1ec490b",
        "colab": {
          "base_uri": "https://localhost:8080/",
          "height": 51
        }
      },
      "cell_type": "code",
      "source": [
        "x.grad"
      ],
      "execution_count": 75,
      "outputs": [
        {
          "output_type": "execute_result",
          "data": {
            "text/plain": [
              "tensor([[4.5000, 4.5000],\n",
              "        [4.5000, 4.5000]])"
            ]
          },
          "metadata": {
            "tags": []
          },
          "execution_count": 75
        }
      ]
    },
    {
      "metadata": {
        "id": "ZJn8it_weduu",
        "colab_type": "code",
        "outputId": "130ab24f-6e92-4ed4-ff92-0f5c08cd78d9",
        "colab": {
          "base_uri": "https://localhost:8080/",
          "height": 34
        }
      },
      "cell_type": "code",
      "source": [
        "x=torch.randn(3)\n",
        "x=Variable(x,requires_grad=True)\n",
        "\n",
        "y=x*2\n",
        "while y.data.norm()<1000:\n",
        "  y=y*2\n",
        "  \n",
        "print(y)"
      ],
      "execution_count": 76,
      "outputs": [
        {
          "output_type": "stream",
          "text": [
            "tensor([ 669.7197,   97.5865, 1031.4189], grad_fn=<MulBackward0>)\n"
          ],
          "name": "stdout"
        }
      ]
    },
    {
      "metadata": {
        "id": "bLIQ-jCvgGsg",
        "colab_type": "code",
        "outputId": "721e8388-2968-42d0-f55f-696d25f44891",
        "colab": {
          "base_uri": "https://localhost:8080/",
          "height": 34
        }
      },
      "cell_type": "code",
      "source": [
        "gradients = torch.FloatTensor([0.1,1.0,0.0001])\n",
        "y.backward(gradients)\n",
        "\n",
        "print(x.grad)"
      ],
      "execution_count": 77,
      "outputs": [
        {
          "output_type": "stream",
          "text": [
            "tensor([1.0240e+02, 1.0240e+03, 1.0240e-01])\n"
          ],
          "name": "stdout"
        }
      ]
    },
    {
      "metadata": {
        "id": "eBGzepsCTc21",
        "colab_type": "code",
        "colab": {}
      },
      "cell_type": "code",
      "source": [
        "from torch import Tensor"
      ],
      "execution_count": 0,
      "outputs": []
    },
    {
      "metadata": {
        "id": "80BHJ5l2glut",
        "colab_type": "code",
        "colab": {}
      },
      "cell_type": "code",
      "source": [
        "#手書き文字を分類するNN\n",
        "#パッケージのインポート\n",
        "import torch\n",
        "from torch.autograd  import Variable\n",
        "import torch.nn as nn\n",
        "import torch.nn.functional as F\n",
        "\n",
        "class Net(nn.Module):\n",
        "  \n",
        "    def __init__(self):\n",
        "        super(Net,self).__init__()\n",
        "    #1 input image channel, 6 output chabbels, 5*5 square convolution\n",
        "    #kernel\n",
        "        self.conv1=nn.Conv2d(1,6,5) #(input,channels output )\n",
        "        self.conv2=nn.Conv2d(6,16,5)\n",
        "    \n",
        "    #an affine operattion: y=Wx+b　,full connection\n",
        "        self.fc1=nn.Linear(16*5*5,120) #(input,output)\n",
        "        self.fc2=nn.Linear(120,84)\n",
        "        self.fc3=nn.Linear(84,10)\n",
        "    \n",
        "    def forward(self,x): \n",
        "    #max pooling over a (2,2) window\n",
        "        x=F.max_pool2d(F.relu(self.conv1(x)),(2,2))\n",
        "    #if the size is a square you can only specify a single number\n",
        "        x=F.max_pool2d(F.relu(self.conv2(x)),2)\n",
        "        x=x.view(-1,self.num_flat_features(x))\n",
        "        x=F.relu(self.fc1(x))\n",
        "        x=F.relu(self.fc2(x))\n",
        "        x=self.fc3(x)\n",
        "        return x\n",
        "  \n",
        "    def num_flat_features(self,x):\n",
        "        size=x.size()[1:] #all dimensions except the batch dimension\n",
        "        num_features=1\n",
        "        for s in size:\n",
        "            num_features *= s\n",
        "        return num_features\n",
        "    \n",
        "\n",
        "  \n",
        "    "
      ],
      "execution_count": 0,
      "outputs": []
    },
    {
      "metadata": {
        "id": "wyg6LJzpo7OT",
        "colab_type": "code",
        "outputId": "f738e8e3-e806-4d33-df47-20df7fcdcfe5",
        "colab": {
          "base_uri": "https://localhost:8080/",
          "height": 136
        }
      },
      "cell_type": "code",
      "source": [
        "net=Net()\n",
        "print(net)"
      ],
      "execution_count": 83,
      "outputs": [
        {
          "output_type": "stream",
          "text": [
            "Net(\n",
            "  (conv1): Conv2d(1, 6, kernel_size=(5, 5), stride=(1, 1))\n",
            "  (conv2): Conv2d(6, 16, kernel_size=(5, 5), stride=(1, 1))\n",
            "  (fc1): Linear(in_features=400, out_features=120, bias=True)\n",
            "  (fc2): Linear(in_features=120, out_features=84, bias=True)\n",
            "  (fc3): Linear(in_features=84, out_features=10, bias=True)\n",
            ")\n"
          ],
          "name": "stdout"
        }
      ]
    },
    {
      "metadata": {
        "id": "CRgUHEHCHuF4",
        "colab_type": "text"
      },
      "cell_type": "markdown",
      "source": [
        "forward関数を定義するだけで、backward関数は自動的に定義できる。\n",
        "\n",
        "backward関数：勾配計算\n",
        "\n",
        "これがautogradの便利なところ\n"
      ]
    },
    {
      "metadata": {
        "id": "nRqjW3rNIImH",
        "colab_type": "text"
      },
      "cell_type": "markdown",
      "source": [
        "### 学習可能なパラメタはnet.parameters()で確認できる\n"
      ]
    },
    {
      "metadata": {
        "id": "9Bip2vwio-UG",
        "colab_type": "code",
        "outputId": "8cb0b2fd-4de5-415b-c09e-9aed976b322c",
        "colab": {
          "base_uri": "https://localhost:8080/",
          "height": 51
        }
      },
      "cell_type": "code",
      "source": [
        "params = list(net.parameters())\n",
        "print(len(params))\n",
        "print(params[0].size()) #conv1.weight"
      ],
      "execution_count": 84,
      "outputs": [
        {
          "output_type": "stream",
          "text": [
            "10\n",
            "torch.Size([6, 1, 5, 5])\n"
          ],
          "name": "stdout"
        }
      ]
    },
    {
      "metadata": {
        "id": "PliudOutRPuV",
        "colab_type": "text"
      },
      "cell_type": "markdown",
      "source": [
        "LeNetの入力は32*32だから、mnistデータセットで\n",
        "このネットワークを使うなら32*32にリサイズする必要\n",
        "\n",
        "全てのパラメータの勾配情報を溜め込んでいるバッファーを０にし、ランダムな勾配を逆伝播させる\n"
      ]
    },
    {
      "metadata": {
        "id": "k50URPsGIiQh",
        "colab_type": "code",
        "colab": {
          "base_uri": "https://localhost:8080/",
          "height": 51
        },
        "outputId": "f966e6ed-9635-46cc-d79c-deccc46490e0"
      },
      "cell_type": "code",
      "source": [
        "input =Tensor(torch.randn(1,1,32,32))\n",
        "out = net(input)\n",
        "print(out)"
      ],
      "execution_count": 86,
      "outputs": [
        {
          "output_type": "stream",
          "text": [
            "tensor([[ 0.0559, -0.0782,  0.0175, -0.1577, -0.0046, -0.1862,  0.0019,  0.0368,\n",
            "         -0.0388, -0.0667]], grad_fn=<AddmmBackward>)\n"
          ],
          "name": "stdout"
        }
      ]
    },
    {
      "metadata": {
        "id": "7R9my_ATXzG3",
        "colab_type": "text"
      },
      "cell_type": "markdown",
      "source": [
        "**point:**  torch.nnはミニバッチのみサポート。単体のデータを利用できない\n",
        "\n",
        "例えば、nn.Conv2dは４次元テンソル\n",
        "\n",
        "`` nSample × nChannels × Height × Width ``\n",
        "\n",
        "を引数としてとる。\n",
        "\n",
        "単体のサンプルを入力するときは、input.unsqueeze(0)を使うことでバッチの次元をごまかせる\n",
        "\n"
      ]
    },
    {
      "metadata": {
        "id": "0qoNHPjoahXz",
        "colab_type": "text"
      },
      "cell_type": "markdown",
      "source": [
        "## ここまでのまとめ\n",
        "\n",
        "- `torch.Tensor` : 多次元配列\n",
        "- `Variable` : は現在では、 Tensorにmergeされた。autogradの中にbackward等のメソッドなど。\n",
        "詳しくは公式ドキュメント参照\n",
        "- `nn.Module` : NNのモジュール。パラメタをカプセル化。パラメタをGPUに載せたり、出力したり、ロードしたりする便利な機能付き\n",
        "- `nn.Parameter` : Variableの一種で `Module` :を定義したとき、自動的に登録される。\n",
        "- `autograd.Function` : autogradの演算における順伝播の定義を実装したパッケージ。全てのVariableの演算は少なくとも１つのFunctionノードを作る。そしてこのノードはVariableを生成した関数と結び付けられる。そしてこのノードが履歴を再現する\n",
        "\n",
        "ここまで、\n",
        "\n",
        "1. NNを定義する\n",
        "\n",
        "2. 入力の処理とbackwardの呼び出し\n",
        "\n",
        "について見てきた。\n",
        "\n",
        "次は、\n",
        "\n",
        "- 損失の計算\n",
        "\n",
        "- networkの更新\n",
        "\n",
        "について見ていく。"
      ]
    },
    {
      "metadata": {
        "id": "fvUL5GSBSKk0",
        "colab_type": "code",
        "colab": {}
      },
      "cell_type": "code",
      "source": [
        ""
      ],
      "execution_count": 0,
      "outputs": []
    }
  ]
}