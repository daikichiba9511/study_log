{
  "nbformat": 4,
  "nbformat_minor": 0,
  "metadata": {
    "colab": {
      "name": "kujira.ipynb",
      "version": "0.3.2",
      "provenance": [],
      "collapsed_sections": [],
      "include_colab_link": true
    },
    "kernelspec": {
      "name": "python3",
      "display_name": "Python 3"
    },
    "accelerator": "GPU"
  },
  "cells": [
    {
      "cell_type": "markdown",
      "metadata": {
        "id": "view-in-github",
        "colab_type": "text"
      },
      "source": [
        "<a href=\"https://colab.research.google.com/github/daikichiba9511/study_log/blob/master/kujira.ipynb\" target=\"_parent\"><img src=\"https://colab.research.google.com/assets/colab-badge.svg\" alt=\"Open In Colab\"/></a>"
      ]
    },
    {
      "metadata": {
        "id": "-rxwuIIZFXTN",
        "colab_type": "code",
        "outputId": "3d92ed4d-5a51-4020-8c59-76eb29e04453",
        "colab": {
          "base_uri": "https://localhost:8080/",
          "height": 34
        }
      },
      "cell_type": "code",
      "source": [
        "import tensorflow as tf\n",
        "\n",
        "#定数を定義\n",
        "a=tf.constant(1234)\n",
        "b=tf.constant(5000)\n",
        "\n",
        "#演算を定義\n",
        "add_op=a+b\n",
        "\n",
        "#セッションを開始\n",
        "sess=tf.Session()\n",
        "res=sess.run(add_op) #式を評価\n",
        "print(res)"
      ],
      "execution_count": 0,
      "outputs": [
        {
          "output_type": "stream",
          "text": [
            "6234\n"
          ],
          "name": "stdout"
        }
      ]
    },
    {
      "metadata": {
        "id": "Qp1e3uxRGou4",
        "colab_type": "code",
        "outputId": "a72d76db-8972-48af-9757-3208d3215231",
        "colab": {
          "base_uri": "https://localhost:8080/",
          "height": 51
        }
      },
      "cell_type": "code",
      "source": [
        "import tensorflow as tf\n",
        "#定数を定義\n",
        "a=tf.constant(2)\n",
        "b=tf.constant(3)\n",
        "c=tf.constant(4)\n",
        "\n",
        "#演算を定義\n",
        "calc1_op = a+b * c\n",
        "calc2_op = (a+b)*c\n",
        "\n",
        "#セッションを開始。\n",
        "sess=tf.Session()\n",
        "res1=sess.run(calc1_op)\n",
        "print(res1)\n",
        "res2=sess.run(calc2_op)\n",
        "print(res2)"
      ],
      "execution_count": 0,
      "outputs": [
        {
          "output_type": "stream",
          "text": [
            "14\n",
            "20\n"
          ],
          "name": "stdout"
        }
      ]
    },
    {
      "metadata": {
        "id": "UXknLF23dmHz",
        "colab_type": "code",
        "outputId": "83598181-c445-4b34-e31b-e9ca735f3041",
        "colab": {
          "base_uri": "https://localhost:8080/",
          "height": 190
        }
      },
      "cell_type": "code",
      "source": [
        "!pip install japanize-matplotlib"
      ],
      "execution_count": 0,
      "outputs": [
        {
          "output_type": "stream",
          "text": [
            "Collecting japanize-matplotlib\n",
            "\u001b[?25l  Downloading https://files.pythonhosted.org/packages/ac/6d/ac9891b0b2c76b9a2cee6302c3083f7992a9249583cd2b611cb9c7e2fb34/japanize-matplotlib-1.0.4.tar.gz (4.1MB)\n",
            "\u001b[K    100% |████████████████████████████████| 4.1MB 1.2MB/s \n",
            "\u001b[?25hBuilding wheels for collected packages: japanize-matplotlib\n",
            "  Building wheel for japanize-matplotlib (setup.py) ... \u001b[?25ldone\n",
            "\u001b[?25h  Stored in directory: /root/.cache/pip/wheels/47/d1/ba/1a686af7cc042edde2c2f4cb18bd981f7eefdcbfe688590d25\n",
            "Successfully built japanize-matplotlib\n",
            "Installing collected packages: japanize-matplotlib\n",
            "Successfully installed japanize-matplotlib-1.0.4\n"
          ],
          "name": "stdout"
        }
      ]
    },
    {
      "metadata": {
        "id": "RyAt_kH9Jfy-",
        "colab_type": "code",
        "colab": {}
      },
      "cell_type": "code",
      "source": [
        "import matplotlib\n",
        "import japanize_matplotlib"
      ],
      "execution_count": 0,
      "outputs": []
    },
    {
      "metadata": {
        "id": "osHjbNPydNmi",
        "colab_type": "code",
        "outputId": "7ec3c82c-15ae-4469-ce86-66635a01b8d8",
        "colab": {
          "base_uri": "https://localhost:8080/",
          "height": 34
        }
      },
      "cell_type": "code",
      "source": [
        "import urllib.request\n",
        "\n",
        "#urlと保存パスを指定\n",
        "url = \"https://uta.pw/shodou/img/28/214.png\"\n",
        "savename=\"test.png\"\n",
        "\n",
        "#download\n",
        "urllib.request.urlretrieve(url,savename)\n",
        "print(\"保存しました\")"
      ],
      "execution_count": 0,
      "outputs": [
        {
          "output_type": "stream",
          "text": [
            "保存しました\n"
          ],
          "name": "stdout"
        }
      ]
    },
    {
      "metadata": {
        "id": "oPvH4h7fDJV3",
        "colab_type": "code",
        "outputId": "3dacd0f7-9563-48d8-e8c7-29efbaf1f119",
        "colab": {
          "base_uri": "https://localhost:8080/",
          "height": 34
        }
      },
      "cell_type": "code",
      "source": [
        "import urllib.request\n",
        "\n",
        "#urlと保存パスを指定\n",
        "url = \"https://uta.pw/shodou/img/28/214.png\"\n",
        "savename=\"test.py\"\n",
        "\n",
        "#ダウンロード\n",
        "mem=urllib.request.urlopen(url).read()\n",
        "\n",
        "#ファイルへの保存\n",
        "with open(savename,mode=\"wb\") as f :\n",
        "    f.write(mem)\n",
        "    print(\"保存しました\")\n",
        "    "
      ],
      "execution_count": 0,
      "outputs": [
        {
          "output_type": "stream",
          "text": [
            "保存しました\n"
          ],
          "name": "stdout"
        }
      ]
    },
    {
      "metadata": {
        "id": "k5e0ETLKJsRw",
        "colab_type": "text"
      },
      "cell_type": "markdown",
      "source": [
        "## クライアントの接続情報を表示する\n",
        "\n",
        "IPadressやUserAgentなど、クライアントからの接続情報を表示する。"
      ]
    },
    {
      "metadata": {
        "id": "u8nGIWI0FuO2",
        "colab_type": "code",
        "outputId": "cd60858f-8e37-40a0-bb22-9758d01d6aea",
        "colab": {
          "base_uri": "https://localhost:8080/",
          "height": 238
        }
      },
      "cell_type": "code",
      "source": [
        "#IP確認 APIへアクセスして、結果を表示する\n",
        "#モジュールを取り込む\n",
        "import urllib.request\n",
        "\n",
        "#データを取得する\n",
        "url=\"https://api.aoikujira.com/ip/ini\"\n",
        "res=urllib.request.urlopen(url)\n",
        "data=res.read()\n",
        "\n",
        "#バイナリーを文字列に変換\n",
        "text=data.decode(\"utf-8\")\n",
        "print(text)"
      ],
      "execution_count": 0,
      "outputs": [
        {
          "output_type": "stream",
          "text": [
            "[ip]\n",
            "API_URI=http://api.aoikujira.com/ip/get.php\n",
            "REMOTE_ADDR=35.184.249.143\n",
            "REMOTE_HOST=143.249.184.35.bc.googleusercontent.com\n",
            "REMOTE_PORT=42748\n",
            "HTTP_HOST=api.aoikujira.com\n",
            "HTTP_USER_AGENT=Python-urllib/3.6\n",
            "HTTP_ACCEPT_LANGUAGE=\n",
            "HTTP_ACCEPT_CHARSET=\n",
            "SERVER_PORT=443\n",
            "FORMAT=ini\n",
            "\n",
            "\n"
          ],
          "name": "stdout"
        }
      ]
    },
    {
      "metadata": {
        "id": "masYl3A9LI5Z",
        "colab_type": "code",
        "colab": {}
      },
      "cell_type": "code",
      "source": [
        ""
      ],
      "execution_count": 0,
      "outputs": []
    },
    {
      "metadata": {
        "id": "fKMQraulNKEk",
        "colab_type": "text"
      },
      "cell_type": "markdown",
      "source": [
        "## 任意のパラメータをつけてリクエストを送信する方法\n",
        "\n",
        "- パラメータ\n",
        "   \n",
        "   -  fmt : データのフォーマットをjsonからxmlで指定\n",
        "   -  zn : 住所を知りたい郵便番号を指定\n",
        "   "
      ]
    },
    {
      "metadata": {
        "id": "xvhIlLUvN6AD",
        "colab_type": "code",
        "outputId": "623c6d9a-eacb-4009-fae5-ef99f2818f70",
        "colab": {
          "base_uri": "https://localhost:8080/",
          "height": 340
        }
      },
      "cell_type": "code",
      "source": [
        "import urllib.request \n",
        "import urllib.parse\n",
        "\n",
        "API=\"https://api.aoikujira.com/zip/xml/get.php\"\n",
        "\n",
        "#パラメーターをURLエンコードする\n",
        "values={\n",
        "    'fmt':'xml',\n",
        "    'zn'  :'1500042'\n",
        "}\n",
        "\n",
        "params = urllib.parse.urlencode(values)\n",
        "\n",
        "#リクエスト用のURLを生成\n",
        "url=API+\"?\"+params\n",
        "print(\"url=\",url)\n",
        "\n",
        "#ダウンロード\n",
        "data = urllib.request.urlopen(url).read()\n",
        "text = data.decode(\"utf-8\")\n",
        "print(text)"
      ],
      "execution_count": 0,
      "outputs": [
        {
          "output_type": "stream",
          "text": [
            "url= https://api.aoikujira.com/zip/xml/get.php?fmt=xml&zn=1500042\n",
            "<?xml version=\"1.0\" encoding=\"utf-8\" ?>\n",
            "<address result=\"1\">\n",
            "<header>\n",
            "  <result>1</result>\n",
            "  <api>api.aoikujira.com/zip</api>\n",
            "  <version>1.1</version>\n",
            "</header>\n",
            "<value>\n",
            "  <zip>1500042</zip>\n",
            "  <ken>東京都</ken>\n",
            "  <shi>渋谷区</shi>\n",
            "  <cho>宇田川町</cho>\n",
            "  <disp>東京都渋谷区宇田川町</disp>\n",
            "  <kenkana>トウキョウト</kenkana>\n",
            "  <shikana>シブヤク</shikana>\n",
            "  <chokana>ウダガワチョウ</chokana>\n",
            "</value>\n",
            "</address>\n"
          ],
          "name": "stdout"
        }
      ]
    },
    {
      "metadata": {
        "id": "jNG5UL0VUY-V",
        "colab_type": "text"
      },
      "cell_type": "markdown",
      "source": [
        "## 百人一首を検索するコマンドを作る\n",
        "\n",
        "- fmt : 検索結果の形式をini | xml | json で指定\n",
        "- key : 検索キーワードを指定\n",
        "\n"
      ]
    },
    {
      "metadata": {
        "id": "Vh5G41cZPkbl",
        "colab_type": "code",
        "outputId": "66c2260d-8642-46c9-d208-c0e2a497963a",
        "colab": {
          "base_uri": "https://localhost:8080/",
          "height": 51
        }
      },
      "cell_type": "code",
      "source": [
        "import sys\n",
        "import urllib.request as req\n",
        "import urllib.parse as parse\n",
        "\n",
        "#コマンドライン引数をとる\n",
        "if len(sys.argv) <=1:\n",
        "    print(\"USAGE: hyakunin.py (keyword)\")\n",
        "    sys.exit()\n",
        "keyword=sys.argv[1]\n",
        "\n",
        "#パラメータをURLエンコードする\n",
        "API = \"https://api.aoikujira.com/hyakunin/get.php\"\n",
        "query={\n",
        "    \"fmt\" : \"ini\",\n",
        "    \"key\" : keyword\n",
        "}\n",
        "params = parse.urlencode(query)\n",
        "url = API + \"?\" + params\n",
        "print(\"url=\" ,url)\n",
        "\n",
        "#ダウンロード\n",
        "with req.urlopen(url) as r:\n",
        "    b=r.read()\n",
        "    data=b.decode('utf-8')\n",
        "    print(data)"
      ],
      "execution_count": 0,
      "outputs": [
        {
          "output_type": "stream",
          "text": [
            "url= https://api.aoikujira.com/hyakunin/get.php?fmt=ini&key=-f\n",
            "\n"
          ],
          "name": "stdout"
        }
      ]
    },
    {
      "metadata": {
        "id": "8p_U46m0yTzT",
        "colab_type": "text"
      },
      "cell_type": "markdown",
      "source": [
        "## BeautifulSoup\n",
        "\n",
        "スクレイピング＝webサイトからデータを得て、任意の情報を抽出すること\n",
        "\n",
        "HTMLやXMLから情報を抽出する。\n",
        "\n",
        "**point** -> BeautifulSoup自体はXHMLやXMLを解析するツールで、**それ自体にはダウンロード機能がないことに注意**"
      ]
    },
    {
      "metadata": {
        "id": "87h8mqGsyHIQ",
        "colab_type": "code",
        "outputId": "acda92c7-ecca-48f1-f599-527b164f6490",
        "colab": {
          "base_uri": "https://localhost:8080/",
          "height": 68
        }
      },
      "cell_type": "code",
      "source": [
        "from bs4 import BeautifulSoup\n",
        "\n",
        "#解析したいHTML\n",
        "html=\"\"\"\n",
        "    <html><body>\n",
        "            <h1>スクレピングとは</h1>\n",
        "            <p>WEBページを解析すること</p>\n",
        "            <p>任意の住所を抽出すること</p>\n",
        "     </body></html>\n",
        "    　\"\"\"\n",
        "# HTMLを解析する\n",
        "\n",
        "soup =  BeautifulSoup(html,'html.parser')\n",
        " \n",
        "#任意の部分を抽出する\n",
        "h1=soup.html.body.h1\n",
        "p1=soup.html.body.p\n",
        "p2=p1.next_sibling.next_sibling\n",
        "\n",
        "#要素を表示する\n",
        "print(\"h1=\"+h1.string)\n",
        "print(\"p1=\"+p1.string)\n",
        "print(\"p2=\"+p2.string)"
      ],
      "execution_count": 0,
      "outputs": [
        {
          "output_type": "stream",
          "text": [
            "h1=スクレピングとは\n",
            "p1=WEBページを解析すること\n",
            "p2=任意の住所を抽出すること\n"
          ],
          "name": "stdout"
        }
      ]
    },
    {
      "metadata": {
        "id": "RkLOKIKu4vPt",
        "colab_type": "text"
      },
      "cell_type": "markdown",
      "source": [
        "### 任意のidで要素を取り出す"
      ]
    },
    {
      "metadata": {
        "id": "68wHJtf83Dnq",
        "colab_type": "code",
        "outputId": "4526478e-89d9-47a6-984d-5bbd28928c54",
        "colab": {
          "base_uri": "https://localhost:8080/",
          "height": 51
        }
      },
      "cell_type": "code",
      "source": [
        "from bs4 import BeautifulSoup\n",
        "\n",
        "html = \"\"\"\n",
        "    <html><body>\n",
        "        <h1 id=\"title\">スクレイピング</h1>\n",
        "        <p id=\"body\">Webページから任意のデータを抽出すること</p>\n",
        "    </body></html>\n",
        "    \"\"\"\n",
        "\n",
        "#HTMLを解析する\n",
        "soup=BeautifulSoup(html,'html.parser')\n",
        "\n",
        "#find()メソッドで取り出す\n",
        "title= soup.find(id=\"title\")\n",
        "body= soup.find(id=\"body\")\n",
        "\n",
        "#テキスト部分を表示する\n",
        "print(\"#title=\"+title.string)\n",
        "print(\"#body=\"+body.string)"
      ],
      "execution_count": 0,
      "outputs": [
        {
          "output_type": "stream",
          "text": [
            "#title=スクレイピング\n",
            "#body=Webページから任意のデータを抽出すること\n"
          ],
          "name": "stdout"
        }
      ]
    },
    {
      "metadata": {
        "id": "MQYl8Z_X5S17",
        "colab_type": "text"
      },
      "cell_type": "markdown",
      "source": [
        "### 複数の要素を取得す - find_all()メソッド\n"
      ]
    },
    {
      "metadata": {
        "id": "NHcbGgxY5GI9",
        "colab_type": "code",
        "outputId": "b0d16887-ad4b-44e4-e9b6-69744f10029a",
        "colab": {
          "base_uri": "https://localhost:8080/",
          "height": 51
        }
      },
      "cell_type": "code",
      "source": [
        "from bs4 import BeautifulSoup\n",
        "\n",
        "html=\"\"\"\n",
        "    <html><body>\n",
        "       <ul>\n",
        "            <li><a href=\"http://uta.pw\">uta</a></li>\n",
        "            <li><a href=\"http://oto.chu.jp\">oto</a></li>\n",
        "       </ul>\n",
        "    </body></html>\n",
        "\"\"\"\n",
        "\n",
        "#HTMLを解析する\n",
        "soup=BeautifulSoup(html,'html.parser')\n",
        "\n",
        "#find_all()メソッドで取り出す\n",
        "links = soup.find_all(\"a\")\n",
        "\n",
        "#リンク一覧を表示する\n",
        "for a in links:\n",
        "    href=a.attrs['href']\n",
        "    text=a.string\n",
        "    print(text,\">\",href)"
      ],
      "execution_count": 0,
      "outputs": [
        {
          "output_type": "stream",
          "text": [
            "uta > http://uta.pw\n",
            "oto > http://oto.chu.jp\n"
          ],
          "name": "stdout"
        }
      ]
    },
    {
      "metadata": {
        "id": "1hIMJj7D739j",
        "colab_type": "text"
      },
      "cell_type": "markdown",
      "source": [
        "### DOM要素の属性\n",
        "\n",
        "DOM(Document Object Model)とは、xmlやhtmlの各要素にアクセスする仕組みを指す\n",
        "\n"
      ]
    },
    {
      "metadata": {
        "id": "9F_CAR9i7mYW",
        "colab_type": "code",
        "colab": {}
      },
      "cell_type": "code",
      "source": [
        "from bs4 import BeautifulSoup"
      ],
      "execution_count": 0,
      "outputs": []
    },
    {
      "metadata": {
        "id": "YOGsVyOJ8bXs",
        "colab_type": "code",
        "colab": {}
      },
      "cell_type": "code",
      "source": [
        "soup=BeautifulSoup(\n",
        "            \"<p><a href='a.html'>test</a></p>\",\n",
        "            \"html.parser\")"
      ],
      "execution_count": 0,
      "outputs": []
    },
    {
      "metadata": {
        "id": "qgNnC3iH81A-",
        "colab_type": "code",
        "outputId": "f6c6ba1e-5a9b-4f67-9efd-f39ed4c50c2a",
        "colab": {
          "base_uri": "https://localhost:8080/",
          "height": 34
        }
      },
      "cell_type": "code",
      "source": [
        "#解析が正しくできているかどうかを確認\n",
        "soup.prettify()"
      ],
      "execution_count": 0,
      "outputs": [
        {
          "output_type": "execute_result",
          "data": {
            "text/plain": [
              "'<p>\\n <a href=\"a.html\">\\n  test\\n </a>\\n</p>'"
            ]
          },
          "metadata": {
            "tags": []
          },
          "execution_count": 15
        }
      ]
    },
    {
      "metadata": {
        "id": "N9S7FJdZ9B3z",
        "colab_type": "code",
        "colab": {}
      },
      "cell_type": "code",
      "source": [
        "#<a>タグを変数aに代入\n",
        "a=soup.p.a"
      ],
      "execution_count": 0,
      "outputs": []
    },
    {
      "metadata": {
        "id": "W9Jaa65-9OxC",
        "colab_type": "code",
        "outputId": "92c00a98-2d8d-4999-d8f4-7fa4f7ea0529",
        "colab": {
          "base_uri": "https://localhost:8080/",
          "height": 34
        }
      },
      "cell_type": "code",
      "source": [
        "#attrsプロパディの型を確認\n",
        "type(a.attrs)"
      ],
      "execution_count": 0,
      "outputs": [
        {
          "output_type": "execute_result",
          "data": {
            "text/plain": [
              "dict"
            ]
          },
          "metadata": {
            "tags": []
          },
          "execution_count": 17
        }
      ]
    },
    {
      "metadata": {
        "id": "klFI-0c49ebn",
        "colab_type": "code",
        "outputId": "0b4159dd-ca8d-4896-b4c7-235bbb741073",
        "colab": {
          "base_uri": "https://localhost:8080/",
          "height": 34
        }
      },
      "cell_type": "code",
      "source": [
        "#href属性があるかどうか確認する\n",
        "'href' in a.attrs"
      ],
      "execution_count": 0,
      "outputs": [
        {
          "output_type": "execute_result",
          "data": {
            "text/plain": [
              "True"
            ]
          },
          "metadata": {
            "tags": []
          },
          "execution_count": 18
        }
      ]
    },
    {
      "metadata": {
        "id": "KZ-6gzKj9u9b",
        "colab_type": "code",
        "outputId": "c000c0b6-f0cd-4ec7-c6fe-28b871ed358a",
        "colab": {
          "base_uri": "https://localhost:8080/",
          "height": 34
        }
      },
      "cell_type": "code",
      "source": [
        "#href属性の値を確認\n",
        "a['href']"
      ],
      "execution_count": 0,
      "outputs": [
        {
          "output_type": "execute_result",
          "data": {
            "text/plain": [
              "'a.html'"
            ]
          },
          "metadata": {
            "tags": []
          },
          "execution_count": 19
        }
      ]
    },
    {
      "metadata": {
        "id": "EtTiBLfH9_Wn",
        "colab_type": "text"
      },
      "cell_type": "markdown",
      "source": [
        "###urlopen()とBeautifulSoupの組み合わせ"
      ]
    },
    {
      "metadata": {
        "id": "ukxZaL7l901W",
        "colab_type": "code",
        "outputId": "0a60f55e-a3b5-42dc-bf3a-5b3f38e49daa",
        "colab": {
          "base_uri": "https://localhost:8080/",
          "height": 34
        }
      },
      "cell_type": "code",
      "source": [
        "from bs4 import BeautifulSoup\n",
        "import urllib.request as req\n",
        "\n",
        "url= \"https://api.aoikujira.com/zip/xml/1500042\"\n",
        "\n",
        "#urlopen()でデータを取得\n",
        "res = req.urlopen(url)\n",
        "\n",
        "#BeautifulSoupで解析\n",
        "soup = BeautifulSoup(res,'html.parser')\n",
        "\n",
        "#任意のデータを抽出\n",
        "ken = soup.find(\"ken\").string\n",
        "shi  = soup.find(\"shi\").string\n",
        "cho = soup.find(\"cho\").string\n",
        "print(ken,shi,cho)"
      ],
      "execution_count": 0,
      "outputs": [
        {
          "output_type": "stream",
          "text": [
            "東京都 渋谷区 宇田川町\n"
          ],
          "name": "stdout"
        }
      ]
    },
    {
      "metadata": {
        "id": "2iWa8tC4_Z7W",
        "colab_type": "text"
      },
      "cell_type": "markdown",
      "source": [
        "### CSSセレクターを使う\n",
        "\n",
        "soup.select_one(セレクター) ---> CSSセレクターで要素を１つ取り出す\n",
        "\n",
        "soup.select(セレクター) ----> CSSセレクターで複数要素を取り出しリスト型で返す"
      ]
    },
    {
      "metadata": {
        "id": "2k_qjqee_Uqv",
        "colab_type": "code",
        "outputId": "30958372-13b4-48c9-f1c6-f66d601b5183",
        "colab": {
          "base_uri": "https://localhost:8080/",
          "height": 85
        }
      },
      "cell_type": "code",
      "source": [
        "from bs4 import BeautifulSoup\n",
        "\n",
        "#解析対象となるHTML\n",
        "html=\"\"\"\n",
        "    <html><body>\n",
        "    <div id=\"meigen\">\n",
        "        <h1>トルストイの名言</h1>\n",
        "        <ul class=\"items\">\n",
        "            <li>汝の心に教えよ、心に学ぶな</li>\n",
        "            <li>謙虚な人は誰からも好かれる</li>\n",
        "            <li>強い人々は、いつも気取らない</li>\n",
        "        </ul>\n",
        "    </div>\n",
        "    </body><html>\n",
        "    \"\"\"\n",
        "\n",
        "#HTMLを解析する\n",
        "soup = BeautifulSoup(html,'html.parser')\n",
        "\n",
        "#必要な部分を CSSクエリで取り出す\n",
        "#タイトル部分を取得\n",
        "h1 = soup.select_one(\"div#meigen > h1\").string\n",
        "print(\"h1=\",h1)\n",
        "\n",
        "#リスト部分を取得\n",
        "li_list = soup.select(\"div#meigen > ul.items > li\")\n",
        "for li in li_list:\n",
        "    print(\"li = \",li.string)"
      ],
      "execution_count": 0,
      "outputs": [
        {
          "output_type": "stream",
          "text": [
            "h1= トルストイの名言\n",
            "li =  汝の心に教えよ、心に学ぶな\n",
            "li =  謙虚な人は誰からも好かれる\n",
            "li =  強い人々は、いつも気取らない\n"
          ],
          "name": "stdout"
        }
      ]
    },
    {
      "metadata": {
        "id": "AFj2OmlkLkmd",
        "colab_type": "text"
      },
      "cell_type": "markdown",
      "source": [
        "## Yahoo!ファイナンスの為替情報を取得する"
      ]
    },
    {
      "metadata": {
        "id": "h6kzij2xKBjV",
        "colab_type": "code",
        "outputId": "93017c5e-8162-4215-c045-e98d31aa57ba",
        "colab": {
          "base_uri": "https://localhost:8080/",
          "height": 34
        }
      },
      "cell_type": "code",
      "source": [
        "from bs4 import BeautifulSoup\n",
        "import urllib.request as req\n",
        "\n",
        "#HTMLを取得する\n",
        "url=\"https://stocks.finance.yahoo.co.jp/stocks/detail/?code=usdjpy\"\n",
        "res = req.urlopen(url)\n",
        "\n",
        "#HTMLを解析\n",
        "soup=BeautifulSoup(res,\"html.parser\")\n",
        "\n",
        "#任意のデータを抽出\n",
        "price=soup.select_one(\".stoksPrice\").string\n",
        "print(\"usd/jpy=\",price)"
      ],
      "execution_count": 0,
      "outputs": [
        {
          "output_type": "stream",
          "text": [
            "usd/jpy= 111.580000\n"
          ],
          "name": "stdout"
        }
      ]
    },
    {
      "metadata": {
        "id": "h4Yf-yVuM60g",
        "colab_type": "code",
        "outputId": "0972889e-8c5d-4362-b357-7003dac6c706",
        "colab": {
          "base_uri": "https://localhost:8080/",
          "height": 34
        }
      },
      "cell_type": "code",
      "source": [
        "from bs4 import BeautifulSoup\n",
        "import urllib.request as req\n",
        "\n",
        "#為替情報XMLを取得する\n",
        "url = \"https://api.aoikujira.com/kawase/xml/usd\"\n",
        "res = req.urlopen(url)\n",
        "\n",
        "#HTMLを解析する\n",
        "soup = BeautifulSoup(res,'html.parser')\n",
        "\n",
        "#任意のデータを抽出\n",
        "jpy = soup.select_one(\"jpy\").string\n",
        "print(\"usd/jpy=\",jpy)"
      ],
      "execution_count": 0,
      "outputs": [
        {
          "output_type": "stream",
          "text": [
            "usd/jpy= 111.55198\n"
          ],
          "name": "stdout"
        }
      ]
    },
    {
      "metadata": {
        "id": "etgs7ot9PMN0",
        "colab_type": "code",
        "outputId": "c188bfe8-9965-4213-f43e-07c95ec279d3",
        "colab": {
          "base_uri": "https://localhost:8080/",
          "height": 1836
        }
      },
      "cell_type": "code",
      "source": [
        "from bs4 import BeautifulSoup\n",
        "import urllib.request as req\n",
        "\n",
        "url=\"https://www.aozora.gr.jp/index_pages/person148.html\"\n",
        "res =req.urlopen(url)\n",
        "soup=BeautifulSoup(res,'html.parser')\n",
        "\n",
        "li_list = soup.select(\"ol > li\")\n",
        "for li in li_list:\n",
        "    a=li.a\n",
        "    if a != None:\n",
        "        name = a.string\n",
        "        href = a.attrs[\"href\"]\n",
        "        print(name,\">\",href)"
      ],
      "execution_count": 0,
      "outputs": [
        {
          "output_type": "stream",
          "text": [
            "イズムの功過 > ../cards/000148/card2314.html\n",
            "一夜 > ../cards/000148/card1086.html\n",
            "永日小品 > ../cards/000148/card758.html\n",
            "岡本一平著並画『探訪画趣』序 > ../cards/000148/card2669.html\n",
            "思い出す事など > ../cards/000148/card792.html\n",
            "カーライル博物館 > ../cards/000148/card1046.html\n",
            "薤露行 > ../cards/000148/card769.html\n",
            "学者と名誉 > ../cards/000148/card2383.html\n",
            "硝子戸の中 > ../cards/000148/card760.html\n",
            "元日 > ../cards/000148/card2674.html\n",
            "鬼哭寺の一夜 > ../cards/000148/card58276.html\n",
            "木下杢太郎『唐草表紙』序 > ../cards/000148/card2670.html\n",
            "教育と文芸 > ../cards/000148/card778.html\n",
            "京に着ける夕 > ../cards/000148/card55936.html\n",
            "京に着ける夕 > ../cards/000148/card777.html\n",
            "虚子君へ > ../cards/000148/card2373.html\n",
            "草枕 > ../cards/000148/card776.html\n",
            "虞美人草 > ../cards/000148/card761.html\n",
            "ケーベル先生 > ../cards/000148/card770.html\n",
            "ケーベル先生の告別 > ../cards/000148/card771.html\n",
            "現代日本の開化 > ../cards/000148/card759.html\n",
            "行人 > ../cards/000148/card775.html\n",
            "坑夫 > ../cards/000148/card774.html\n",
            "こころ > ../cards/000148/card773.html\n",
            "『心』広告文 > ../cards/000148/card4689.html\n",
            "『心』自序 > ../cards/000148/card4688.html\n",
            "『心』予告 > ../cards/000148/card4687.html\n",
            "琴のそら音 > ../cards/000148/card1073.html\n",
            "コンラッドの描きたる自然について > ../cards/000148/card766.html\n",
            "作物の批評 > ../cards/000148/card793.html\n",
            "三山居士 > ../cards/000148/card784.html\n",
            "三四郎 > ../cards/000148/card794.html\n",
            "『三四郎』予告 > ../cards/000148/card4682.html\n",
            "子規の画 > ../cards/000148/card795.html\n",
            "子規の画 > ../cards/000148/card1749.html\n",
            "「自然を写す文章」 > ../cards/000148/card42297.html\n",
            "自転車日記 > ../cards/000148/card768.html\n",
            "写生文 > ../cards/000148/card796.html\n",
            "趣味の遺伝 > ../cards/000148/card1104.html\n",
            "初秋の一日 > ../cards/000148/card797.html\n",
            "処女作追懐談 > ../cards/000148/card2680.html\n",
            "人生 > ../cards/000148/card767.html\n",
            "鈴木三重吉宛書簡―明治三十九年 > ../cards/000148/card2575.html\n",
            "西洋にはない > ../cards/000148/card42320.html\n",
            "戦争からきた行き違い > ../cards/000148/card2315.html\n",
            "創作家の態度 > ../cards/000148/card1102.html\n",
            "それから > ../cards/000148/card56143.html\n",
            "それから > ../cards/000148/card1746.html\n",
            "『それから』予告 > ../cards/000148/card4681.html\n",
            "高浜虚子著『鶏頭』序 > ../cards/000148/card2667.html\n",
            "田山花袋君に答う > ../cards/000148/card2370.html\n",
            "「土」に就て > ../cards/000148/card56900.html\n",
            "『土』に就て > ../cards/000148/card2668.html\n",
            "艇長の遺書と中佐の詩 > ../cards/000148/card4686.html\n",
            "手紙 > ../cards/000148/card798.html\n",
            "『伝説の時代』序 > ../cards/000148/card42156.html\n",
            "点頭録 > ../cards/000148/card4672.html\n",
            "『東洋美術図譜』 > ../cards/000148/card2313.html\n",
            "道楽と職業 > ../cards/000148/card757.html\n",
            "長塚節氏の小説「土」 > ../cards/000148/card2682.html\n",
            "中味と形式 > ../cards/000148/card788.html\n",
            "二百十日 > ../cards/000148/card751.html\n",
            "入社の辞 > ../cards/000148/card2673.html\n",
            "猫の広告文 > ../cards/000148/card4683.html\n",
            "野分 > ../cards/000148/card791.html\n",
            "『煤煙』の序 > ../cards/000148/card4684.html\n",
            "博士問題とマードック先生と余 > ../cards/000148/card787.html\n",
            "博士問題の成行 > ../cards/000148/card2376.html\n",
            "長谷川君と余 > ../cards/000148/card762.html\n",
            "彼岸過迄 > ../cards/000148/card765.html\n",
            "「額の男」を読む > ../cards/000148/card50478.html\n",
            "文芸委員は何をするか > ../cards/000148/card754.html\n",
            "文芸と道徳 > ../cards/000148/card756.html\n",
            "文芸とヒロイツク > ../cards/000148/card4685.html\n",
            "文芸の哲学的基礎 > ../cards/000148/card755.html\n",
            "文芸は男子一生の事業とするに足らざる乎 > ../cards/000148/card2681.html\n",
            "文士の生活 > ../cards/000148/card2679.html\n",
            "文壇の趨勢 > ../cards/000148/card2371.html\n",
            "文鳥 > ../cards/000148/card753.html\n",
            "変な音 > ../cards/000148/card764.html\n",
            "変な音 > ../cards/000148/card763.html\n",
            "僕の昔 > ../cards/000148/card1750.html\n",
            "坊っちゃん > ../cards/000148/card752.html\n",
            "マードック先生の『日本歴史』 > ../cards/000148/card2375.html\n",
            "正岡子規 > ../cards/000148/card1751.html\n",
            "幻影の盾 > ../cards/000148/card780.html\n",
            "満韓ところどころ > ../cards/000148/card781.html\n",
            "道草 > ../cards/000148/card783.html\n",
            "無題 > ../cards/000148/card786.html\n",
            "明暗 > ../cards/000148/card782.html\n",
            "明治座の所感を虚子君に問れて > ../cards/000148/card2372.html\n",
            "模倣と独立 > ../cards/000148/card1747.html\n",
            "門 > ../cards/000148/card56923.html\n",
            "門 > ../cards/000148/card785.html\n",
            "夢十夜 > ../cards/000148/card799.html\n",
            "余と万年筆 > ../cards/000148/card2675.html\n",
            "予の描かんと欲する作品 > ../cards/000148/card2678.html\n",
            "落第 > ../cards/000148/card2676.html\n",
            "倫敦消息 > ../cards/000148/card779.html\n",
            "倫敦塔 > ../cards/000148/card1076.html\n",
            "吾輩は猫である > ../cards/000148/card789.html\n",
            "吾輩ハ猫デアル > ../cards/000148/card790.html\n",
            "『吾輩は猫である』下篇自序 > ../cards/000148/card2672.html\n",
            "『吾輩は猫である』上篇自序 > ../cards/000148/card47148.html\n",
            "『吾輩は猫である』中篇自序 > ../cards/000148/card2671.html\n",
            "私の経過した学生時代 > ../cards/000148/card2677.html\n",
            "私の個人主義 > ../cards/000148/card772.html\n"
          ],
          "name": "stdout"
        }
      ]
    },
    {
      "metadata": {
        "id": "nSsohOBe0XwL",
        "colab_type": "text"
      },
      "cell_type": "markdown",
      "source": [
        "`<a>`タグが相対パスで記述されているファイルをダウンロードするには、絶対パスに変換する必要がある"
      ]
    },
    {
      "metadata": {
        "id": "KQgI2QX4T8Id",
        "colab_type": "code",
        "outputId": "391ae94e-1aab-4aee-c32e-bc9b6d314aa5",
        "colab": {
          "base_uri": "https://localhost:8080/",
          "height": 102
        }
      },
      "cell_type": "code",
      "source": [
        "from urllib.parse import urljoin\n",
        "\n",
        "base=\"http://example.com/html/a.html\"\n",
        "\n",
        "print(urljoin(base,\"b.html\"))\n",
        "print(urljoin(base,\"sub/c.html\"))\n",
        "print(urljoin(base,\"../index.html\"))\n",
        "print(urljoin(base,\"../img/hoge.png\"))\n",
        "print(urljoin(base,\"..css/hoge.css\"))"
      ],
      "execution_count": 0,
      "outputs": [
        {
          "output_type": "stream",
          "text": [
            "http://example.com/html/b.html\n",
            "http://example.com/html/sub/c.html\n",
            "http://example.com/index.html\n",
            "http://example.com/img/hoge.png\n",
            "http://example.com/html/..css/hoge.css\n"
          ],
          "name": "stdout"
        }
      ]
    },
    {
      "metadata": {
        "id": "ZzJNnAre4rxP",
        "colab_type": "text"
      },
      "cell_type": "markdown",
      "source": [
        "##  `<a>`タグの絶対パスへの変換"
      ]
    },
    {
      "metadata": {
        "id": "aG0h83uA2_GL",
        "colab_type": "text"
      },
      "cell_type": "markdown",
      "source": [
        "[書式]：`urllib.parse.urljoin()`の使い方\n",
        "\n",
        "`urljoin(base,path)`\n",
        "\n",
        "---\n",
        "\n",
        "この関数の第一引数には、基準となるURL、そして第二引数に解決したいパスを指定して、第二引数に指定したURLを解決する\n"
      ]
    },
    {
      "metadata": {
        "id": "EeD-9gVA2T37",
        "colab_type": "code",
        "outputId": "613b4fec-ce34-4698-af5f-c1f0f55e75d5",
        "colab": {
          "base_uri": "https://localhost:8080/",
          "height": 68
        }
      },
      "cell_type": "code",
      "source": [
        "from urllib.parse import urljoin\n",
        "\n",
        "base = \"http://example.com/html/a.html\"\n",
        "\n",
        "print(urljoin(base,\"/hoge.html\"))\n",
        "print(urljoin(base,\"http://kujirahand.com/wiki\"))\n",
        "print(urljoin(base,\"//uta.pw/shodou\"))"
      ],
      "execution_count": 0,
      "outputs": [
        {
          "output_type": "stream",
          "text": [
            "http://example.com/hoge.html\n",
            "http://kujirahand.com/wiki\n",
            "http://uta.pw/shodou\n"
          ],
          "name": "stdout"
        }
      ]
    },
    {
      "metadata": {
        "id": "t-yAmFU-8GcZ",
        "colab_type": "text"
      },
      "cell_type": "markdown",
      "source": [
        "## 再帰的にHTMLページを処理する。\n",
        "\n",
        "\n",
        "\n",
        "---\n",
        "\n",
        "![リンクは再帰的に処理する必要がある](https://drive.google.com/open?id=1eEsKjnReWVF_KJnG8QIr-D1189hoF4Bv)"
      ]
    },
    {
      "metadata": {
        "id": "AbwolPdm4fM3",
        "colab_type": "code",
        "outputId": "fb6c1074-4abb-4145-97c9-e8dd47498599",
        "colab": {
          "resources": {
            "http://localhost:8080/nbextensions/google.colab/files.js": {
              "data": "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",
              "ok": true,
              "headers": [
                [
                  "content-type",
                  "application/javascript"
                ]
              ],
              "status": 200,
              "status_text": ""
            }
          },
          "base_uri": "https://localhost:8080/",
          "height": 37
        }
      },
      "cell_type": "code",
      "source": [
        "from google.colab import files\n",
        "uploaded = files.upload()"
      ],
      "execution_count": 0,
      "outputs": [
        {
          "output_type": "display_data",
          "data": {
            "text/html": [
              "\n",
              "     <input type=\"file\" id=\"files-ecf62835-b8fc-467f-8b21-1ee1135bee36\" name=\"files[]\" multiple disabled />\n",
              "     <output id=\"result-ecf62835-b8fc-467f-8b21-1ee1135bee36\">\n",
              "      Upload widget is only available when the cell has been executed in the\n",
              "      current browser session. Please rerun this cell to enable.\n",
              "      </output>\n",
              "      <script src=\"/nbextensions/google.colab/files.js\"></script> "
            ],
            "text/plain": [
              "<IPython.core.display.HTML object>"
            ]
          },
          "metadata": {
            "tags": []
          }
        }
      ]
    },
    {
      "metadata": {
        "id": "IEsoCMF5EDcS",
        "colab_type": "code",
        "colab": {}
      },
      "cell_type": "code",
      "source": [
        "from IPython.display import Image,display_jpeg\n",
        "display_jpeg(Image(\"chart1_html.jpeg\"))"
      ],
      "execution_count": 0,
      "outputs": []
    },
    {
      "metadata": {
        "id": "3tQ7VGgPHQOI",
        "colab_type": "text"
      },
      "cell_type": "markdown",
      "source": [
        "- 関数の再起処理を利用する\n",
        "　\n",
        " 1.  HTMLを解析する\n",
        " 2.  リンクを抽出する\n",
        " 3.  各リンク先について以下の処理を行う。\n",
        " 4.   ファイルをダウンロード\n",
        " 5.  ファイルがHTMLならば、再帰的に１から手順を実行\n",
        " "
      ]
    },
    {
      "metadata": {
        "id": "uU-EzemyIdwj",
        "colab_type": "text"
      },
      "cell_type": "markdown",
      "source": [
        "### pythonのマニュアルを再帰的にダウンロードする"
      ]
    },
    {
      "metadata": {
        "id": "FGXEmrD7FR0I",
        "colab_type": "code",
        "colab": {}
      },
      "cell_type": "code",
      "source": [
        "#モジュールの取り込み\n",
        "from bs4 import BeautifulSoup\n",
        "from urllib.request import *\n",
        "from urllib.parse import *\n",
        "from os import makedirs\n",
        "import os.path,time,re"
      ],
      "execution_count": 0,
      "outputs": []
    },
    {
      "metadata": {
        "id": "jwDzhVsxRnnZ",
        "colab_type": "code",
        "colab": {}
      },
      "cell_type": "code",
      "source": [
        "#処理済み判断変数\n",
        "proc_files={}"
      ],
      "execution_count": 0,
      "outputs": []
    },
    {
      "metadata": {
        "id": "-EMtmzjYSFw1",
        "colab_type": "code",
        "colab": {}
      },
      "cell_type": "code",
      "source": [
        "#HTML内にあるリンクを抽出する関数\n",
        "\n",
        "def enum_links(html,base):\n",
        "    soup = BeautifulSoup(html,\"html.parser\")\n",
        "    links = soup.select(\"link[rel='stylesheet']\") #CSS\n",
        "    links  += soup.select(\"a[href]\")\n",
        "    result=[]\n",
        "    #href属性を取り出し、リンクを絶対パスに変換する\n",
        "    for a in links:\n",
        "        href = a.attrs['href']\n",
        "        url = urljoin(base,href)\n",
        "        result.append(url)\n",
        "    return result\n"
      ],
      "execution_count": 0,
      "outputs": []
    },
    {
      "metadata": {
        "id": "VGa489WPUFVh",
        "colab_type": "code",
        "colab": {}
      },
      "cell_type": "code",
      "source": [
        "# ファイルをダウンロードして保存する関数\n",
        "\n",
        "def download_file(url):\n",
        "    o=urlparse(url)\n",
        "    savepath =\"./\"+o.netloc + o.path\n",
        "    if re.search(r\"/$\",savepath):  #正規表現、ディレクトリーならindex.html\n",
        "        savepath += \"index.html\"\n",
        "    savedir = os.path.dirname(savepath)\n",
        "    #全てダウンロード済み？\n",
        "    if os.path.exists(savepath):return savepath\n",
        "    #ダウンロード先のディレクトリ＝作成\n",
        "    if not os.path.exists(savedir):\n",
        "        print(\"mkdir=\",savedir)\n",
        "        makedirs(savedir)\n",
        "   # ファイルをダウンローど\n",
        "    try:\n",
        "        print(\"download=\",url)\n",
        "        urlrerieve(url,savepath)\n",
        "        time.sleep(1) #礼儀として１秒スリープ\n",
        "        return savepath\n",
        "    except:\n",
        "        print(\"ダウンロード失敗；\",url)\n",
        "        return None\n",
        "    "
      ],
      "execution_count": 0,
      "outputs": []
    },
    {
      "metadata": {
        "id": "fc5v36WeW0c7",
        "colab_type": "code",
        "outputId": "515a6541-3c0b-4de3-c6fc-723db58a2237",
        "colab": {
          "base_uri": "https://localhost:8080/",
          "height": 68
        }
      },
      "cell_type": "code",
      "source": [
        "# HTMLを解析してダウンロードする関数\n",
        "\n",
        "def analize_html(url,root_url):\n",
        "    savepath =download_file(url)\n",
        "    if savepath is None: return\n",
        "    if savepath in proc_files: return  #解決ずみなら処理しない\n",
        "    proc_files[savepath]=True\n",
        "    print(\"analize_html=\",url)\n",
        "    #リンクを抽出する\n",
        "    html=open(savepath,\"r\",encoding=\"utf-8\").read()\n",
        "    links =enum_links(html,url)\n",
        "    for link_url in links:\n",
        "        #リンクがルート以外のパスをさしていたら無視\n",
        "        if link_url.find(root_url) !=0:\n",
        "            if not re.search(r\".css$\",link_url):continue\n",
        "        #HTMLか？\n",
        "        if re.search(r\".(html|htm)$\",link_url):\n",
        "                     #再帰的にHTMLファイルを解析\n",
        "                     analize_html(link_url,root_url)\n",
        "                     continue\n",
        "       #それ以外のファイル\n",
        "        download_file(link_url)\n",
        "                     \n",
        "if __name__ == \"__main__\":\n",
        "                     #URLを丸ごとダウンロード\n",
        "                     url = \"https://docs.python.jp/3.6/library/\"\n",
        "                     analize_html(url,url)"
      ],
      "execution_count": 0,
      "outputs": [
        {
          "output_type": "stream",
          "text": [
            "mkdir= ./docs.python.jp/3.6/library\n",
            "download= https://docs.python.jp/3.6/library/\n",
            "ダウンロード失敗； https://docs.python.jp/3.6/library/\n"
          ],
          "name": "stdout"
        }
      ]
    },
    {
      "metadata": {
        "id": "PS2zuCnuiv3o",
        "colab_type": "text"
      },
      "cell_type": "markdown",
      "source": [
        "## 高度なスクレイピング"
      ]
    },
    {
      "metadata": {
        "id": "vmBr4ZdGi2Zm",
        "colab_type": "text"
      },
      "cell_type": "markdown",
      "source": [
        "### ログインの必要なサイトからダウンロード"
      ]
    },
    {
      "metadata": {
        "id": "47lCmnOmc9qb",
        "colab_type": "code",
        "outputId": "1e9db182-9629-49a7-f1b2-472ad46b6aa2",
        "colab": {
          "base_uri": "https://localhost:8080/",
          "height": 904
        }
      },
      "cell_type": "code",
      "source": [
        "# 　作詞掲示板にログインしてお気に入りの詩を取得する\n",
        "import requests\n",
        "from bs4 import BeautifulSoup\n",
        "from urllib.parse import urljoin\n",
        "\n",
        "#ユーザー名とパスワード指定\n",
        "USER=\"JS-TESTER\"\n",
        "PASS=\"ipCU12ySxI\"\n",
        "\n",
        "#セッションを開始\n",
        "session=requests.session()\n",
        " \n",
        "#ログイン\n",
        "login_info = {\n",
        "    \"username_mmlbbs6\": USER,              #ユーザー名を指定\n",
        "    \"password_mmlbbs6\":  PASS,             # パスワードを指定\n",
        "    \"back\":  \"index.php\",                             # ログイン時に指定する値\n",
        "    \"mml_id\":  \"0\"                                        #ログイン時に指定する値\n",
        "}\n",
        "\n",
        "url_login = \"https://uta.pw/sakusibbs/users.php?action=login&m=try\"\n",
        "res = session.post(url_login,data=login_info)\n",
        "res.raise_for_status() #エラーならこおで例外を発生させる\n",
        "\n",
        "# マイページの URLをピックアップする\n",
        "soup = BeautifulSoup(res.text,\"html.parser\")\n",
        "a = soup.select_one(\".islogin a\")\n",
        "if a is None:\n",
        "    print(\"マイページが取得できませんでした。\")\n",
        "    quit()\n",
        "\n",
        "#相対パスを絶対urlに変換\n",
        "url_mypage=urljoin(url_login,a.attrs[\"href\"])\n",
        "print(\"マイページ＝\",url_mypage)\n",
        "\n",
        "#マイページにアクセス\n",
        "res = session.get(url_mypage)\n",
        "res.raise_for_status()\n",
        "\n",
        "#お気に入りの誌のタイトル\n",
        "soup = BeautifulSoup(res.text,\"html.parser\")\n",
        "links = soup.select(\"#favlist li > a\")\n",
        "for a in links:\n",
        "    href = a.attrs[\"href\"]\n",
        "    title = a.get_text()\n",
        "    print(\"_\",title,\">\",href)\n"
      ],
      "execution_count": 0,
      "outputs": [
        {
          "output_type": "stream",
          "text": [
            "マイページ＝ https://uta.pw/sakusibbs/users.php?user_id=32\n",
            "_ 今日も明日もJS三昧 by JS-TESTER > post.php?mml_id=161\n",
            "_ 眠ってもデバッグ by JS-TESTER > post.php?mml_id=162\n",
            "_ プリンとシュークリーム by JS-TESTER > post.php?mml_id=246\n",
            "_ 吾輩はテスターである by JS-TESTER > post.php?mml_id=268\n",
            "_ 吾輩はテスターである　その２ by JS-TESTER > post.php?mml_id=269\n",
            "_ test by JS-TESTER > post.php?mml_id=281\n",
            "_ test2 by JS-TESTER > post.php?mml_id=288\n",
            "_ 憎しみの果て by JS-TESTER > post.php?mml_id=291\n",
            "_ test1 by JS-TESTER > post.php?mml_id=297\n",
            "_ 無題 by JS-TESTER > post.php?mml_id=318\n",
            "_ 無題 by JS-TESTER > post.php?mml_id=358\n",
            "_ 無題 by JS-TESTER > post.php?mml_id=359\n",
            "_ 吾輩は爆薬である by JS-TESTER > post.php?mml_id=380\n",
            "_ クローリングララバイ by JS-TESTER > post.php?mml_id=402\n",
            "_ ネジ by JS-TESTER > post.php?mml_id=408\n",
            "_ スクラップブック by JS-TESTER > post.php?mml_id=409\n",
            "_ 聞こえない by JS-TESTER > post.php?mml_id=410\n",
            "_ httpsにしないといけない by JS-TESTER > post.php?mml_id=411\n",
            "_ グーグルクロームのhttps警告対策で、最近https化されたのでしょうか。 by JS-TESTER > post.php?mml_id=415\n",
            "_ teset by JS-TESTER > post.php?mml_id=430\n",
            "_ テストテストテスト by JS-TESTER > post.php?mml_id=436\n",
            "_ test by JS-TESTER > post.php?mml_id=703\n",
            "_ 無題 by JS-TESTER > post.php?mml_id=716\n",
            "_ へのへのもへじ by JS-TESTER > post.php?mml_id=733\n",
            "_ 美しい君を殺してもいい？ by 月城 麻里奈 > post.php?mml_id=742\n",
            "_ 青空の下で走ろう（Long Ver.） by Azuline > post.php?mml_id=713\n",
            "_ 餅つきの歌 by Azuline > post.php?mml_id=715\n",
            "_ リトマス紙と私 by クジラ飛行机 > post.php?mml_id=141\n",
            "_ 優しく抱いてキスをして by 月城 麻里奈 > post.php?mml_id=721\n",
            "_ ダイヤモンドテレパシー by 月城 麻里奈 > post.php?mml_id=717\n",
            "_ 愛が嘘に消えたら by 月城 麻里奈 > post.php?mml_id=702\n",
            "_ Guilty mind by 月城 麻里奈 > post.php?mml_id=699\n",
            "_ 抱かれて泣いて溺れていたい by 月城 麻里奈 > post.php?mml_id=697\n",
            "_ 枯葉 by かず > post.php?mml_id=655\n",
            "_ 君への想いが恋の別れ by かず > post.php?mml_id=588\n",
            "_ ＨＥＲＯ by jsb > post.php?mml_id=422\n",
            "_ 離れてても君を by jsb > post.php?mml_id=435\n",
            "_ ネバーエンディングストーリー by jsb > post.php?mml_id=426\n",
            "_ 希望の花が咲くだろう by jsb > post.php?mml_id=425\n",
            "_ 風になりたい by jsb > post.php?mml_id=424\n",
            "_ 虹色のかけら by jsb > post.php?mml_id=423\n",
            "_ 木漏れ日の笑顔 by jsb > post.php?mml_id=432\n",
            "_ アメジングきっと　making by jsb > post.php?mml_id=431\n",
            "_ 届けharmony by jsb > post.php?mml_id=428\n",
            "_ Nice girl   他　　この世界に by jsb > post.php?mml_id=427\n",
            "_ 木漏れ日 by jsb > post.php?mml_id=434\n",
            "_ すたーとふろむ風呂 by クジラ飛行机 > post.php?mml_id=346\n",
            "_ 取り外す by クジラ飛行机 > post.php?mml_id=272\n",
            "_ 危険な試験 by クジラ飛行机 > post.php?mml_id=270\n",
            "_ ヨモギ by クジラ飛行机 > post.php?mml_id=347\n"
          ],
          "name": "stdout"
        }
      ]
    },
    {
      "metadata": {
        "id": "XTsAtsUP2puR",
        "colab_type": "text"
      },
      "cell_type": "markdown",
      "source": [
        "## ブラウザーを経由したスクレイピング\n",
        "\n",
        "- WEBブラウザを遠隔操作するツールSelenium\n",
        "\n",
        "    -  webアプリのテストの自動化などに使われる。自動的にURLを開き、クリック、スクロール、文字入力など様々な自動化が可能。画面キャプチャーをとったり、HTMLの任意の部分を取り出すことも可能。\n",
        "    \n",
        "    -  複数のブラウザに対応しているのもポイント。"
      ]
    },
    {
      "metadata": {
        "id": "JDfhfNo58PWC",
        "colab_type": "text"
      },
      "cell_type": "markdown",
      "source": [
        "##  Wikipediaからスクレイピング\n",
        "\n"
      ]
    },
    {
      "metadata": {
        "id": "4N1s5edHv-KS",
        "colab_type": "code",
        "colab": {}
      },
      "cell_type": "code",
      "source": [
        ""
      ],
      "execution_count": 0,
      "outputs": []
    },
    {
      "metadata": {
        "id": "jc9ZBaQ-9wJ-",
        "colab_type": "text"
      },
      "cell_type": "markdown",
      "source": [
        "## cron と定期的なクローリング\n",
        "\n",
        "- ** 定期実行を使うメリットを確認**\n",
        "---\n",
        "\n",
        "\n",
        "\n",
        "1.    データ収集などアプリ内で必要となる定期処理\n",
        "2.   ログやバックアップなどシステム関連の定期処理\n",
        "3.   システムが正しく動作しているか定期的に監視する処理\n",
        "\n"
      ]
    },
    {
      "metadata": {
        "id": "UrjaoRz4-wqc",
        "colab_type": "text"
      },
      "cell_type": "markdown",
      "source": [
        "### 為替情報を定期的に保存するシステムを作る\n",
        "---\n",
        "\n",
        "データ取得したら『2018-10-10.json』のように保存する。"
      ]
    },
    {
      "metadata": {
        "id": "p9prKLK7916u",
        "colab_type": "code",
        "colab": {}
      },
      "cell_type": "code",
      "source": [
        ""
      ],
      "execution_count": 0,
      "outputs": []
    }
  ]
}