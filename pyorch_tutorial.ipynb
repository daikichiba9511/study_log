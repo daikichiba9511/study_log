{
  "nbformat": 4,
  "nbformat_minor": 0,
  "metadata": {
    "colab": {
      "name": "pyorch_tutorial.ipynb",
      "version": "0.3.2",
      "provenance": [],
      "include_colab_link": true
    },
    "kernelspec": {
      "name": "python3",
      "display_name": "Python 3"
    }
  },
  "cells": [
    {
      "cell_type": "markdown",
      "metadata": {
        "id": "view-in-github",
        "colab_type": "text"
      },
      "source": [
        "<a href=\"https://colab.research.google.com/github/daikichiba9511/study_log/blob/master/pyorch_tutorial.ipynb\" target=\"_parent\"><img src=\"https://colab.research.google.com/assets/colab-badge.svg\" alt=\"Open In Colab\"/></a>"
      ]
    },
    {
      "metadata": {
        "id": "ityoiZ3aWqhk",
        "colab_type": "text"
      },
      "cell_type": "markdown",
      "source": [
        "***pytorch***\n",
        "\n",
        "チュートリアル\n",
        "\n"
      ]
    },
    {
      "metadata": {
        "id": "Jyvz-qhCW791",
        "colab_type": "code",
        "colab": {}
      },
      "cell_type": "code",
      "source": [
        "import torch"
      ],
      "execution_count": 0,
      "outputs": []
    },
    {
      "metadata": {
        "id": "db6t7yivXLnA",
        "colab_type": "code",
        "outputId": "6aca5b30-1049-4c42-8dc7-148c409880dd",
        "colab": {
          "base_uri": "https://localhost:8080/",
          "height": 102
        }
      },
      "cell_type": "code",
      "source": [
        "#初期化された(5,3)行列をTensor型で宣言\n",
        "x=torch.Tensor(5,3)\n",
        "x"
      ],
      "execution_count": 32,
      "outputs": [
        {
          "output_type": "execute_result",
          "data": {
            "text/plain": [
              "tensor([[1.4643e-36, 0.0000e+00, 4.4842e-44],\n",
              "        [0.0000e+00,        nan, 2.6908e+20],\n",
              "        [8.5388e-07, 1.6690e+22, 3.3796e+21],\n",
              "        [1.0500e-08, 8.3560e+20, 4.2726e-05],\n",
              "        [3.3585e-06, 3.3056e+21, 1.3919e-40]])"
            ]
          },
          "metadata": {
            "tags": []
          },
          "execution_count": 32
        }
      ]
    },
    {
      "metadata": {
        "id": "1GAgscKcYosD",
        "colab_type": "code",
        "outputId": "5f24e2a7-eb9c-4ceb-d6e4-8b60d73af541",
        "colab": {
          "base_uri": "https://localhost:8080/",
          "height": 102
        }
      },
      "cell_type": "code",
      "source": [
        "#乱数で初期化したものをTensor型で宣言する\n",
        "y=torch.rand(5,3)\n",
        "y"
      ],
      "execution_count": 33,
      "outputs": [
        {
          "output_type": "execute_result",
          "data": {
            "text/plain": [
              "tensor([[0.4079, 0.3497, 0.5343],\n",
              "        [0.5806, 0.2269, 0.6082],\n",
              "        [0.8427, 0.1700, 0.8972],\n",
              "        [0.4785, 0.4565, 0.9293],\n",
              "        [0.1650, 0.8715, 0.1737]])"
            ]
          },
          "metadata": {
            "tags": []
          },
          "execution_count": 33
        }
      ]
    },
    {
      "metadata": {
        "id": "-z8ztUjwZCbT",
        "colab_type": "code",
        "outputId": "6c1b4b05-f2ca-4239-c69c-6e7cd955abbf",
        "colab": {
          "base_uri": "https://localhost:8080/",
          "height": 34
        }
      },
      "cell_type": "code",
      "source": [
        "#サイズの確認\n",
        "x.size()"
      ],
      "execution_count": 34,
      "outputs": [
        {
          "output_type": "execute_result",
          "data": {
            "text/plain": [
              "torch.Size([5, 3])"
            ]
          },
          "metadata": {
            "tags": []
          },
          "execution_count": 34
        }
      ]
    },
    {
      "metadata": {
        "id": "-D4sPPDSZIem",
        "colab_type": "code",
        "outputId": "e8be2234-c840-44a7-bc88-8e8a51c8b77d",
        "colab": {
          "base_uri": "https://localhost:8080/",
          "height": 102
        }
      },
      "cell_type": "code",
      "source": [
        "x+y"
      ],
      "execution_count": 35,
      "outputs": [
        {
          "output_type": "execute_result",
          "data": {
            "text/plain": [
              "tensor([[4.0785e-01, 3.4967e-01, 5.3425e-01],\n",
              "        [5.8061e-01,        nan, 2.6908e+20],\n",
              "        [8.4272e-01, 1.6690e+22, 3.3796e+21],\n",
              "        [4.7850e-01, 8.3560e+20, 9.2931e-01],\n",
              "        [1.6503e-01, 3.3056e+21, 1.7369e-01]])"
            ]
          },
          "metadata": {
            "tags": []
          },
          "execution_count": 35
        }
      ]
    },
    {
      "metadata": {
        "id": "x9opRDP_ZQuQ",
        "colab_type": "code",
        "outputId": "723042b6-4a77-44bb-83d2-fd22f5dd235e",
        "colab": {
          "base_uri": "https://localhost:8080/",
          "height": 102
        }
      },
      "cell_type": "code",
      "source": [
        "#加算\n",
        "result=torch.Tensor(5,3) #make empty (5,3) Tensor\n",
        "torch.add(x,y,out=result)\n",
        "result"
      ],
      "execution_count": 36,
      "outputs": [
        {
          "output_type": "execute_result",
          "data": {
            "text/plain": [
              "tensor([[4.0785e-01, 3.4967e-01, 5.3425e-01],\n",
              "        [5.8061e-01,        nan, 2.6908e+20],\n",
              "        [8.4272e-01, 1.6690e+22, 3.3796e+21],\n",
              "        [4.7850e-01, 8.3560e+20, 9.2931e-01],\n",
              "        [1.6503e-01, 3.3056e+21, 1.7369e-01]])"
            ]
          },
          "metadata": {
            "tags": []
          },
          "execution_count": 36
        }
      ]
    },
    {
      "metadata": {
        "id": "GsunxmmsZndD",
        "colab_type": "code",
        "colab": {
          "base_uri": "https://localhost:8080/",
          "height": 102
        },
        "outputId": "e86ea61a-7743-45d0-c3a1-44b90f34981b"
      },
      "cell_type": "code",
      "source": [
        "y.add_(x)  #\"add_(x)\" -> y=y+x"
      ],
      "execution_count": 37,
      "outputs": [
        {
          "output_type": "execute_result",
          "data": {
            "text/plain": [
              "tensor([[4.0785e-01, 3.4967e-01, 5.3425e-01],\n",
              "        [5.8061e-01,        nan, 2.6908e+20],\n",
              "        [8.4272e-01, 1.6690e+22, 3.3796e+21],\n",
              "        [4.7850e-01, 8.3560e+20, 9.2931e-01],\n",
              "        [1.6503e-01, 3.3056e+21, 1.7369e-01]])"
            ]
          },
          "metadata": {
            "tags": []
          },
          "execution_count": 37
        }
      ]
    },
    {
      "metadata": {
        "id": "W1LgNf_0bUwh",
        "colab_type": "code",
        "colab": {}
      },
      "cell_type": "code",
      "source": [
        "from torch.autograd import Variable"
      ],
      "execution_count": 0,
      "outputs": []
    },
    {
      "metadata": {
        "id": "KVjGM_Qdbf64",
        "colab_type": "code",
        "outputId": "049f4169-38ff-4ab2-9363-538d27779b7b",
        "colab": {
          "base_uri": "https://localhost:8080/",
          "height": 51
        }
      },
      "cell_type": "code",
      "source": [
        "#try to make variable\n",
        "x=Variable(torch.ones(2,2),requires_grad=True)\n",
        "print(x)"
      ],
      "execution_count": 39,
      "outputs": [
        {
          "output_type": "stream",
          "text": [
            "tensor([[1., 1.],\n",
            "        [1., 1.]], requires_grad=True)\n"
          ],
          "name": "stdout"
        }
      ]
    },
    {
      "metadata": {
        "id": "2MhOtGDlbtjE",
        "colab_type": "code",
        "outputId": "84d14392-4962-40a7-db67-4cb64e74a399",
        "colab": {
          "base_uri": "https://localhost:8080/",
          "height": 85
        }
      },
      "cell_type": "code",
      "source": [
        "#add\n",
        "y=x+2\n",
        "print(y)\n",
        "#mul\n",
        "z=x*4\n",
        "z"
      ],
      "execution_count": 40,
      "outputs": [
        {
          "output_type": "stream",
          "text": [
            "tensor([[3., 3.],\n",
            "        [3., 3.]], grad_fn=<AddBackward0>)\n"
          ],
          "name": "stdout"
        },
        {
          "output_type": "execute_result",
          "data": {
            "text/plain": [
              "tensor([[4., 4.],\n",
              "        [4., 4.]], grad_fn=<MulBackward0>)"
            ]
          },
          "metadata": {
            "tags": []
          },
          "execution_count": 40
        }
      ]
    },
    {
      "metadata": {
        "id": "8BKMwFYtb6pd",
        "colab_type": "code",
        "outputId": "154856e9-3797-4a8e-8ad3-ebf895bd3c3f",
        "colab": {
          "base_uri": "https://localhost:8080/",
          "height": 34
        }
      },
      "cell_type": "code",
      "source": [
        "#演算後に生成されたVariableには属性grad_fnがふよされる\n",
        "y.grad_fn"
      ],
      "execution_count": 41,
      "outputs": [
        {
          "output_type": "execute_result",
          "data": {
            "text/plain": [
              "<AddBackward0 at 0x7fef62512208>"
            ]
          },
          "metadata": {
            "tags": []
          },
          "execution_count": 41
        }
      ]
    },
    {
      "metadata": {
        "id": "T88JQoc7ceLZ",
        "colab_type": "code",
        "colab": {
          "base_uri": "https://localhost:8080/",
          "height": 71
        },
        "outputId": "04706ae2-98dd-4b0e-84a1-9d2d40a8a0a0"
      },
      "cell_type": "code",
      "source": [
        "z2=y*y*3\n",
        "out=z2.mean()\n",
        "print(z2,out)"
      ],
      "execution_count": 46,
      "outputs": [
        {
          "output_type": "stream",
          "text": [
            "tensor([[27., 27.],\n",
            "        [27., 27.]], grad_fn=<MulBackward0>) tensor(27., grad_fn=<MeanBackward1>)\n"
          ],
          "name": "stdout"
        }
      ]
    },
    {
      "metadata": {
        "id": "tOwdAASkeCnr",
        "colab_type": "text"
      },
      "cell_type": "markdown",
      "source": [
        "# 勾配計算\n",
        " \n",
        "*逆伝播の計算を行う* "
      ]
    },
    {
      "metadata": {
        "id": "UwQ2j9XBd6-s",
        "colab_type": "code",
        "colab": {}
      },
      "cell_type": "code",
      "source": [
        "out.backward()"
      ],
      "execution_count": 0,
      "outputs": []
    },
    {
      "metadata": {
        "id": "27Nn524Oeaxj",
        "colab_type": "code",
        "colab": {
          "base_uri": "https://localhost:8080/",
          "height": 51
        },
        "outputId": "e9fe9d12-36b8-4c0f-d292-93f92a147282"
      },
      "cell_type": "code",
      "source": [
        "x.grad"
      ],
      "execution_count": 48,
      "outputs": [
        {
          "output_type": "execute_result",
          "data": {
            "text/plain": [
              "tensor([[5.5000, 5.5000],\n",
              "        [5.5000, 5.5000]])"
            ]
          },
          "metadata": {
            "tags": []
          },
          "execution_count": 48
        }
      ]
    },
    {
      "metadata": {
        "id": "ZJn8it_weduu",
        "colab_type": "code",
        "colab": {
          "base_uri": "https://localhost:8080/",
          "height": 34
        },
        "outputId": "8083f07c-d37b-4eb5-906d-2cca23802b15"
      },
      "cell_type": "code",
      "source": [
        "x=torch.randn(3)\n",
        "x=Variable(x,requires_grad=True)\n",
        "\n",
        "y=x*2\n",
        "while y.data.norm()<1000:\n",
        "  y=y*2\n",
        "  \n",
        "print(y)"
      ],
      "execution_count": 55,
      "outputs": [
        {
          "output_type": "stream",
          "text": [
            "tensor([551.6786, 473.2256, 707.1232], grad_fn=<MulBackward0>)\n"
          ],
          "name": "stdout"
        }
      ]
    },
    {
      "metadata": {
        "id": "bLIQ-jCvgGsg",
        "colab_type": "code",
        "colab": {
          "base_uri": "https://localhost:8080/",
          "height": 34
        },
        "outputId": "23789211-cab3-40d0-fbaf-6a7ac791b26e"
      },
      "cell_type": "code",
      "source": [
        "gradients = torch.FloatTensor([0.1,1.0,0.0001])\n",
        "y.backward(gradients)\n",
        "\n",
        "print(x.grad)"
      ],
      "execution_count": 51,
      "outputs": [
        {
          "output_type": "stream",
          "text": [
            "tensor([1.0240e+02, 1.0240e+03, 1.0240e-01])\n"
          ],
          "name": "stdout"
        }
      ]
    },
    {
      "metadata": {
        "id": "80BHJ5l2glut",
        "colab_type": "code",
        "colab": {}
      },
      "cell_type": "code",
      "source": [
        "#手書き文字を分類するNN\n",
        "#パッケージのインポート\n",
        "import torch\n",
        "from torch.autograd  import Variable\n",
        "import torch.nn as nn\n",
        "import torch.nn.functional as F\n",
        "\n",
        "class Net(nn.Module):\n",
        "  \n",
        "  def __init__(self):\n",
        "    super(Net,self).__init__()\n",
        "    #1 input image channel, 6 output chabbels, 5*5 square convolution\n",
        "    #kernel\n",
        "    self.conv1=nn.Conv2d(1,6,5) #(input,channels output )\n",
        "    self.conv2=nn.Conv2d(6,16,5)\n",
        "    \n",
        "    #an affine operattion: y=Wx+b　,full connection\n",
        "    self.fc1=nn.Linear(16*5*5,120) #(input,output)\n",
        "    self.fc2=nn.Linear(120,84)\n",
        "    self.fc3=nn.Linear(84,10)\n",
        "    \n",
        "  def forward(self,x): \n",
        "    #max pooling over a (2,2) window\n",
        "    x=F.max_pool2d(F.relu(self.conv1(x)),(2,2))\n",
        "    #if the size is a square you can only specify a single number\n",
        "    x=F.max_pool2d(F.relu(self.conv2(x),2))\n",
        "    x=x.view(-1,self.num_flat_features(x))\n",
        "    x=F.relu(self.fc1(x))\n",
        "    x=F.relu(self.fc2(x))\n",
        "    x=self.fc3(x)\n",
        "    return x\n",
        "  \n",
        "  def num_flat_features(self,x):\n",
        "    size=x.size()[1:] #all dimensions except the batch dimension\n",
        "    num_features=1\n",
        "    for s in size:\n",
        "      num_features *= s\n",
        "      return num_features\n",
        "    \n",
        "\n",
        "  \n",
        "    "
      ],
      "execution_count": 0,
      "outputs": []
    },
    {
      "metadata": {
        "id": "wyg6LJzpo7OT",
        "colab_type": "code",
        "colab": {
          "base_uri": "https://localhost:8080/",
          "height": 136
        },
        "outputId": "8ef8b348-7e71-474f-b541-2df2aeb7a6b0"
      },
      "cell_type": "code",
      "source": [
        "net=Net()\n",
        "print(net)"
      ],
      "execution_count": 58,
      "outputs": [
        {
          "output_type": "stream",
          "text": [
            "Net(\n",
            "  (conv1): Conv2d(1, 6, kernel_size=(5, 5), stride=(1, 1))\n",
            "  (conv2): Conv2d(6, 16, kernel_size=(5, 5), stride=(1, 1))\n",
            "  (fc1): Linear(in_features=400, out_features=120, bias=True)\n",
            "  (fc2): Linear(in_features=120, out_features=84, bias=True)\n",
            "  (fc3): Linear(in_features=84, out_features=10, bias=True)\n",
            ")\n"
          ],
          "name": "stdout"
        }
      ]
    },
    {
      "metadata": {
        "id": "9Bip2vwio-UG",
        "colab_type": "code",
        "colab": {}
      },
      "cell_type": "code",
      "source": [
        ""
      ],
      "execution_count": 0,
      "outputs": []
    }
  ]
}