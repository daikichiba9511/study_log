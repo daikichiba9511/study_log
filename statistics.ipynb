{
  "nbformat": 4,
  "nbformat_minor": 0,
  "metadata": {
    "colab": {
      "name": "statistics.ipynb",
      "version": "0.3.2",
      "provenance": [],
      "include_colab_link": true
    },
    "kernelspec": {
      "name": "python3",
      "display_name": "Python 3"
    }
  },
  "cells": [
    {
      "cell_type": "markdown",
      "metadata": {
        "id": "view-in-github",
        "colab_type": "text"
      },
      "source": [
        "<a href=\"https://colab.research.google.com/github/daikichiba9511/study_log/blob/master/statistics.ipynb\" target=\"_parent\"><img src=\"https://colab.research.google.com/assets/colab-badge.svg\" alt=\"Open In Colab\"/></a>"
      ]
    },
    {
      "metadata": {
        "id": "oEq20Vv00S5o",
        "colab_type": "text"
      },
      "cell_type": "markdown",
      "source": [
        "*統計*\n",
        "\n",
        "**離散一様分布**\n",
        "\n"
      ]
    },
    {
      "metadata": {
        "id": "YoqEId3e0Y9y",
        "colab_type": "code",
        "colab": {}
      },
      "cell_type": "code",
      "source": [
        "import numpy as np\n",
        "from numpy.random import randn\n",
        "import pandas as pd\n",
        "from scipy import stats\n",
        "import matplotlib as mpl\n",
        "import matplotlib.pyplot as plt\n",
        "import seaborn as  sns\n",
        "\n",
        "%matplotlib inline\n"
      ],
      "execution_count": 0,
      "outputs": []
    },
    {
      "metadata": {
        "id": "ytm1C-ja1DN2",
        "colab_type": "text"
      },
      "cell_type": "markdown",
      "source": [
        "仮想的なサイコロを作って、その振る舞いを可視化する"
      ]
    },
    {
      "metadata": {
        "id": "DBYfRZOd1LQn",
        "colab_type": "code",
        "colab": {
          "base_uri": "https://localhost:8080/",
          "height": 269
        },
        "outputId": "04b76913-8777-46f4-c0d0-9abc190b0f39"
      },
      "cell_type": "code",
      "source": [
        "#確率質量関数(Probability Mass function)を作って描画する\n",
        "\n",
        "#サイコロの取りうる値\n",
        "roll_options =[1,2,3,4,5,6]\n",
        "\n",
        "#確率の総和は１\n",
        "tprob=1\n",
        "\n",
        "#公正なサイコロだったら、どの目も同じ確率ででる・\n",
        "prob_roll = tprob/len(roll_options)\n",
        "\n",
        "#描画\n",
        "uni_plot =plt.bar(roll_options,[prob_roll]*6) #６つ必要なので、かける６してる"
      ],
      "execution_count": 36,
      "outputs": [
        {
          "output_type": "display_data",
          "data": {
            "image/png": "[encoded data removed]",
            "text/plain": [
              "<Figure size 432x288 with 1 Axes>"
            ]
          },
          "metadata": {
            "tags": []
          }
        }
      ]
    },
    {
      "metadata": {
        "id": "e3ZVL3IvSsM8",
        "colab_type": "text"
      },
      "cell_type": "markdown",
      "source": [
        "**平均と分散**\n"
      ]
    },
    {
      "metadata": {
        "id": "wMXwnP35SzzF",
        "colab_type": "code",
        "colab": {
          "base_uri": "https://localhost:8080/",
          "height": 34
        },
        "outputId": "a56b801c-45f0-4395-80e1-31080d685126"
      },
      "cell_type": "code",
      "source": [
        "from scipy.stats import randint\n",
        "\n",
        "#最大の手前までなので、７\n",
        "low,high =1,7\n",
        "\n",
        "#このコードで離散一様分布の平均と分散を計算できる\n",
        "mean,var =randint.stats(low,high)\n",
        "print('平均＝{}, 分散＝{}'.format(mean,var))"
      ],
      "execution_count": 37,
      "outputs": [
        {
          "output_type": "stream",
          "text": [
            "平均＝3.5, 分散＝2.9166666666666665\n"
          ],
          "name": "stdout"
        }
      ]
    },
    {
      "metadata": {
        "id": "N7GehAeEUFTL",
        "colab_type": "code",
        "colab": {
          "base_uri": "https://localhost:8080/",
          "height": 286
        },
        "outputId": "fbf5a79c-c368-4e52-adbf-2686ba8d11b3"
      },
      "cell_type": "code",
      "source": [
        "#確率質量関数(Probably Mass Function)も簡単\n",
        "plt.bar(roll_options,randint.pmf(roll_options,low,high))"
      ],
      "execution_count": 38,
      "outputs": [
        {
          "output_type": "execute_result",
          "data": {
            "text/plain": [
              "<BarContainer object of 6 artists>"
            ]
          },
          "metadata": {
            "tags": []
          },
          "execution_count": 38
        },
        {
          "output_type": "display_data",
          "data": {
            "image/png": "[encoded data removed]",
            "text/plain": [
              "<Figure size 432x288 with 1 Axes>"
            ]
          },
          "metadata": {
            "tags": []
          }
        }
      ]
    },
    {
      "metadata": {
        "id": "LvX0h1K9U3hO",
        "colab_type": "text"
      },
      "cell_type": "markdown",
      "source": [
        " **German Tank Problem**"
      ]
    },
    {
      "metadata": {
        "id": "-o7GYi40U2sk",
        "colab_type": "code",
        "colab": {
          "base_uri": "https://localhost:8080/",
          "height": 34
        },
        "outputId": "9451b685-ae3d-44f7-9961-35940e4b3dcc"
      },
      "cell_type": "code",
      "source": [
        "a=19\n",
        "b=27\n",
        "\n",
        "#確率密度関数\n",
        "fx = 1 / (b-a)\n",
        "print(\"確率密度関数は{}です\".format(fx))"
      ],
      "execution_count": 39,
      "outputs": [
        {
          "output_type": "stream",
          "text": [
            "確率密度関数は0.125です\n"
          ],
          "name": "stdout"
        }
      ]
    },
    {
      "metadata": {
        "id": "TaYRRFBi9Nu1",
        "colab_type": "code",
        "colab": {
          "base_uri": "https://localhost:8080/",
          "height": 34
        },
        "outputId": "cce9aa4a-223b-43ec-eb63-f3cbf6cee65d"
      },
      "cell_type": "code",
      "source": [
        "#分散\n",
        "var =((b-a)**2)/12\n",
        "print(\"分散は{}です\".format(var))"
      ],
      "execution_count": 40,
      "outputs": [
        {
          "output_type": "stream",
          "text": [
            "分散は5.333333333333333です\n"
          ],
          "name": "stdout"
        }
      ]
    },
    {
      "metadata": {
        "id": "8iht3u8GFP44",
        "colab_type": "code",
        "colab": {}
      },
      "cell_type": "code",
      "source": [
        "#二項分布\n",
        "import scipy.special as sc\n",
        "#aの成功確率\n",
        "p_a=.72\n",
        "n_shooting_a=11\n",
        "#bの成功確率\n",
        "p_b=.48\n",
        "n_shooting_b=15\n",
        "\n",
        "#成功数\n",
        "k=9\n",
        "\n",
        "comb_a=sc.comb(n_shooting_a,k)\n",
        "\n",
        "prob_a=comb_a*(p_a**k)*((1-p_a)**(n_shooting_a - k ))\n",
        "\n",
        "#%で格納しておく\n",
        "prob_a=100*prob_a\n",
        "\n",
        "#bも同様に\n",
        "comb_b=sc.comb(n_shooting_b,k)\n",
        "prob_b=comb_b*(p_b**k)*((1-p_b)**(n_shooting_b - k ))\n",
        "prob_b=100*prob_b\n",
        "  "
      ],
      "execution_count": 0,
      "outputs": []
    },
    {
      "metadata": {
        "id": "GNn2UK1xF49Y",
        "colab_type": "code",
        "colab": {
          "base_uri": "https://localhost:8080/",
          "height": 51
        },
        "outputId": "b635d4b0-9071-49c2-9e54-6ed5277d4017"
      },
      "cell_type": "code",
      "source": [
        "print(\"Aの成功確率:{:0.2f}%,\\nBの成功確率:{:0.2f}%\".format(prob_a,prob_b))"
      ],
      "execution_count": 42,
      "outputs": [
        {
          "output_type": "stream",
          "text": [
            "Aの成功確率:22.42%,\n",
            "Bの成功確率:13.38%\n"
          ],
          "name": "stdout"
        }
      ]
    },
    {
      "metadata": {
        "id": "OsIn4zJ-Iyqb",
        "colab_type": "code",
        "colab": {
          "base_uri": "https://localhost:8080/",
          "height": 51
        },
        "outputId": "2dfb2f13-46b3-4de7-b00b-2e2e54bd2071"
      },
      "cell_type": "code",
      "source": [
        "from scipy.stats import binom\n",
        "mean,var = binom.stats(n_shooting_a,p_a)\n",
        "print(mean)\n",
        "print(var**0.5)\n"
      ],
      "execution_count": 43,
      "outputs": [
        {
          "output_type": "stream",
          "text": [
            "7.92\n",
            "1.4891608375189027\n"
          ],
          "name": "stdout"
        }
      ]
    },
    {
      "metadata": {
        "id": "mrrkNGZRKH6n",
        "colab_type": "code",
        "colab": {
          "base_uri": "https://localhost:8080/",
          "height": 34
        },
        "outputId": "9e22ebf8-f6a2-4d3f-f65b-4c1a2fb194b7"
      },
      "cell_type": "code",
      "source": [
        "#ポアソン分布\n",
        "from math import exp\n",
        "from math import factorial\n",
        "\n",
        "lamb=10\n",
        "#7である確率\n",
        "k=7\n",
        "\n",
        "#確率質量関数を用いて確率を計算する\n",
        "#factorialは階乗\n",
        "prob=(lamb**k)*exp(-lamb)/factorial(k)\n",
        "prob=prob*100\n",
        "\n",
        "print('{:0.3f}%'.format(prob))\n"
      ],
      "execution_count": 44,
      "outputs": [
        {
          "output_type": "stream",
          "text": [
            "9.008%\n"
          ],
          "name": "stdout"
        }
      ]
    },
    {
      "metadata": {
        "id": "D2OTsDgNSVD2",
        "colab_type": "code",
        "colab": {
          "base_uri": "https://localhost:8080/",
          "height": 286
        },
        "outputId": "a81ffcf4-cead-4e71-a335-e766e3296485"
      },
      "cell_type": "code",
      "source": [
        "import matplotlib as mpl\n",
        "import matplotlib.pyplot as plt\n",
        "import numpy as np\n",
        "%matplotlib inline\n",
        "from scipy import stats\n",
        "#平均を０\n",
        "mean=0\n",
        "#標準偏差1\n",
        "std=1\n",
        "#便宜的に領域を決める\n",
        "X=np.arange(-4,4,0.01)\n",
        "#値を計算する\n",
        "y=stats.norm.pdf(X,mean,std)\n",
        "plt.plot(X,y)"
      ],
      "execution_count": 45,
      "outputs": [
        {
          "output_type": "execute_result",
          "data": {
            "text/plain": [
              "[<matplotlib.lines.Line2D at 0x7fc01fe61898>]"
            ]
          },
          "metadata": {
            "tags": []
          },
          "execution_count": 45
        },
        {
          "output_type": "display_data",
          "data": {
            "image/png": "[encoded data removed]",
            "text/plain": [
              "<Figure size 432x288 with 1 Axes>"
            ]
          },
          "metadata": {
            "tags": []
          }
        }
      ]
    },
    {
      "metadata": {
        "id": "zoZ27lFL8ubH",
        "colab_type": "code",
        "colab": {}
      },
      "cell_type": "code",
      "source": [
        "#numpyを使って乱数を生成して正規分布を作る\n",
        "mu,sigma=0,0.1\n",
        "\n",
        "#正規分布に従う乱数を１０００こ生成する\n",
        "norm_set=np.random.normal(mu,sigma,1000)"
      ],
      "execution_count": 0,
      "outputs": []
    },
    {
      "metadata": {
        "id": "yc06HCSw9hlx",
        "colab_type": "code",
        "colab": {
          "base_uri": "https://localhost:8080/",
          "height": 575
        },
        "outputId": "ff38a74c-41f6-4a34-ab09-c4a3f0b5bbc8"
      },
      "cell_type": "code",
      "source": [
        "#seabornを使って表示\n",
        "import seaborn as sns\n",
        "plt.hist(norm_set,bins=50)"
      ],
      "execution_count": 47,
      "outputs": [
        {
          "output_type": "execute_result",
          "data": {
            "text/plain": [
              "(array([ 5.,  1.,  5.,  4.,  3.,  4.,  7., 11., 11., 21., 15., 20., 22.,\n",
              "        28., 28., 32., 41., 39., 42., 46., 40., 51., 32., 44., 37., 42.,\n",
              "        33., 41., 38., 27., 37., 20., 24., 28., 21., 22.,  8., 15., 11.,\n",
              "         7., 10.,  3.,  7.,  3.,  3.,  3.,  4.,  1.,  1.,  2.]),\n",
              " array([-2.60521977e-01, -2.49208161e-01, -2.37894345e-01, -2.26580529e-01,\n",
              "        -2.15266713e-01, -2.03952897e-01, -1.92639081e-01, -1.81325266e-01,\n",
              "        -1.70011450e-01, -1.58697634e-01, -1.47383818e-01, -1.36070002e-01,\n",
              "        -1.24756186e-01, -1.13442371e-01, -1.02128555e-01, -9.08147389e-02,\n",
              "        -7.95009231e-02, -6.81871072e-02, -5.68732914e-02, -4.55594755e-02,\n",
              "        -3.42456597e-02, -2.29318438e-02, -1.16180280e-02, -3.04212168e-04,\n",
              "         1.10096037e-02,  2.23234195e-02,  3.36372354e-02,  4.49510512e-02,\n",
              "         5.62648670e-02,  6.75786829e-02,  7.88924987e-02,  9.02063146e-02,\n",
              "         1.01520130e-01,  1.12833946e-01,  1.24147762e-01,  1.35461578e-01,\n",
              "         1.46775394e-01,  1.58089210e-01,  1.69403025e-01,  1.80716841e-01,\n",
              "         1.92030657e-01,  2.03344473e-01,  2.14658289e-01,  2.25972105e-01,\n",
              "         2.37285920e-01,  2.48599736e-01,  2.59913552e-01,  2.71227368e-01,\n",
              "         2.82541184e-01,  2.93855000e-01,  3.05168816e-01]),\n",
              " <a list of 50 Patch objects>)"
            ]
          },
          "metadata": {
            "tags": []
          },
          "execution_count": 47
        },
        {
          "output_type": "display_data",
          "data": {
            "image/png": "[encoded data removed]",
            "text/plain": [
              "<Figure size 432x288 with 1 Axes>"
            ]
          },
          "metadata": {
            "tags": []
          }
        }
      ]
    },
    {
      "metadata": {
        "id": "5yihkXloJSzo",
        "colab_type": "code",
        "colab": {
          "base_uri": "https://localhost:8080/",
          "height": 286
        },
        "outputId": "fa6033db-c22e-46ed-deb3-094fadd8377c"
      },
      "cell_type": "code",
      "source": [
        "#t分布\n",
        "from scipy.stats import t\n",
        "\n",
        "#x軸の数字を用意します。\n",
        "x=np.linspace(-5,5,100)\n",
        "\n",
        "#自由度3の分布\n",
        "rv=t(3)\n",
        "\n",
        "#確率密度関数(PDF)を書きます\n",
        "plt.plot(x,rv.pdf(x))"
      ],
      "execution_count": 48,
      "outputs": [
        {
          "output_type": "execute_result",
          "data": {
            "text/plain": [
              "[<matplotlib.lines.Line2D at 0x7fc01fd15be0>]"
            ]
          },
          "metadata": {
            "tags": []
          },
          "execution_count": 48
        },
        {
          "output_type": "display_data",
          "data": {
            "image/png": "[encoded data removed]",
            "text/plain": [
              "<Figure size 432x288 with 1 Axes>"
            ]
          },
          "metadata": {
            "tags": []
          }
        }
      ]
    },
    {
      "metadata": {
        "id": "LCrIO121jLh3",
        "colab_type": "code",
        "colab": {
          "base_uri": "https://localhost:8080/",
          "height": 663
        },
        "outputId": "68d72643-1b0b-498b-cbf3-8913dc8b14bc"
      },
      "cell_type": "code",
      "source": [
        "!pip install pyvirtualdisplay\n",
        "!sudo apt-get install xvfb"
      ],
      "execution_count": 1,
      "outputs": [
        {
          "output_type": "stream",
          "text": [
            "Collecting pyvirtualdisplay\n",
            "  Downloading https://files.pythonhosted.org/packages/39/37/f285403a09cc261c56b6574baace1bdcf4b8c7428c8a7239cbba137bc0eb/PyVirtualDisplay-0.2.1.tar.gz\n",
            "Collecting EasyProcess (from pyvirtualdisplay)\n",
            "  Downloading https://files.pythonhosted.org/packages/45/3a/4eecc0c7995a13a64739bbedc0d3691fc574245b7e79cff81905aa0c2b38/EasyProcess-0.2.5.tar.gz\n",
            "Building wheels for collected packages: pyvirtualdisplay, EasyProcess\n",
            "  Building wheel for pyvirtualdisplay (setup.py) ... \u001b[?25ldone\n",
            "\u001b[?25h  Stored in directory: /root/.cache/pip/wheels/d1/8c/16/1c64227974ae29c687e4cc30fd691d5c0fd40f54446dde99da\n",
            "  Building wheel for EasyProcess (setup.py) ... \u001b[?25ldone\n",
            "\u001b[?25h  Stored in directory: /root/.cache/pip/wheels/41/22/19/af15ef6264c58b625a82641ed7483ad05e258fbd8925505227\n",
            "Successfully built pyvirtualdisplay EasyProcess\n",
            "Installing collected packages: EasyProcess, pyvirtualdisplay\n",
            "Successfully installed EasyProcess-0.2.5 pyvirtualdisplay-0.2.1\n",
            "Reading package lists... Done\n",
            "Building dependency tree       \n",
            "Reading state information... Done\n",
            "The following package was automatically installed and is no longer required:\n",
            "  libnvidia-common-410\n",
            "Use 'sudo apt autoremove' to remove it.\n",
            "The following NEW packages will be installed:\n",
            "  xvfb\n",
            "0 upgraded, 1 newly installed, 0 to remove and 6 not upgraded.\n",
            "Need to get 783 kB of archives.\n",
            "After this operation, 2,266 kB of additional disk space will be used.\n",
            "Get:1 http://archive.ubuntu.com/ubuntu bionic-updates/universe amd64 xvfb amd64 2:1.19.6-1ubuntu4.2 [783 kB]\n",
            "Fetched 783 kB in 1s (1,124 kB/s)\n",
            "debconf: unable to initialize frontend: Dialog\n",
            "debconf: (No usable dialog-like program is installed, so the dialog based frontend cannot be used. at /usr/share/perl5/Debconf/FrontEnd/Dialog.pm line 76, <> line 1.)\n",
            "debconf: falling back to frontend: Readline\n",
            "debconf: unable to initialize frontend: Readline\n",
            "debconf: (This frontend requires a controlling tty.)\n",
            "debconf: falling back to frontend: Teletype\n",
            "dpkg-preconfigure: unable to re-open stdin: \n",
            "Selecting previously unselected package xvfb.\n",
            "(Reading database ... 131304 files and directories currently installed.)\n",
            "Preparing to unpack .../xvfb_2%3a1.19.6-1ubuntu4.2_amd64.deb ...\n",
            "Unpacking xvfb (2:1.19.6-1ubuntu4.2) ...\n",
            "Setting up xvfb (2:1.19.6-1ubuntu4.2) ...\n",
            "Processing triggers for man-db (2.8.3-2ubuntu0.1) ...\n"
          ],
          "name": "stdout"
        }
      ]
    },
    {
      "metadata": {
        "id": "GjetS6_fjna9",
        "colab_type": "code",
        "colab": {}
      },
      "cell_type": "code",
      "source": [
        "#仮装ディスプレイを起動\n",
        "from pyvirtualdisplay import Display\n",
        "display = Display(visible=0,size=(1024,768))\n",
        "display.start()\n",
        "import os\n",
        "os.environ[\"DISPLAY\"]=\":\"+str(display.display)+\".\"+str(display.screen)"
      ],
      "execution_count": 0,
      "outputs": []
    },
    {
      "metadata": {
        "id": "AzDIwH3IWU8A",
        "colab_type": "code",
        "colab": {
          "base_uri": "https://localhost:8080/",
          "height": 34
        },
        "outputId": "1fb171de-d590-4126-ddc0-761a67da9b0b"
      },
      "cell_type": "code",
      "source": [
        "from IPython.display import Image,display_jpeg\n",
        "%matplotlib inline\n",
        "url='htttp//images.flatworldknowledge.com/shafer/shafer-fig08_004.jpg'\n",
        "display_jpeg(Image(url))\n",
        "Image(url)"
      ],
      "execution_count": 24,
      "outputs": [
        {
          "output_type": "execute_result",
          "data": {
            "image/png": "htttp//images.flatworldknowledge.com/shafer/shafer-fig08_004.jpg",
            "text/plain": [
              "<IPython.core.display.Image object>"
            ]
          },
          "metadata": {
            "tags": []
          },
          "execution_count": 24
        }
      ]
    },
    {
      "metadata": {
        "id": "82OHWBSuXEBX",
        "colab_type": "code",
        "colab": {
          "base_uri": "https://localhost:8080/",
          "height": 34
        },
        "outputId": "4be2b46e-6cb5-420c-93e8-06792acbd728"
      },
      "cell_type": "code",
      "source": [
        "#帰無仮説\n",
        "import scipy.stats as ss\n",
        "ss.norm.cdf(2.12,0,1)\n"
      ],
      "execution_count": 1,
      "outputs": [
        {
          "output_type": "execute_result",
          "data": {
            "text/plain": [
              "0.9829969773523672"
            ]
          },
          "metadata": {
            "tags": []
          },
          "execution_count": 1
        }
      ]
    },
    {
      "metadata": {
        "id": "chPwmujOr_Fo",
        "colab_type": "code",
        "colab": {
          "base_uri": "https://localhost:8080/",
          "height": 34
        },
        "outputId": "a8cbfbc8-9ab8-4c80-b3f9-dfdae85bd2c4"
      },
      "cell_type": "code",
      "source": [
        "#p値\n",
        "p=1-ss.norm.cdf(2.12,0,1)\n",
        "print(p)"
      ],
      "execution_count": 2,
      "outputs": [
        {
          "output_type": "stream",
          "text": [
            "0.01700302264763276\n"
          ],
          "name": "stdout"
        }
      ]
    },
    {
      "metadata": {
        "id": "bgyLbN1UsX9P",
        "colab_type": "text"
      },
      "cell_type": "markdown",
      "source": [
        "*信頼区間*"
      ]
    },
    {
      "metadata": {
        "id": "zoYbY7TTsaAX",
        "colab_type": "code",
        "colab": {}
      },
      "cell_type": "code",
      "source": [
        ""
      ],
      "execution_count": 0,
      "outputs": []
    }
  ]
}