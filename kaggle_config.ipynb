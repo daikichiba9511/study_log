{
  "nbformat": 4,
  "nbformat_minor": 0,
  "metadata": {
    "colab": {
      "name": "kaggle_config.ipynb",
      "version": "0.3.2",
      "provenance": [],
      "collapsed_sections": [],
      "toc_visible": true
    },
    "kernelspec": {
      "name": "python3",
      "display_name": "Python 3"
    },
    "accelerator": "GPU"
  },
  "cells": [
    {
      "cell_type": "markdown",
      "metadata": {
        "id": "jx5vyygSXIYo",
        "colab_type": "text"
      },
      "source": [
        "# Config for kaggle to use google colab"
      ]
    },
    {
      "cell_type": "markdown",
      "metadata": {
        "id": "ESQnADz8Xegq",
        "colab_type": "text"
      },
      "source": [
        "## 2. what is the most fastest thing that you should get kaggle API\n",
        "\n",
        "First,go to your kaggle account page and create New API token.\n",
        "\n",
        "then,start to download 'kaggle.json' file.\n",
        "\n",
        "Open the file and it should be in this format:\n",
        "\n",
        "` {“username”:”YOUR-USER-NAME”,”key”:”SOMETHING-VERY-LONG”}`\n",
        "\n",
        "you can save it on google drive.\n"
      ]
    },
    {
      "cell_type": "code",
      "metadata": {
        "id": "SZpjcKYnQEvB",
        "colab_type": "code",
        "colab": {}
      },
      "source": [
        "!pip3 install kaggle"
      ],
      "execution_count": 0,
      "outputs": []
    },
    {
      "cell_type": "code",
      "metadata": {
        "id": "kSh0YPQBQKiN",
        "colab_type": "code",
        "colab": {}
      },
      "source": [
        "from google.colab import drive\n",
        "drive.mount(\"/content/drive\")"
      ],
      "execution_count": 0,
      "outputs": []
    },
    {
      "cell_type": "code",
      "metadata": {
        "id": "294eqnpuel9j",
        "colab_type": "code",
        "colab": {
          "base_uri": "https://localhost:8080/",
          "height": 34
        },
        "outputId": "779f82f5-397e-47b6-cb59-ae8a3b881a7d"
      },
      "source": [
        "# download API key from google drive\n",
        "## Original: https://colab.research.google.com/drive/1eufc8aNCdjHbrBhuy7M7X6BGyzAyRbrF#scrollTo=y5_288BYp6H1\n",
        "## When you run for the first time, you will see a link to authenticate.\n",
        "\n",
        "from googleapiclient.discovery import build\n",
        "import io, os\n",
        "from googleapiclient.http import MediaIoBaseDownload\n",
        "from google.colab import auth\n",
        "\n",
        "auth.authenticate_user()\n",
        "\n",
        "drive_service = build('drive', 'v3')\n",
        "results = drive_service.files().list(\n",
        "        q=\"name = 'kaggle.json'\", fields=\"files(id)\").execute()\n",
        "kaggle_api_key = results.get('files', [])\n",
        "\n",
        "filename = \"/root/.kaggle/kaggle.json\"\n",
        "os.makedirs(os.path.dirname(filename), exist_ok=True)\n",
        "\n",
        "request = drive_service.files().get_media(fileId=kaggle_api_key[0]['id'])\n",
        "fh = io.FileIO(filename, 'wb')\n",
        "downloader = MediaIoBaseDownload(fh, request)\n",
        "done = False\n",
        "while done is False:\n",
        "    status, done = downloader.next_chunk()\n",
        "    print(\"Download %d%%.\" % int(status.progress() * 100))\n",
        "os.chmod(filename, 600)"
      ],
      "execution_count": 1,
      "outputs": [
        {
          "output_type": "stream",
          "text": [
            "Download 100%.\n"
          ],
          "name": "stdout"
        }
      ]
    },
    {
      "cell_type": "code",
      "metadata": {
        "id": "OnGdDJHlfdjN",
        "colab_type": "code",
        "colab": {
          "base_uri": "https://localhost:8080/",
          "height": 391
        },
        "outputId": "88e041d9-37c8-476b-ee24-9839e62b1080"
      },
      "source": [
        "!kaggle competitions list"
      ],
      "execution_count": 2,
      "outputs": [
        {
          "output_type": "stream",
          "text": [
            "ref                                                deadline             category            reward  teamCount  userHasEntered  \n",
            "-------------------------------------------------  -------------------  ---------------  ---------  ---------  --------------  \n",
            "digit-recognizer                                   2030-01-01 00:00:00  Getting Started  Knowledge       3021           False  \n",
            "titanic                                            2030-01-01 00:00:00  Getting Started  Knowledge      11618            True  \n",
            "house-prices-advanced-regression-techniques        2030-01-01 00:00:00  Getting Started  Knowledge       4433           False  \n",
            "imagenet-object-localization-challenge             2029-12-31 07:00:00  Research         Knowledge         47           False  \n",
            "competitive-data-science-predict-future-sales      2019-12-31 23:59:00  Playground           Kudos       3646           False  \n",
            "open-images-2019-object-detection                  2019-10-01 23:59:00  Research           $25,000        233           False  \n",
            "open-images-2019-visual-relationship               2019-10-01 23:59:00  Research           $25,000         86           False  \n",
            "open-images-2019-instance-segmentation             2019-10-01 23:59:00  Research           $25,000         23           False  \n",
            "recursion-cellular-image-classification            2019-09-26 23:59:00  Research           $13,000        427           False  \n",
            "youtube8m-2019                                     2019-09-13 23:59:00  Research           $25,000        116           False  \n",
            "aptos2019-blindness-detection                      2019-09-05 23:59:00  Featured           $50,000       1244           False  \n",
            "siim-acr-pneumothorax-segmentation                 2019-09-04 23:59:00  Featured           $30,000        955           False  \n",
            "champs-scalar-coupling                             2019-08-28 23:59:00  Featured           $30,000       1849            True  \n",
            "generative-dog-images                              2019-08-09 23:59:00  Research           $10,000        443           False  \n",
            "two-sigma-financial-news                           2019-08-05 23:59:00  Featured          $100,000       2927           False  \n",
            "recognizing-faces-in-the-wild                      2019-08-01 23:59:00  Playground       Knowledge        449           False  \n",
            "jigsaw-unintended-bias-in-toxicity-classification  2019-07-19 23:59:00  Featured           $65,000       3162           False  \n",
            "aerial-cactus-identification                       2019-07-08 23:59:00  Playground       Knowledge       1228           False  \n",
            "data-science-for-good-city-of-los-angeles          2019-06-21 23:59:00  Analytics          $15,000          0           False  \n",
            "instant-gratification                              2019-06-20 23:59:00  Featured            $5,000       1836            True  \n"
          ],
          "name": "stdout"
        }
      ]
    }
  ]
}